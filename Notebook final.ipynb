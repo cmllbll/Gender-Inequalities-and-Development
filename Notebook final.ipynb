{
 "cells": [
  {
   "cell_type": "markdown",
   "id": "be110755",
   "metadata": {},
   "source": [
    "Avant de débuter, il est nécessaire d'avoir installé sur son environnement Python les packages sous les versions suivantes: \n",
    "\n",
    "- geopandas>=0.10\n",
    "- numpy>=1.21\n",
    "- pycountry>=20.7\n",
    "- pandas>=1.3.4\n",
    "- PACKAGE JULIE ? "
   ]
  },
  {
   "cell_type": "markdown",
   "id": "e2c86e59",
   "metadata": {},
   "source": [
    "# Introduction "
   ]
  },
  {
   "cell_type": "markdown",
   "id": "332139c5",
   "metadata": {},
   "source": [
    "# I) Travail préalable de récupération des données"
   ]
  },
  {
   "cell_type": "markdown",
   "id": "a2b2abb4",
   "metadata": {},
   "source": [
    "- on raconte comment on a trouvé les données avec les liens \n",
    "- on fait le scrapping qu'on exporte dans des excels avec lun nom cohérent\n",
    "- nettoyage des bases de données monde + ocde"
   ]
  },
  {
   "cell_type": "markdown",
   "id": "1221ef24",
   "metadata": {},
   "source": [
    "# II) Sélection des indicateurs pertinents"
   ]
  },
  {
   "cell_type": "markdown",
   "id": "4deda38c",
   "metadata": {},
   "source": [
    "- stats descriptives sur les indicateurs de la banque mondiale, ocde,... avec sélection des variables women, female,... \n",
    "- parler d'indicateurs pertinents et pas pertinents \n",
    "- à la fin mettre le tableau des proportionnalités de Julie"
   ]
  },
  {
   "cell_type": "markdown",
   "id": "97c8519c",
   "metadata": {},
   "source": [
    "# III) Création de la base de données"
   ]
  },
  {
   "cell_type": "markdown",
   "id": "d1bfb580",
   "metadata": {},
   "source": [
    "- je pense qu'ici il faudrait qu'on ait une base globale avec tous les indicateurs pertinets fusionnés de l'OCDE, banque mondiale,... (il me semble que c'est dans les consignes mais pas sure il faudriat vérifier)"
   ]
  },
  {
   "cell_type": "markdown",
   "id": "c900303c",
   "metadata": {},
   "source": [
    "# IV) Création des indicateurs dimensionnels des inégalités hommes/femmes"
   ]
  },
  {
   "cell_type": "markdown",
   "id": "5a6689ad",
   "metadata": {},
   "source": [
    "- au début on met les fonctions qui permettent de sélectionner les variables + de normaliser dans la base globale qu'on a créée + pondéraion\n",
    "- création de chaque indicateur avec pondérations "
   ]
  },
  {
   "cell_type": "markdown",
   "id": "f44b6ce1",
   "metadata": {},
   "source": [
    "# V) Création de l'indicateur global "
   ]
  },
  {
   "cell_type": "markdown",
   "id": "233b698d",
   "metadata": {},
   "source": [
    "- indicateur global \n",
    "- régression"
   ]
  },
  {
   "cell_type": "markdown",
   "id": "cd502947",
   "metadata": {},
   "source": [
    "# VI) Statistiques globales sur l'indicateur"
   ]
  },
  {
   "cell_type": "markdown",
   "id": "e4fe995a",
   "metadata": {},
   "source": [
    "- boxplot \n",
    "- graph en bâtons par continents "
   ]
  },
  {
   "cell_type": "markdown",
   "id": "e1b39558",
   "metadata": {},
   "source": [
    "# VII) Visualisation de l'indicateur "
   ]
  },
  {
   "cell_type": "markdown",
   "id": "09ec3fb5",
   "metadata": {},
   "source": [
    "- carte"
   ]
  },
  {
   "cell_type": "markdown",
   "id": "17d2c10b",
   "metadata": {},
   "source": [
    "# Conclusion"
   ]
  }
 ],
 "metadata": {
  "kernelspec": {
   "display_name": "Python 3 (ipykernel)",
   "language": "python",
   "name": "python3"
  },
  "language_info": {
   "codemirror_mode": {
    "name": "ipython",
    "version": 3
   },
   "file_extension": ".py",
   "mimetype": "text/x-python",
   "name": "python",
   "nbconvert_exporter": "python",
   "pygments_lexer": "ipython3",
   "version": "3.8.12"
  }
 },
 "nbformat": 4,
 "nbformat_minor": 5
}
