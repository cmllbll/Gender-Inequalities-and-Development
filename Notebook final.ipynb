{
 "cells": [
  {
   "cell_type": "markdown",
   "metadata": {},
   "source": [
    "# Inégalités de genre et développement économique \n",
    "Camille BALLU, Gaëlle DORMION et Julie NOWACK, 2A ENSAE Paris, Janvier 2022"
   ]
  },
  {
   "cell_type": "markdown",
   "metadata": {},
   "source": [
    "# Introduction "
   ]
  },
  {
   "cell_type": "markdown",
   "metadata": {},
   "source": [
    "Selon l'OCDE, l'Organisme de Coopération et de Développement Economique, \"Les économies sont plus résilientes, productives et inclusives lorsqu'elles réduisent les inégalités entre les sexes et soutiennent activement la participation égale des femmes dans toutes les sphères de la vie\". L'idée selon laquelle les inégalités de genre freinent le développement tant sur un plan économique qu'humain semble mise en avant ici.\n",
    "\n",
    "C'est ce qui nous a conduites à étudier le lien entre la situation économique et sociale des femmes et le niveau de développement du pays. Nous avons modélisé le niveau de développement des pays en nous appuyant sur plusieurs indicateurs: le PIB (Produit Intérieur Brut) par tête et l'IDH (Indice de Développement Humain).  \n",
    "\n",
    "Pour mesurer ce lien, nous avons construit un indicateur multidimensionnel qui évalue l'impact de la condition des femmes sur le développement. En nous inspirant des travaux menés sur le GII (Gender Inequality Index), cet indicateur prend en compte de multiples facettes de la situation des femmes en lien avec leur activité et ressources économiques, leur santé, l'autonomie vis-à-vis de leurs corps, leur éducation, leur représentation au niveau politique, ou encore leur famille. Lorsque cela a été possible, nous avons choisi de comparer la situation des femmes à celle des hommes dans un même pays.\n",
    "\n",
    "Pour mener ce travail, nous nous appuyons principalement sur les données de l'OCDE et de la Banque mondiale ainsi que des données scrappées. "
   ]
  },
  {
   "cell_type": "markdown",
   "metadata": {},
   "source": [
    "Avant de débuter, il est nécessaire d'avoir installé sur son environnement Python les packages sous les versions suivantes: \n",
    "\n",
    "- geopandas>=0.10\n",
    "- numpy>=1.21\n",
    "- pycountry>=20.7\n",
    "- pandas>=1.3.4\n",
    "- PACKAGE JULIE ? "
   ]
  },
  {
   "cell_type": "code",
   "execution_count": 1,
   "metadata": {},
   "outputs": [],
   "source": [
    "import numpy as np\n",
    "import pandas\n",
    "import pandas as pd\n",
    "import matplotlib.pyplot as plt\n",
    "import pycountry \n",
    "import urllib\n",
    "import bs4\n",
    "from urllib import request\n",
    "import statsmodels.api as sm"
   ]
  },
  {
   "cell_type": "markdown",
   "metadata": {},
   "source": [
    "# 1. Travail préalable de récupération des données"
   ]
  },
  {
   "cell_type": "markdown",
   "metadata": {},
   "source": [
    "## 1.1. Récupération des données sous le format csv"
   ]
  },
  {
   "cell_type": "markdown",
   "metadata": {},
   "source": [
    "Les données que nous utilisons proviennent de différentes sources. Nous travaillons principalement sur la base WDIData de la Banque Mondiale ainsi que sur la base de 2019 de l'OCDE, mais nous avons dû également scrapper certaines données qui nous paraissaient essentielles à l'étude de la situation des femmes à l'image du taux de fertilité par femme (présent mais de façon incomplète dans la base de donnée de la Banque Mondiale) ou encore du droit à l'avortement, sur des sites comme Wikipédia. Nous avons choisi dans l'ensemble de restreindre l'étude à l'année 2019 qui est la dernière année relativement bien documentée avant l'arrivée de la pandémie. \n",
    "\n",
    "Nous avons téléchargé nos fichiers .csv sur les sites suivants:\n",
    "- Données de la Banque mondiale (fichier CSV \"WDIData.csv\" disponible à l'adresse suivante: https://datacatalog.worldbank.org/search/dataset/0037712/World-Development-Indicators?fbclid=IwAR2nT7GW8KtjcMaN6VCc3zAuNVPXsGJ8Ew9AvPACwE4703KmMoyiQuRGkc8). Cette base permet de recueillir des données relatives à la situation économique et sociale d'un pays depuis 1960.  \n",
    "- Données de l'OCDE (fichier CSV \"GIDDB2019_05012022164738556.csv\" (et renommé \"oecd3.csv\" dans la suite du projet) disponible à l'adresse suivante: https://stats.oecd.org/viewhtml.aspx?datasetcode=GIDDB2019&lang=fr). Des données relatives à l'égalité homme-femme y sont disponibles pour l'année 2019. \n",
    "\n",
    "- Données de l'Union Interparlementaire, disponibles aux adresses suivantes (3 Data set) : https://data.ipu.org/fr/women-ranking?month=11&year=2021 pour le pourcentage de femmes au sein des parlements, https://data.ipu.org/fr/specialized-bodies/fr?sb_theme=106 pour l'existence d'organe spécialisé dans la question de l'égalité des sexes et https://data.ipu.org/fr/compare?field=chamber%3A%3Afield_is_electoral_quota_women&structure=any__lower_chamber#map pour les données sur l'existence de quotas éllectoraux au parlement des différents pays. "
   ]
  },
  {
   "cell_type": "markdown",
   "metadata": {},
   "source": [
    "## 1.2. Scrapping des données"
   ]
  },
  {
   "cell_type": "markdown",
   "metadata": {},
   "source": [
    "### 1.2.1. Scrapping du taux de fertilité "
   ]
  },
  {
   "cell_type": "code",
   "execution_count": 2,
   "metadata": {},
   "outputs": [],
   "source": [
    "#Scrapping du taux de fertilité sur Wikipédia (en anglais)\n",
    "url_fertility_tx = \"https://en.wikipedia.org/wiki/List_of_sovereign_states_and_dependencies_by_total_fertility_rate\"\n",
    "request_text = request.urlopen(url_fertility_tx).read() \n",
    "page = bs4.BeautifulSoup(request_text, \"lxml\")\n",
    "table_fertility_tx = page.find('table', {'class' : 'wikitable sortable'})\n",
    "table_body = table_fertility_tx.find('tbody')\n",
    "\n",
    "rows = table_body.find_all('tr')\n",
    "cols = rows[1].find_all('td')\n",
    "\n",
    "dico_fertility = dict()\n",
    "for row in rows:\n",
    "    cols = row.find_all('td')\n",
    "    cols = [ele.text.strip() for ele in cols]\n",
    "    if len(cols) > 0 : \n",
    "        dico_fertility[cols[1]] = cols[2:]"
   ]
  },
  {
   "cell_type": "code",
   "execution_count": 3,
   "metadata": {},
   "outputs": [],
   "source": [
    "#On organise les données dans un dataframe\n",
    "data_fertility = pandas.DataFrame.from_dict(dico_fertility,orient='index')"
   ]
  },
  {
   "cell_type": "markdown",
   "metadata": {},
   "source": [
    "Il s'agit désormais de nettoyer les données scrappées et de les mettre en forme pour pouvoir les exploiter après. "
   ]
  },
  {
   "cell_type": "code",
   "execution_count": 4,
   "metadata": {},
   "outputs": [
    {
     "name": "stdout",
     "output_type": "stream",
     "text": [
      "[<th>Rank</th>, <th>Country</th>, <th>Fertility rate <br/> in 2019<br/><small>(births/woman)</small>\n",
      "</th>]\n",
      "[]\n",
      "[]\n",
      "[]\n",
      "[]\n",
      "[]\n",
      "[]\n",
      "[]\n",
      "[]\n",
      "[]\n",
      "[]\n",
      "[]\n",
      "[]\n",
      "[]\n",
      "[]\n",
      "[]\n",
      "[]\n",
      "[]\n",
      "[]\n",
      "[]\n",
      "[]\n",
      "[]\n",
      "[]\n",
      "[]\n",
      "[]\n",
      "[]\n",
      "[]\n",
      "[]\n",
      "[]\n",
      "[]\n",
      "[]\n",
      "[]\n",
      "[]\n",
      "[]\n",
      "[]\n",
      "[]\n",
      "[]\n",
      "[]\n",
      "[]\n",
      "[]\n",
      "[]\n",
      "[]\n",
      "[]\n",
      "[]\n",
      "[]\n",
      "[]\n",
      "[]\n",
      "[]\n",
      "[]\n",
      "[]\n",
      "[]\n",
      "[]\n",
      "[]\n",
      "[]\n",
      "[]\n",
      "[]\n",
      "[]\n",
      "[]\n",
      "[]\n",
      "[]\n",
      "[]\n",
      "[]\n",
      "[]\n",
      "[]\n",
      "[]\n",
      "[]\n",
      "[]\n",
      "[]\n",
      "[]\n",
      "[]\n",
      "[]\n",
      "[]\n",
      "[]\n",
      "[]\n",
      "[]\n",
      "[]\n",
      "[]\n",
      "[]\n",
      "[]\n",
      "[]\n",
      "[]\n",
      "[]\n",
      "[]\n",
      "[]\n",
      "[]\n",
      "[]\n",
      "[]\n",
      "[]\n",
      "[]\n",
      "[]\n",
      "[]\n",
      "[]\n",
      "[]\n",
      "[]\n",
      "[]\n",
      "[]\n",
      "[]\n",
      "[]\n",
      "[]\n",
      "[]\n",
      "[]\n",
      "[]\n",
      "[]\n",
      "[]\n",
      "[]\n",
      "[]\n",
      "[]\n",
      "[]\n",
      "[]\n",
      "[]\n",
      "[]\n",
      "[]\n",
      "[]\n",
      "[]\n",
      "[]\n",
      "[]\n",
      "[]\n",
      "[]\n",
      "[]\n",
      "[]\n",
      "[]\n",
      "[]\n",
      "[]\n",
      "[]\n",
      "[]\n",
      "[]\n",
      "[]\n",
      "[]\n",
      "[]\n",
      "[]\n",
      "[]\n",
      "[]\n",
      "[]\n",
      "[]\n",
      "[]\n",
      "[]\n",
      "[]\n",
      "[]\n",
      "[]\n",
      "[]\n",
      "[]\n",
      "[]\n",
      "[]\n",
      "[]\n",
      "[]\n",
      "[]\n",
      "[]\n",
      "[]\n",
      "[]\n",
      "[]\n",
      "[]\n",
      "[]\n",
      "[]\n",
      "[]\n",
      "[]\n",
      "[]\n",
      "[]\n",
      "[]\n",
      "[]\n",
      "[]\n",
      "[]\n",
      "[]\n",
      "[]\n",
      "[]\n",
      "[]\n",
      "[]\n",
      "[]\n",
      "[]\n",
      "[]\n",
      "[]\n",
      "[]\n",
      "[]\n",
      "[]\n",
      "[]\n",
      "[]\n",
      "[]\n",
      "[]\n",
      "[]\n",
      "[]\n",
      "[]\n",
      "[]\n",
      "[]\n",
      "[]\n",
      "[]\n",
      "[]\n",
      "[]\n",
      "[]\n",
      "[]\n",
      "[]\n",
      "[]\n",
      "[]\n",
      "[]\n",
      "[]\n",
      "[]\n",
      "[]\n",
      "[]\n",
      "[]\n",
      "[]\n",
      "[]\n",
      "[]\n",
      "[]\n",
      "[]\n",
      "[]\n",
      "[]\n",
      "[]\n",
      "[]\n",
      "[]\n",
      "[]\n",
      "[]\n",
      "[]\n",
      "[]\n",
      "[]\n",
      "[]\n",
      "[]\n",
      "[]\n",
      "[]\n",
      "[]\n",
      "[]\n",
      "[]\n",
      "[]\n",
      "[]\n",
      "[]\n",
      "[]\n",
      "[]\n",
      "[]\n",
      "[]\n",
      "[]\n",
      "[]\n",
      "[]\n",
      "[]\n",
      "[]\n",
      "[]\n",
      "[]\n",
      "[]\n",
      "[]\n",
      "[]\n",
      "[]\n",
      "[]\n",
      "[]\n",
      "[]\n",
      "[]\n",
      "[]\n",
      "[]\n",
      "[]\n",
      "[]\n",
      "[]\n",
      "[]\n",
      "[]\n",
      "[]\n",
      "[]\n",
      "[]\n",
      "[]\n",
      "[]\n",
      "[]\n",
      "[]\n",
      "[]\n",
      "[]\n",
      "[]\n",
      "[]\n",
      "[]\n",
      "[]\n",
      "[]\n",
      "[]\n",
      "[]\n",
      "[]\n",
      "[]\n",
      "[]\n"
     ]
    }
   ],
   "source": [
    "#On réorganise tout d'abord les colonnes du dataframe\n",
    "for row in rows:\n",
    "    cols = row.find_all('th')\n",
    "    print(cols)\n",
    "    if len(cols) > 0 : \n",
    "        cols = [ele.get_text(separator=' ').strip().title() for ele in cols]\n",
    "        columns_pays = cols"
   ]
  },
  {
   "cell_type": "code",
   "execution_count": 5,
   "metadata": {},
   "outputs": [],
   "source": [
    "data_fertility.columns = columns_pays[2:]\n",
    "data_fertility.reset_index(inplace=True)\n",
    "data_fertility.rename(columns={'index': 'Country Name'}, inplace=True)\n",
    "data_fertility.rename(columns={'Fertility Rate   In 2019 (Births/Woman)': 'Fertility'}, inplace=True)"
   ]
  },
  {
   "cell_type": "markdown",
   "metadata": {},
   "source": [
    "A l'aide du package pycountry de python, on peut ajouter au dataframe une colonne indiquant le code du pays, présent dans la base de données de la banque mondiale et dans la base de données de l'OCDE  et que nous allons utiliser par la suite pour la création des indicateurs car les pays des deux bases sont donnés respectivement en anglais et en français."
   ]
  },
  {
   "cell_type": "code",
   "execution_count": 6,
   "metadata": {},
   "outputs": [],
   "source": [
    "def code_pays(column):\n",
    "    CODE=[]\n",
    "    for country in column:\n",
    "        try:\n",
    "            code=pycountry.countries.get(name=country).alpha_3\n",
    "           # .alpha_3 est utilisé pour donner le code en 3 lettres du pays\n",
    "            CODE.append(code)\n",
    "        except:\n",
    "            CODE.append('None')\n",
    "    return CODE# create a column for code \n",
    "data_fertility['CODE']=code_pays(data_fertility[\"Country Name\"])\n",
    "\n",
    "data_fertility.rename(columns={'CODE': 'Country Code'}, inplace=True)"
   ]
  },
  {
   "cell_type": "markdown",
   "metadata": {},
   "source": [
    "Certaines données du tableau ne sont pas exploitbales et doivent par conséquent être nettoyées, soit parce qu'il n'y a pas de taux de fertilité donné pour ces pays (ex:(-)), soit parce qu'elles relèvent de données d'années antérieures à 2019. Nous faisons le choix pour ces pays de remplacer le taux de fertilité de 2019 par ces données antérieures, afin d'avoir une base aussi complète que possible, en faisant l'hypothèse que le taux de fertilité pour ces pays a probablement peu changé en l'espace de quelques années. "
   ]
  },
  {
   "cell_type": "code",
   "execution_count": 7,
   "metadata": {},
   "outputs": [],
   "source": [
    "data_fertility2=data_fertility"
   ]
  },
  {
   "cell_type": "code",
   "execution_count": 8,
   "metadata": {},
   "outputs": [],
   "source": [
    "def cleaner_fertility(char: str ):\n",
    "    try:\n",
    "        if '-' in char : return np.NaN\n",
    "        elif '(' in char :\n",
    "            i=0\n",
    "            while char[i+1]!='(':\n",
    "                i+=1\n",
    "            return float(char[:i])\n",
    "        else: return float(char)\n",
    "    \n",
    "    except:\n",
    "        return char"
   ]
  },
  {
   "cell_type": "code",
   "execution_count": 9,
   "metadata": {},
   "outputs": [
    {
     "data": {
      "text/html": [
       "<div>\n",
       "<style scoped>\n",
       "    .dataframe tbody tr th:only-of-type {\n",
       "        vertical-align: middle;\n",
       "    }\n",
       "\n",
       "    .dataframe tbody tr th {\n",
       "        vertical-align: top;\n",
       "    }\n",
       "\n",
       "    .dataframe thead th {\n",
       "        text-align: right;\n",
       "    }\n",
       "</style>\n",
       "<table border=\"1\" class=\"dataframe\">\n",
       "  <thead>\n",
       "    <tr style=\"text-align: right;\">\n",
       "      <th></th>\n",
       "      <th>Country Name</th>\n",
       "      <th>Fertility</th>\n",
       "      <th>Country Code</th>\n",
       "    </tr>\n",
       "  </thead>\n",
       "  <tbody>\n",
       "    <tr>\n",
       "      <th>0</th>\n",
       "      <td>Niger</td>\n",
       "      <td>6.824</td>\n",
       "      <td>NER</td>\n",
       "    </tr>\n",
       "    <tr>\n",
       "      <th>1</th>\n",
       "      <td>Somalia</td>\n",
       "      <td>5.978</td>\n",
       "      <td>SOM</td>\n",
       "    </tr>\n",
       "    <tr>\n",
       "      <th>2</th>\n",
       "      <td>DR Congo</td>\n",
       "      <td>5.819</td>\n",
       "      <td>None</td>\n",
       "    </tr>\n",
       "    <tr>\n",
       "      <th>3</th>\n",
       "      <td>Mali</td>\n",
       "      <td>5.785</td>\n",
       "      <td>MLI</td>\n",
       "    </tr>\n",
       "    <tr>\n",
       "      <th>4</th>\n",
       "      <td>Chad</td>\n",
       "      <td>5.649</td>\n",
       "      <td>TCD</td>\n",
       "    </tr>\n",
       "    <tr>\n",
       "      <th>...</th>\n",
       "      <td>...</td>\n",
       "      <td>...</td>\n",
       "      <td>...</td>\n",
       "    </tr>\n",
       "    <tr>\n",
       "      <th>259</th>\n",
       "      <td>Saint Kitts and Nevis</td>\n",
       "      <td>2.1</td>\n",
       "      <td>KNA</td>\n",
       "    </tr>\n",
       "    <tr>\n",
       "      <th>260</th>\n",
       "      <td>Turks and Caicos Islands</td>\n",
       "      <td>NaN</td>\n",
       "      <td>TCA</td>\n",
       "    </tr>\n",
       "    <tr>\n",
       "      <th>261</th>\n",
       "      <td>Tuvalu</td>\n",
       "      <td>NaN</td>\n",
       "      <td>TUV</td>\n",
       "    </tr>\n",
       "    <tr>\n",
       "      <th>262</th>\n",
       "      <td>Vatican City</td>\n",
       "      <td>NaN</td>\n",
       "      <td>None</td>\n",
       "    </tr>\n",
       "    <tr>\n",
       "      <th>263</th>\n",
       "      <td>Western Sahara</td>\n",
       "      <td>NaN</td>\n",
       "      <td>ESH</td>\n",
       "    </tr>\n",
       "  </tbody>\n",
       "</table>\n",
       "<p>264 rows × 3 columns</p>\n",
       "</div>"
      ],
      "text/plain": [
       "                 Country Name Fertility Country Code\n",
       "0                       Niger     6.824          NER\n",
       "1                     Somalia     5.978          SOM\n",
       "2                    DR Congo     5.819         None\n",
       "3                        Mali     5.785          MLI\n",
       "4                        Chad     5.649          TCD\n",
       "..                        ...       ...          ...\n",
       "259     Saint Kitts and Nevis       2.1          KNA\n",
       "260  Turks and Caicos Islands       NaN          TCA\n",
       "261                    Tuvalu       NaN          TUV\n",
       "262              Vatican City       NaN         None\n",
       "263            Western Sahara       NaN          ESH\n",
       "\n",
       "[264 rows x 3 columns]"
      ]
     },
     "execution_count": 9,
     "metadata": {},
     "output_type": "execute_result"
    }
   ],
   "source": [
    "data_fertility2.dropna(inplace=True)#fonction qui enlève les potentiels \"NaN\" présents\n",
    "data_fertility2[\"Fertility\"] = data_fertility2[\"Fertility\"].apply(cleaner_fertility)\n",
    "data_fertility2"
   ]
  },
  {
   "cell_type": "code",
   "execution_count": 10,
   "metadata": {},
   "outputs": [],
   "source": [
    "# Exportation en .csv \n",
    "data_fertility2.to_csv('data_fertility2.csv')"
   ]
  },
  {
   "cell_type": "markdown",
   "metadata": {},
   "source": [
    "### 1.2.2. Scrapping de la législation sur l'avortement "
   ]
  },
  {
   "cell_type": "markdown",
   "metadata": {},
   "source": [
    "On scrappe des données relatives à la législation sur l'avortement sur le site Wikipédia (\"https://en.wikipedia.org/wiki/Abortion_law\")."
   ]
  },
  {
   "cell_type": "code",
   "execution_count": 11,
   "metadata": {},
   "outputs": [],
   "source": [
    "url_abortion_law = \"https://en.wikipedia.org/wiki/Abortion_law\"\n",
    "request_text = request.urlopen(url_abortion_law).read() \n",
    "page = bs4.BeautifulSoup(request_text, \"lxml\")\n",
    "table_abortion_law = page.find('table', {'class' : 'wikitable sortable collapsible'})\n",
    "table_body = table_abortion_law.find('tbody')\n",
    "\n",
    "rows = table_body.find_all('tr')\n",
    "cols = rows[1].find_all('td')\n",
    "\n",
    "dico_abortion = dict()\n",
    "for row in rows:\n",
    "    cols = row.find_all('td')\n",
    "    cols = [ele.text.strip() for ele in cols]\n",
    "    if len(cols) > 0 : \n",
    "        dico_abortion[cols[0]] = cols[1:]"
   ]
  },
  {
   "cell_type": "code",
   "execution_count": 12,
   "metadata": {},
   "outputs": [],
   "source": [
    "data_abortion = pandas.DataFrame.from_dict(dico_abortion,orient='index')"
   ]
  },
  {
   "cell_type": "markdown",
   "metadata": {},
   "source": [
    "On nettoie ensuite le dataframe. On choisit de créer une indicatrice traduisant la possibilité pour les femmes d'avorter ou non par choix (1: possibilité d'avorter par choix, 0: impossibilité). "
   ]
  },
  {
   "cell_type": "code",
   "execution_count": 13,
   "metadata": {},
   "outputs": [],
   "source": [
    "# Fonction qui va servir pour le nettoyage de la base de données\n",
    "def cleaner_abortion (char: str):\n",
    "    assert type(char)==str, \"The row does not contains str\"\n",
    "    if '-' in char: return np.NaN\n",
    "    elif '[' in char:\n",
    "        i=0\n",
    "        while char[i+1]!= '[':\n",
    "            i+=1\n",
    "        return str(char[:i+1])\n",
    "    else: return str(char)"
   ]
  },
  {
   "cell_type": "code",
   "execution_count": 14,
   "metadata": {},
   "outputs": [
    {
     "name": "stdout",
     "output_type": "stream",
     "text": [
      "[<th>Country</th>, <th style=\"width:70px\">Risk to life</th>, <th style=\"width:70px\">Risk to health</th>, <th style=\"width:70px\">Rape</th>, <th style=\"width:70px\">Fetal impairment</th>, <th style=\"width:70px\">Economic or social</th>, <th style=\"width:70px\">On request\n",
      "</th>]\n",
      "[]\n",
      "[]\n",
      "[]\n",
      "[]\n",
      "[]\n",
      "[]\n",
      "[]\n",
      "[]\n",
      "[]\n",
      "[]\n",
      "[]\n",
      "[]\n",
      "[]\n",
      "[]\n",
      "[]\n",
      "[]\n",
      "[]\n",
      "[]\n",
      "[]\n",
      "[]\n",
      "[]\n",
      "[]\n",
      "[]\n",
      "[]\n",
      "[]\n",
      "[]\n",
      "[]\n",
      "[]\n",
      "[]\n",
      "[]\n",
      "[]\n",
      "[]\n",
      "[<th>Country</th>, <th style=\"width:70px\">Risk to life</th>, <th style=\"width:70px\">Risk to health</th>, <th style=\"width:70px\">Rape</th>, <th style=\"width:70px\">Fetal impairment</th>, <th style=\"width:70px\">Economic or social</th>, <th style=\"width:70px\">On request\n",
      "</th>]\n",
      "[]\n",
      "[]\n",
      "[]\n",
      "[]\n",
      "[]\n",
      "[]\n",
      "[]\n",
      "[]\n",
      "[]\n",
      "[]\n",
      "[]\n",
      "[]\n",
      "[]\n",
      "[]\n",
      "[]\n",
      "[]\n",
      "[]\n",
      "[]\n",
      "[]\n",
      "[]\n",
      "[]\n",
      "[]\n",
      "[]\n",
      "[]\n",
      "[]\n",
      "[]\n",
      "[]\n",
      "[]\n",
      "[]\n",
      "[]\n",
      "[]\n",
      "[]\n",
      "[]\n",
      "[]\n",
      "[]\n",
      "[]\n",
      "[<th>Country</th>, <th style=\"width:70px\">Risk to life</th>, <th style=\"width:70px\">Risk to health</th>, <th style=\"width:70px\">Rape</th>, <th style=\"width:70px\">Fetal impairment</th>, <th style=\"width:70px\">Economic or social</th>, <th style=\"width:70px\">On request\n",
      "</th>]\n",
      "[]\n",
      "[]\n",
      "[]\n",
      "[]\n",
      "[]\n",
      "[]\n",
      "[]\n",
      "[]\n",
      "[]\n",
      "[]\n",
      "[]\n",
      "[]\n",
      "[]\n",
      "[]\n",
      "[]\n",
      "[]\n",
      "[]\n",
      "[]\n",
      "[]\n",
      "[]\n",
      "[<th>Country</th>, <th style=\"width:70px\">Risk to life</th>, <th style=\"width:70px\">Risk to health</th>, <th style=\"width:70px\">Rape</th>, <th style=\"width:70px\">Fetal impairment</th>, <th style=\"width:70px\">Economic or social</th>, <th style=\"width:70px\">On request\n",
      "</th>]\n",
      "[]\n",
      "[]\n",
      "[]\n",
      "[]\n",
      "[]\n",
      "[]\n",
      "[]\n",
      "[]\n",
      "[]\n",
      "[]\n",
      "[]\n",
      "[]\n",
      "[]\n",
      "[]\n",
      "[]\n",
      "[]\n",
      "[]\n",
      "[]\n",
      "[]\n",
      "[]\n",
      "[<th>Country</th>, <th style=\"width:70px\">Risk to life</th>, <th style=\"width:70px\">Risk to health</th>, <th style=\"width:70px\">Rape</th>, <th style=\"width:70px\">Fetal impairment</th>, <th style=\"width:70px\">Economic or social</th>, <th style=\"width:70px\">On request\n",
      "</th>]\n",
      "[]\n",
      "[]\n",
      "[]\n",
      "[]\n",
      "[]\n",
      "[]\n",
      "[]\n",
      "[]\n",
      "[]\n",
      "[]\n",
      "[]\n",
      "[]\n",
      "[]\n",
      "[]\n",
      "[]\n",
      "[]\n",
      "[]\n",
      "[]\n",
      "[]\n",
      "[]\n",
      "[<th>Country</th>, <th style=\"width:70px\">Risk to life</th>, <th style=\"width:70px\">Risk to health</th>, <th style=\"width:70px\">Rape</th>, <th style=\"width:70px\">Fetal impairment</th>, <th style=\"width:70px\">Economic or social</th>, <th style=\"width:70px\">On request\n",
      "</th>]\n",
      "[]\n",
      "[]\n",
      "[]\n",
      "[]\n",
      "[]\n",
      "[]\n",
      "[]\n",
      "[]\n",
      "[]\n",
      "[]\n",
      "[]\n",
      "[]\n",
      "[]\n",
      "[]\n",
      "[]\n",
      "[]\n",
      "[]\n",
      "[]\n",
      "[]\n",
      "[]\n",
      "[]\n",
      "[]\n",
      "[]\n",
      "[]\n",
      "[]\n",
      "[]\n",
      "[]\n",
      "[]\n",
      "[]\n",
      "[]\n",
      "[]\n",
      "[]\n",
      "[]\n",
      "[]\n",
      "[]\n",
      "[]\n",
      "[]\n",
      "[]\n",
      "[]\n",
      "[]\n",
      "[]\n",
      "[]\n",
      "[]\n",
      "[]\n",
      "[]\n",
      "[]\n",
      "[]\n",
      "[]\n",
      "[]\n",
      "[]\n",
      "[]\n",
      "[]\n",
      "[<th>Country</th>, <th style=\"width:70px\">Risk to life</th>, <th style=\"width:70px\">Risk to health</th>, <th style=\"width:70px\">Rape</th>, <th style=\"width:70px\">Fetal impairment</th>, <th style=\"width:70px\">Economic or social</th>, <th style=\"width:70px\">On request\n",
      "</th>]\n",
      "[]\n",
      "[]\n",
      "[]\n",
      "[]\n",
      "[]\n",
      "[]\n",
      "[]\n",
      "[]\n",
      "[]\n",
      "[]\n",
      "[]\n",
      "[]\n",
      "[]\n",
      "[]\n",
      "[]\n",
      "[]\n",
      "[]\n",
      "[]\n",
      "[]\n",
      "[]\n",
      "[]\n",
      "[]\n",
      "[]\n",
      "[]\n",
      "[]\n",
      "[]\n",
      "[]\n",
      "[]\n",
      "[]\n",
      "[]\n",
      "[]\n",
      "[]\n",
      "[]\n",
      "[]\n",
      "[]\n",
      "[]\n",
      "[]\n",
      "[]\n",
      "[]\n",
      "[]\n",
      "[]\n",
      "[]\n",
      "[]\n",
      "[]\n",
      "[]\n",
      "[]\n",
      "[]\n",
      "[]\n",
      "[]\n",
      "[]\n",
      "[]\n",
      "[]\n",
      "[]\n",
      "[]\n",
      "[]\n",
      "[]\n",
      "[]\n",
      "[<th>Country</th>, <th style=\"width:70px\">Risk to life</th>, <th style=\"width:70px\">Risk to health</th>, <th style=\"width:70px\">Rape</th>, <th style=\"width:70px\">Fetal impairment</th>, <th style=\"width:70px\">Economic or social</th>, <th style=\"width:70px\">On request\n",
      "</th>]\n",
      "[]\n",
      "[]\n",
      "[]\n",
      "[]\n",
      "[]\n",
      "[]\n",
      "[]\n",
      "[]\n",
      "[]\n",
      "[]\n",
      "[]\n",
      "[]\n",
      "[]\n",
      "[]\n",
      "[]\n",
      "[]\n",
      "[]\n",
      "[]\n",
      "[]\n",
      "[]\n",
      "[<th>Country</th>, <th style=\"width:70px\">Risk to life</th>, <th style=\"width:70px\">Risk to health</th>, <th style=\"width:70px\">Rape</th>, <th style=\"width:70px\">Fetal impairment</th>, <th style=\"width:70px\">Economic or social</th>, <th style=\"width:70px\">On request\n",
      "</th>]\n",
      "[]\n",
      "[]\n",
      "[]\n",
      "[]\n",
      "[]\n",
      "[]\n",
      "[]\n",
      "[]\n",
      "[]\n",
      "[]\n",
      "[]\n",
      "[]\n",
      "[]\n",
      "[]\n",
      "[]\n",
      "[]\n",
      "[]\n",
      "[]\n",
      "[]\n",
      "[]\n",
      "[<th>Country</th>, <th style=\"width:70px\">Risk to life</th>, <th style=\"width:70px\">Risk to health</th>, <th style=\"width:70px\">Rape</th>, <th style=\"width:70px\">Fetal impairment</th>, <th style=\"width:70px\">Economic or social</th>, <th style=\"width:70px\">On request\n",
      "</th>]\n",
      "[]\n",
      "[]\n",
      "[]\n",
      "[]\n",
      "[]\n",
      "[]\n",
      "[]\n",
      "[]\n",
      "[]\n",
      "[]\n",
      "[]\n",
      "[]\n",
      "[]\n",
      "[]\n",
      "[]\n",
      "[]\n",
      "[]\n",
      "[]\n",
      "[]\n",
      "[]\n",
      "[]\n",
      "[]\n",
      "[]\n",
      "[]\n",
      "[]\n",
      "[]\n",
      "[]\n",
      "[]\n",
      "[]\n",
      "[]\n",
      "[]\n",
      "[]\n",
      "[]\n",
      "[]\n",
      "[]\n",
      "[]\n",
      "[]\n",
      "[]\n",
      "[]\n",
      "[]\n",
      "[]\n",
      "[]\n",
      "[]\n",
      "[]\n",
      "[]\n",
      "[]\n",
      "[]\n",
      "[]\n",
      "[]\n",
      "[]\n",
      "[]\n",
      "[]\n",
      "[]\n",
      "[]\n",
      "[]\n",
      "[]\n",
      "[]\n",
      "[]\n",
      "[]\n",
      "[]\n",
      "[]\n",
      "[]\n",
      "[]\n",
      "[]\n",
      "[]\n",
      "[]\n",
      "[]\n",
      "[]\n",
      "[]\n",
      "[]\n",
      "[]\n",
      "[]\n",
      "[]\n",
      "[]\n",
      "[]\n",
      "[]\n",
      "[]\n",
      "[<th>Country</th>, <th style=\"width:70px\">Risk to life</th>, <th style=\"width:70px\">Risk to health</th>, <th style=\"width:70px\">Rape</th>, <th style=\"width:70px\">Fetal impairment</th>, <th style=\"width:70px\">Economic or social</th>, <th style=\"width:70px\">On request\n",
      "</th>]\n"
     ]
    }
   ],
   "source": [
    "for row in rows:\n",
    "    cols = row.find_all('th')\n",
    "    print(cols)\n",
    "    if len(cols) > 0 : \n",
    "        cols = [ele.get_text(separator=' ').strip().title() for ele in cols]\n",
    "        columns_country = cols"
   ]
  },
  {
   "cell_type": "code",
   "execution_count": 15,
   "metadata": {},
   "outputs": [
    {
     "data": {
      "text/html": [
       "<div>\n",
       "<style scoped>\n",
       "    .dataframe tbody tr th:only-of-type {\n",
       "        vertical-align: middle;\n",
       "    }\n",
       "\n",
       "    .dataframe tbody tr th {\n",
       "        vertical-align: top;\n",
       "    }\n",
       "\n",
       "    .dataframe thead th {\n",
       "        text-align: right;\n",
       "    }\n",
       "</style>\n",
       "<table border=\"1\" class=\"dataframe\">\n",
       "  <thead>\n",
       "    <tr style=\"text-align: right;\">\n",
       "      <th></th>\n",
       "      <th>Country Name</th>\n",
       "      <th>Risk To Life</th>\n",
       "      <th>Risk To Health</th>\n",
       "      <th>Rape</th>\n",
       "      <th>Fetal Impairment</th>\n",
       "      <th>Economic Or Social</th>\n",
       "      <th>On Request</th>\n",
       "    </tr>\n",
       "  </thead>\n",
       "  <tbody>\n",
       "    <tr>\n",
       "      <th>0</th>\n",
       "      <td>Abkhazia[32]</td>\n",
       "      <td>prohibited</td>\n",
       "      <td>prohibited</td>\n",
       "      <td>prohibited</td>\n",
       "      <td>prohibited</td>\n",
       "      <td>prohibited</td>\n",
       "      <td>prohibited</td>\n",
       "    </tr>\n",
       "    <tr>\n",
       "      <th>1</th>\n",
       "      <td>Afghanistan[needs update?]</td>\n",
       "      <td>permitted[k]</td>\n",
       "      <td>prohibited</td>\n",
       "      <td>prohibited</td>\n",
       "      <td>prohibited[k]</td>\n",
       "      <td>prohibited[k]</td>\n",
       "      <td>prohibited</td>\n",
       "    </tr>\n",
       "    <tr>\n",
       "      <th>2</th>\n",
       "      <td>Albania[16]</td>\n",
       "      <td>22 weeks</td>\n",
       "      <td>22 weeks</td>\n",
       "      <td>22 weeks</td>\n",
       "      <td>no limit</td>\n",
       "      <td>22 weeks</td>\n",
       "      <td>12 weeks</td>\n",
       "    </tr>\n",
       "    <tr>\n",
       "      <th>3</th>\n",
       "      <td>Algeria[39]</td>\n",
       "      <td>permitted</td>\n",
       "      <td>permitted</td>\n",
       "      <td>prohibited</td>\n",
       "      <td>prohibited</td>\n",
       "      <td>prohibited</td>\n",
       "      <td>prohibited</td>\n",
       "    </tr>\n",
       "    <tr>\n",
       "      <th>4</th>\n",
       "      <td>Andorra</td>\n",
       "      <td>prohibited[l]</td>\n",
       "      <td>prohibited</td>\n",
       "      <td>prohibited</td>\n",
       "      <td>prohibited</td>\n",
       "      <td>prohibited</td>\n",
       "      <td>prohibited</td>\n",
       "    </tr>\n",
       "  </tbody>\n",
       "</table>\n",
       "</div>"
      ],
      "text/plain": [
       "                 Country Name   Risk To Life Risk To Health        Rape  \\\n",
       "0                Abkhazia[32]     prohibited     prohibited  prohibited   \n",
       "1  Afghanistan[needs update?]   permitted[k]     prohibited  prohibited   \n",
       "2                 Albania[16]       22 weeks       22 weeks    22 weeks   \n",
       "3                 Algeria[39]      permitted      permitted  prohibited   \n",
       "4                     Andorra  prohibited[l]     prohibited  prohibited   \n",
       "\n",
       "  Fetal Impairment Economic Or Social  On Request  \n",
       "0       prohibited         prohibited  prohibited  \n",
       "1    prohibited[k]      prohibited[k]  prohibited  \n",
       "2         no limit           22 weeks    12 weeks  \n",
       "3       prohibited         prohibited  prohibited  \n",
       "4       prohibited         prohibited  prohibited  "
      ]
     },
     "execution_count": 15,
     "metadata": {},
     "output_type": "execute_result"
    }
   ],
   "source": [
    "data_abortion.columns = columns_country[1:]\n",
    "data_abortion.reset_index(inplace=True)\n",
    "data_abortion.rename(columns={'index': 'Country Name'}, inplace=True)\n",
    "data_abortion.head()"
   ]
  },
  {
   "cell_type": "code",
   "execution_count": 16,
   "metadata": {},
   "outputs": [
    {
     "data": {
      "text/html": [
       "<div>\n",
       "<style scoped>\n",
       "    .dataframe tbody tr th:only-of-type {\n",
       "        vertical-align: middle;\n",
       "    }\n",
       "\n",
       "    .dataframe tbody tr th {\n",
       "        vertical-align: top;\n",
       "    }\n",
       "\n",
       "    .dataframe thead th {\n",
       "        text-align: right;\n",
       "    }\n",
       "</style>\n",
       "<table border=\"1\" class=\"dataframe\">\n",
       "  <thead>\n",
       "    <tr style=\"text-align: right;\">\n",
       "      <th></th>\n",
       "      <th>Country Name</th>\n",
       "      <th>abortion</th>\n",
       "    </tr>\n",
       "  </thead>\n",
       "  <tbody>\n",
       "    <tr>\n",
       "      <th>0</th>\n",
       "      <td>Abkhazia</td>\n",
       "      <td>0</td>\n",
       "    </tr>\n",
       "    <tr>\n",
       "      <th>1</th>\n",
       "      <td>Afghanistan</td>\n",
       "      <td>0</td>\n",
       "    </tr>\n",
       "    <tr>\n",
       "      <th>2</th>\n",
       "      <td>Albania</td>\n",
       "      <td>1</td>\n",
       "    </tr>\n",
       "    <tr>\n",
       "      <th>3</th>\n",
       "      <td>Algeria</td>\n",
       "      <td>0</td>\n",
       "    </tr>\n",
       "    <tr>\n",
       "      <th>4</th>\n",
       "      <td>Andorra</td>\n",
       "      <td>0</td>\n",
       "    </tr>\n",
       "  </tbody>\n",
       "</table>\n",
       "</div>"
      ],
      "text/plain": [
       "  Country Name  abortion\n",
       "0     Abkhazia         0\n",
       "1  Afghanistan         0\n",
       "2      Albania         1\n",
       "3      Algeria         0\n",
       "4      Andorra         0"
      ]
     },
     "execution_count": 16,
     "metadata": {},
     "output_type": "execute_result"
    }
   ],
   "source": [
    "data_abortion2=data_abortion\n",
    "data_abortion2['abortion'] = data_abortion2['On Request'].str.contains(\"permitted|weeks\", na=False).astype(int)\n",
    "data_abortion2[\"Country Name\"]=data_abortion2[\"Country Name\"].apply(cleaner_abortion)\n",
    "data_abortion2=data_abortion2[[\"Country Name\", \"abortion\"]]\n",
    "data_abortion2.head(5)"
   ]
  },
  {
   "cell_type": "code",
   "execution_count": 17,
   "metadata": {},
   "outputs": [],
   "source": [
    "# Exportation en .csv \n",
    "data_abortion2.to_csv('data_abortion2.csv')"
   ]
  },
  {
   "cell_type": "markdown",
   "metadata": {},
   "source": [
    "## 1.3. Nettoyage des bases de données de la Banque mondiale et de l'OCDE"
   ]
  },
  {
   "cell_type": "markdown",
   "metadata": {},
   "source": [
    "### 1.3.1. Df de la Banque mondiale"
   ]
  },
  {
   "cell_type": "code",
   "execution_count": 18,
   "metadata": {},
   "outputs": [
    {
     "data": {
      "text/html": [
       "<div>\n",
       "<style scoped>\n",
       "    .dataframe tbody tr th:only-of-type {\n",
       "        vertical-align: middle;\n",
       "    }\n",
       "\n",
       "    .dataframe tbody tr th {\n",
       "        vertical-align: top;\n",
       "    }\n",
       "\n",
       "    .dataframe thead th {\n",
       "        text-align: right;\n",
       "    }\n",
       "</style>\n",
       "<table border=\"1\" class=\"dataframe\">\n",
       "  <thead>\n",
       "    <tr style=\"text-align: right;\">\n",
       "      <th></th>\n",
       "      <th>Country Name</th>\n",
       "      <th>Country Code</th>\n",
       "      <th>Indicator Name</th>\n",
       "      <th>Indicator Code</th>\n",
       "      <th>1960</th>\n",
       "      <th>1961</th>\n",
       "      <th>1962</th>\n",
       "      <th>1963</th>\n",
       "      <th>1964</th>\n",
       "      <th>1965</th>\n",
       "      <th>...</th>\n",
       "      <th>2012</th>\n",
       "      <th>2013</th>\n",
       "      <th>2014</th>\n",
       "      <th>2015</th>\n",
       "      <th>2016</th>\n",
       "      <th>2017</th>\n",
       "      <th>2018</th>\n",
       "      <th>2019</th>\n",
       "      <th>2020</th>\n",
       "      <th>Unnamed: 65</th>\n",
       "    </tr>\n",
       "  </thead>\n",
       "  <tbody>\n",
       "    <tr>\n",
       "      <th>0</th>\n",
       "      <td>Africa Eastern and Southern</td>\n",
       "      <td>AFE</td>\n",
       "      <td>Access to clean fuels and technologies for coo...</td>\n",
       "      <td>EG.CFT.ACCS.ZS</td>\n",
       "      <td>NaN</td>\n",
       "      <td>NaN</td>\n",
       "      <td>NaN</td>\n",
       "      <td>NaN</td>\n",
       "      <td>NaN</td>\n",
       "      <td>NaN</td>\n",
       "      <td>...</td>\n",
       "      <td>16.320475</td>\n",
       "      <td>16.643243</td>\n",
       "      <td>16.994695</td>\n",
       "      <td>17.313168</td>\n",
       "      <td>17.604950</td>\n",
       "      <td>NaN</td>\n",
       "      <td>NaN</td>\n",
       "      <td>NaN</td>\n",
       "      <td>NaN</td>\n",
       "      <td>NaN</td>\n",
       "    </tr>\n",
       "    <tr>\n",
       "      <th>1</th>\n",
       "      <td>Africa Eastern and Southern</td>\n",
       "      <td>AFE</td>\n",
       "      <td>Access to electricity (% of population)</td>\n",
       "      <td>EG.ELC.ACCS.ZS</td>\n",
       "      <td>NaN</td>\n",
       "      <td>NaN</td>\n",
       "      <td>NaN</td>\n",
       "      <td>NaN</td>\n",
       "      <td>NaN</td>\n",
       "      <td>NaN</td>\n",
       "      <td>...</td>\n",
       "      <td>32.224027</td>\n",
       "      <td>32.046478</td>\n",
       "      <td>31.323579</td>\n",
       "      <td>33.312163</td>\n",
       "      <td>38.380433</td>\n",
       "      <td>39.754201</td>\n",
       "      <td>42.168241</td>\n",
       "      <td>43.640661</td>\n",
       "      <td>NaN</td>\n",
       "      <td>NaN</td>\n",
       "    </tr>\n",
       "    <tr>\n",
       "      <th>2</th>\n",
       "      <td>Africa Eastern and Southern</td>\n",
       "      <td>AFE</td>\n",
       "      <td>Access to electricity, rural (% of rural popul...</td>\n",
       "      <td>EG.ELC.ACCS.RU.ZS</td>\n",
       "      <td>NaN</td>\n",
       "      <td>NaN</td>\n",
       "      <td>NaN</td>\n",
       "      <td>NaN</td>\n",
       "      <td>NaN</td>\n",
       "      <td>NaN</td>\n",
       "      <td>...</td>\n",
       "      <td>20.525353</td>\n",
       "      <td>19.461383</td>\n",
       "      <td>17.790698</td>\n",
       "      <td>16.553470</td>\n",
       "      <td>23.907897</td>\n",
       "      <td>24.624725</td>\n",
       "      <td>26.813900</td>\n",
       "      <td>28.841150</td>\n",
       "      <td>NaN</td>\n",
       "      <td>NaN</td>\n",
       "    </tr>\n",
       "  </tbody>\n",
       "</table>\n",
       "<p>3 rows × 66 columns</p>\n",
       "</div>"
      ],
      "text/plain": [
       "                  Country Name Country Code  \\\n",
       "0  Africa Eastern and Southern          AFE   \n",
       "1  Africa Eastern and Southern          AFE   \n",
       "2  Africa Eastern and Southern          AFE   \n",
       "\n",
       "                                      Indicator Name     Indicator Code  1960  \\\n",
       "0  Access to clean fuels and technologies for coo...     EG.CFT.ACCS.ZS   NaN   \n",
       "1            Access to electricity (% of population)     EG.ELC.ACCS.ZS   NaN   \n",
       "2  Access to electricity, rural (% of rural popul...  EG.ELC.ACCS.RU.ZS   NaN   \n",
       "\n",
       "   1961  1962  1963  1964  1965  ...       2012       2013       2014  \\\n",
       "0   NaN   NaN   NaN   NaN   NaN  ...  16.320475  16.643243  16.994695   \n",
       "1   NaN   NaN   NaN   NaN   NaN  ...  32.224027  32.046478  31.323579   \n",
       "2   NaN   NaN   NaN   NaN   NaN  ...  20.525353  19.461383  17.790698   \n",
       "\n",
       "        2015       2016       2017       2018       2019  2020  Unnamed: 65  \n",
       "0  17.313168  17.604950        NaN        NaN        NaN   NaN          NaN  \n",
       "1  33.312163  38.380433  39.754201  42.168241  43.640661   NaN          NaN  \n",
       "2  16.553470  23.907897  24.624725  26.813900  28.841150   NaN          NaN  \n",
       "\n",
       "[3 rows x 66 columns]"
      ]
     },
     "execution_count": 18,
     "metadata": {},
     "output_type": "execute_result"
    }
   ],
   "source": [
    "# Dataframe de la Banque mondiale \n",
    "df_bm=pd.read_csv(\"WDIData.csv\")\n",
    "df_bm.head(3)"
   ]
  },
  {
   "cell_type": "code",
   "execution_count": 19,
   "metadata": {},
   "outputs": [
    {
     "data": {
      "text/html": [
       "<div>\n",
       "<style scoped>\n",
       "    .dataframe tbody tr th:only-of-type {\n",
       "        vertical-align: middle;\n",
       "    }\n",
       "\n",
       "    .dataframe tbody tr th {\n",
       "        vertical-align: top;\n",
       "    }\n",
       "\n",
       "    .dataframe thead th {\n",
       "        text-align: right;\n",
       "    }\n",
       "</style>\n",
       "<table border=\"1\" class=\"dataframe\">\n",
       "  <thead>\n",
       "    <tr style=\"text-align: right;\">\n",
       "      <th></th>\n",
       "      <th>Country Code</th>\n",
       "      <th>Country Name</th>\n",
       "      <th>Indicator Name</th>\n",
       "      <th>Indicator Code</th>\n",
       "      <th>2019</th>\n",
       "    </tr>\n",
       "  </thead>\n",
       "  <tbody>\n",
       "    <tr>\n",
       "      <th>0</th>\n",
       "      <td>AFE</td>\n",
       "      <td>Africa Eastern and Southern</td>\n",
       "      <td>Access to clean fuels and technologies for coo...</td>\n",
       "      <td>EG.CFT.ACCS.ZS</td>\n",
       "      <td>NaN</td>\n",
       "    </tr>\n",
       "    <tr>\n",
       "      <th>1</th>\n",
       "      <td>AFE</td>\n",
       "      <td>Africa Eastern and Southern</td>\n",
       "      <td>Access to electricity (% of population)</td>\n",
       "      <td>EG.ELC.ACCS.ZS</td>\n",
       "      <td>43.640661</td>\n",
       "    </tr>\n",
       "    <tr>\n",
       "      <th>2</th>\n",
       "      <td>AFE</td>\n",
       "      <td>Africa Eastern and Southern</td>\n",
       "      <td>Access to electricity, rural (% of rural popul...</td>\n",
       "      <td>EG.ELC.ACCS.RU.ZS</td>\n",
       "      <td>28.841150</td>\n",
       "    </tr>\n",
       "    <tr>\n",
       "      <th>3</th>\n",
       "      <td>AFE</td>\n",
       "      <td>Africa Eastern and Southern</td>\n",
       "      <td>Access to electricity, urban (% of urban popul...</td>\n",
       "      <td>EG.ELC.ACCS.UR.ZS</td>\n",
       "      <td>73.589886</td>\n",
       "    </tr>\n",
       "    <tr>\n",
       "      <th>4</th>\n",
       "      <td>AFE</td>\n",
       "      <td>Africa Eastern and Southern</td>\n",
       "      <td>Account ownership at a financial institution o...</td>\n",
       "      <td>FX.OWN.TOTL.ZS</td>\n",
       "      <td>NaN</td>\n",
       "    </tr>\n",
       "  </tbody>\n",
       "</table>\n",
       "</div>"
      ],
      "text/plain": [
       "  Country Code                 Country Name  \\\n",
       "0          AFE  Africa Eastern and Southern   \n",
       "1          AFE  Africa Eastern and Southern   \n",
       "2          AFE  Africa Eastern and Southern   \n",
       "3          AFE  Africa Eastern and Southern   \n",
       "4          AFE  Africa Eastern and Southern   \n",
       "\n",
       "                                      Indicator Name     Indicator Code  \\\n",
       "0  Access to clean fuels and technologies for coo...     EG.CFT.ACCS.ZS   \n",
       "1            Access to electricity (% of population)     EG.ELC.ACCS.ZS   \n",
       "2  Access to electricity, rural (% of rural popul...  EG.ELC.ACCS.RU.ZS   \n",
       "3  Access to electricity, urban (% of urban popul...  EG.ELC.ACCS.UR.ZS   \n",
       "4  Account ownership at a financial institution o...     FX.OWN.TOTL.ZS   \n",
       "\n",
       "        2019  \n",
       "0        NaN  \n",
       "1  43.640661  \n",
       "2  28.841150  \n",
       "3  73.589886  \n",
       "4        NaN  "
      ]
     },
     "execution_count": 19,
     "metadata": {},
     "output_type": "execute_result"
    }
   ],
   "source": [
    "# On se restreint aux observations de 2019\n",
    "df_bm2=df_bm[[\"Country Code\", \"Country Name\", \"Indicator Name\", \"Indicator Code\", \"2019\"]]\n",
    "df_bm2.head(5)"
   ]
  },
  {
   "cell_type": "markdown",
   "metadata": {},
   "source": [
    "### 1.3.2. Df de l'OCDE"
   ]
  },
  {
   "cell_type": "code",
   "execution_count": 20,
   "metadata": {},
   "outputs": [
    {
     "data": {
      "text/html": [
       "<div>\n",
       "<style scoped>\n",
       "    .dataframe tbody tr th:only-of-type {\n",
       "        vertical-align: middle;\n",
       "    }\n",
       "\n",
       "    .dataframe tbody tr th {\n",
       "        vertical-align: top;\n",
       "    }\n",
       "\n",
       "    .dataframe thead th {\n",
       "        text-align: right;\n",
       "    }\n",
       "</style>\n",
       "<table border=\"1\" class=\"dataframe\">\n",
       "  <thead>\n",
       "    <tr style=\"text-align: right;\">\n",
       "      <th></th>\n",
       "      <th>ï»¿\"REGION\"</th>\n",
       "      <th>RÃ©gion</th>\n",
       "      <th>LOCATION</th>\n",
       "      <th>Pays</th>\n",
       "      <th>INC</th>\n",
       "      <th>Revenu</th>\n",
       "      <th>VAR</th>\n",
       "      <th>Variable</th>\n",
       "      <th>TIME</th>\n",
       "      <th>AnnÃ©e</th>\n",
       "      <th>Value</th>\n",
       "      <th>Flag Codes</th>\n",
       "      <th>Flags</th>\n",
       "    </tr>\n",
       "  </thead>\n",
       "  <tbody>\n",
       "    <tr>\n",
       "      <th>0</th>\n",
       "      <td>ASI</td>\n",
       "      <td>Asie</td>\n",
       "      <td>AUS</td>\n",
       "      <td>Australie</td>\n",
       "      <td>HIN</td>\n",
       "      <td>ÃlevÃ©</td>\n",
       "      <td>DF_HR_LAW</td>\n",
       "      <td>Loi</td>\n",
       "      <td>2019</td>\n",
       "      <td>2019</td>\n",
       "      <td>0.50</td>\n",
       "      <td>NaN</td>\n",
       "      <td>NaN</td>\n",
       "    </tr>\n",
       "    <tr>\n",
       "      <th>1</th>\n",
       "      <td>ASI</td>\n",
       "      <td>Asie</td>\n",
       "      <td>AUS</td>\n",
       "      <td>Australie</td>\n",
       "      <td>HIN</td>\n",
       "      <td>ÃlevÃ©</td>\n",
       "      <td>DF_HR_ATT</td>\n",
       "      <td>Attitudes</td>\n",
       "      <td>2019</td>\n",
       "      <td>2019</td>\n",
       "      <td>21.10</td>\n",
       "      <td>NaN</td>\n",
       "      <td>NaN</td>\n",
       "    </tr>\n",
       "    <tr>\n",
       "      <th>2</th>\n",
       "      <td>ASI</td>\n",
       "      <td>Asie</td>\n",
       "      <td>AUS</td>\n",
       "      <td>Australie</td>\n",
       "      <td>HIN</td>\n",
       "      <td>ÃlevÃ©</td>\n",
       "      <td>DF_HR_PRACT</td>\n",
       "      <td>Pratique</td>\n",
       "      <td>2019</td>\n",
       "      <td>2019</td>\n",
       "      <td>1.82</td>\n",
       "      <td>NaN</td>\n",
       "      <td>NaN</td>\n",
       "    </tr>\n",
       "    <tr>\n",
       "      <th>3</th>\n",
       "      <td>ASI</td>\n",
       "      <td>Asie</td>\n",
       "      <td>AUS</td>\n",
       "      <td>Australie</td>\n",
       "      <td>HIN</td>\n",
       "      <td>ÃlevÃ©</td>\n",
       "      <td>DF_DV_LAW</td>\n",
       "      <td>Loi</td>\n",
       "      <td>2019</td>\n",
       "      <td>2019</td>\n",
       "      <td>0.00</td>\n",
       "      <td>NaN</td>\n",
       "      <td>NaN</td>\n",
       "    </tr>\n",
       "    <tr>\n",
       "      <th>4</th>\n",
       "      <td>ASI</td>\n",
       "      <td>Asie</td>\n",
       "      <td>AUS</td>\n",
       "      <td>Australie</td>\n",
       "      <td>HIN</td>\n",
       "      <td>ÃlevÃ©</td>\n",
       "      <td>DF_IN_LAW</td>\n",
       "      <td>Loi</td>\n",
       "      <td>2019</td>\n",
       "      <td>2019</td>\n",
       "      <td>0.00</td>\n",
       "      <td>NaN</td>\n",
       "      <td>NaN</td>\n",
       "    </tr>\n",
       "  </tbody>\n",
       "</table>\n",
       "</div>"
      ],
      "text/plain": [
       "  ï»¿\"REGION\" RÃ©gion LOCATION       Pays  INC   Revenu          VAR  \\\n",
       "0         ASI    Asie      AUS  Australie  HIN  ÃlevÃ©    DF_HR_LAW   \n",
       "1         ASI    Asie      AUS  Australie  HIN  ÃlevÃ©    DF_HR_ATT   \n",
       "2         ASI    Asie      AUS  Australie  HIN  ÃlevÃ©  DF_HR_PRACT   \n",
       "3         ASI    Asie      AUS  Australie  HIN  ÃlevÃ©    DF_DV_LAW   \n",
       "4         ASI    Asie      AUS  Australie  HIN  ÃlevÃ©    DF_IN_LAW   \n",
       "\n",
       "    Variable  TIME  AnnÃ©e  Value  Flag Codes  Flags  \n",
       "0        Loi  2019    2019   0.50         NaN    NaN  \n",
       "1  Attitudes  2019    2019  21.10         NaN    NaN  \n",
       "2   Pratique  2019    2019   1.82         NaN    NaN  \n",
       "3        Loi  2019    2019   0.00         NaN    NaN  \n",
       "4        Loi  2019    2019   0.00         NaN    NaN  "
      ]
     },
     "execution_count": 20,
     "metadata": {},
     "output_type": "execute_result"
    }
   ],
   "source": [
    "df_ocde=pd.read_csv('./oecd3.csv', sep=',', encoding='latin-1')\n",
    "df_ocde.head(5)"
   ]
  },
  {
   "cell_type": "code",
   "execution_count": 21,
   "metadata": {},
   "outputs": [
    {
     "name": "stderr",
     "output_type": "stream",
     "text": [
      "C:\\Users\\julie\\anaconda3\\lib\\site-packages\\pandas\\core\\frame.py:4296: SettingWithCopyWarning: \n",
      "A value is trying to be set on a copy of a slice from a DataFrame\n",
      "\n",
      "See the caveats in the documentation: https://pandas.pydata.org/pandas-docs/stable/user_guide/indexing.html#returning-a-view-versus-a-copy\n",
      "  return super().rename(\n"
     ]
    },
    {
     "data": {
      "text/html": [
       "<div>\n",
       "<style scoped>\n",
       "    .dataframe tbody tr th:only-of-type {\n",
       "        vertical-align: middle;\n",
       "    }\n",
       "\n",
       "    .dataframe tbody tr th {\n",
       "        vertical-align: top;\n",
       "    }\n",
       "\n",
       "    .dataframe thead th {\n",
       "        text-align: right;\n",
       "    }\n",
       "</style>\n",
       "<table border=\"1\" class=\"dataframe\">\n",
       "  <thead>\n",
       "    <tr style=\"text-align: right;\">\n",
       "      <th></th>\n",
       "      <th>Country Code</th>\n",
       "      <th>Country Name</th>\n",
       "      <th>VAR</th>\n",
       "      <th>Value</th>\n",
       "    </tr>\n",
       "  </thead>\n",
       "  <tbody>\n",
       "    <tr>\n",
       "      <th>29</th>\n",
       "      <td>AUS</td>\n",
       "      <td>Australie</td>\n",
       "      <td>DF_HR_PRACT</td>\n",
       "      <td>1.82</td>\n",
       "    </tr>\n",
       "    <tr>\n",
       "      <th>34</th>\n",
       "      <td>AUS</td>\n",
       "      <td>Australie</td>\n",
       "      <td>RPI_VAW_PRACT</td>\n",
       "      <td>16.90</td>\n",
       "    </tr>\n",
       "    <tr>\n",
       "      <th>36</th>\n",
       "      <td>AUS</td>\n",
       "      <td>Australie</td>\n",
       "      <td>RPI_MW_PRACT</td>\n",
       "      <td>105.50</td>\n",
       "    </tr>\n",
       "    <tr>\n",
       "      <th>38</th>\n",
       "      <td>AUS</td>\n",
       "      <td>Australie</td>\n",
       "      <td>RPI_RA_PRACT</td>\n",
       "      <td>11.00</td>\n",
       "    </tr>\n",
       "    <tr>\n",
       "      <th>42</th>\n",
       "      <td>AUS</td>\n",
       "      <td>Australie</td>\n",
       "      <td>RAPFR_SAFS_PRACT</td>\n",
       "      <td>50.00</td>\n",
       "    </tr>\n",
       "  </tbody>\n",
       "</table>\n",
       "</div>"
      ],
      "text/plain": [
       "   Country Code Country Name               VAR   Value\n",
       "29          AUS    Australie       DF_HR_PRACT    1.82\n",
       "34          AUS    Australie     RPI_VAW_PRACT   16.90\n",
       "36          AUS    Australie      RPI_MW_PRACT  105.50\n",
       "38          AUS    Australie      RPI_RA_PRACT   11.00\n",
       "42          AUS    Australie  RAPFR_SAFS_PRACT   50.00"
      ]
     },
     "execution_count": 21,
     "metadata": {},
     "output_type": "execute_result"
    }
   ],
   "source": [
    "# on ne sélectionne que les lignes 'pratique' qui correspondent à la réalité des faits \n",
    "df_ocde2=df_ocde[df_ocde['Variable']==\"Pratique\"]\n",
    "df_ocde2.rename(columns={'ï»¿\"REGION\"': 'region_monde', 'RÃ©gion': 'region', 'LOCATION': 'Country Code', 'Pays':'Country Name'}, inplace=True)\n",
    "df_ocde2=df_ocde2[df_ocde2['region_monde']==\"ALL\"]\n",
    "df_ocde3=df_ocde2[['Country Code', 'Country Name', 'VAR', 'Value']]\n",
    "df_ocde3.head(5)"
   ]
  },
  {
   "cell_type": "markdown",
   "metadata": {},
   "source": [
    "### 1.3.3 Df de l'Union Parlementaire"
   ]
  },
  {
   "cell_type": "code",
   "execution_count": 23,
   "metadata": {},
   "outputs": [],
   "source": [
    "df_percent_women = pd.read_csv('./chamber--current_women_percent.csv', sep=',', encoding='utf-8')\n",
    "df_quota = pd.read_csv('./chamber--field_is_electoral_quota_women.csv', sep=',', encoding='utf-8')\n",
    "df_spe_body = pd.read_csv('./chamber--specialized_body__women.csv', sep=',', encoding='utf-8')"
   ]
  },
  {
   "cell_type": "code",
   "execution_count": 24,
   "metadata": {},
   "outputs": [],
   "source": [
    "df_percent_women = df_percent_women.iloc[3: , : ]\n",
    "df_percent_women.drop(df_percent_women.columns[[0]], axis=1, inplace=True)"
   ]
  },
  {
   "cell_type": "code",
   "execution_count": 25,
   "metadata": {},
   "outputs": [],
   "source": [
    "df_percent_women.columns = [\"Country\", \"Elections (lower house)\", \"Seats\", \"Women\", \"Women proportion (lower house)\", \"Elections (upper house)\", \"Seats\", \"Women\", \"Women proportion (upper house)\"]\n",
    "df_percent_women = df_percent_women.iloc[2: , : ]\n",
    "df_percent_women.reset_index(inplace=True, drop=True)"
   ]
  },
  {
   "cell_type": "code",
   "execution_count": 26,
   "metadata": {},
   "outputs": [],
   "source": [
    "#On ne conserve que les colonnes utiles\n",
    "df_percent_women2 = df_percent_women[[\"Country\", \"Women proportion (upper house)\"]]"
   ]
  },
  {
   "cell_type": "code",
   "execution_count": 27,
   "metadata": {},
   "outputs": [],
   "source": [
    "def nettoyage(df, d, l):\n",
    "    \n",
    "    #df est le data frame\n",
    "    #d représente l'indice des colonnes à supprimer\n",
    "    #l représente l'indice de lignes à partir duquel il convient de conserver les données\n",
    "    \n",
    "    df = df.drop(df.columns[d], axis=1) #On supprime les colonnes vides\n",
    "    df = df.iloc[l: , : ] #On conserve les lignes comportant les noms des colonnes et les données\n",
    "    df.columns = df.iloc[0] #On renomme les colonnes\n",
    "    df.reset_index(inplace=True, drop=True) \n",
    "    df = df.iloc[pd.RangeIndex(len(df)).drop(0)] \n",
    "    df.reset_index(inplace=True, drop=True)\n",
    "    return df"
   ]
  },
  {
   "cell_type": "code",
   "execution_count": 28,
   "metadata": {},
   "outputs": [],
   "source": [
    "df_quota = nettoyage(df_quota, 6, 5)\n",
    "df_quota.columns = [\"2-alpha code\", \"Country\", \"House\", \"Quota\", \"Structure\", \"House type\"]"
   ]
  },
  {
   "cell_type": "code",
   "execution_count": 29,
   "metadata": {},
   "outputs": [],
   "source": [
    "#On ne conserve que les colonnes utiles\n",
    "df_quota = df_quota[[\"2-alpha code\", \"Country\", \"Quota\"]]"
   ]
  },
  {
   "cell_type": "code",
   "execution_count": 30,
   "metadata": {},
   "outputs": [],
   "source": [
    "df_spe_body = nettoyage(df_spe_body, 6, 5)\n",
    "df_spe_body.columns = [\"2-alpha code\", \"Country\", \"House\", \"Specialized body\", \"Structure\", \"House type\"]"
   ]
  },
  {
   "cell_type": "code",
   "execution_count": 31,
   "metadata": {},
   "outputs": [],
   "source": [
    "#On ne conserve que les colonnes utiles\n",
    "df_spe_body2 = df_spe_body[[\"2-alpha code\", \"Specialized body\"]]"
   ]
  },
  {
   "cell_type": "markdown",
   "metadata": {},
   "source": [
    "On importe une nouvelle base de données qui nous permet de faire coïncider le code alpha 2 avec le code alpha 3"
   ]
  },
  {
   "cell_type": "markdown",
   "metadata": {},
   "source": [
    "# 2.Sélection des indicateurs pertinents"
   ]
  },
  {
   "cell_type": "markdown",
   "metadata": {},
   "source": [
    "- stats descriptives sur les indicateurs de la banque mondiale, ocde,... avec sélection des variables women, female,... \n",
    "- parler d'indicateurs pertinents et pas pertinents \n",
    "- à la fin mettre le tableau des proportionnalités de Julie"
   ]
  },
  {
   "cell_type": "markdown",
   "metadata": {},
   "source": [
    "Le premier indicateur que nous avons particulièrement exploité dans le cadre de ce projet est l'indicateur PIB par habitantde 2019 de la Banque Mondiale (\"\"GDP per capita 2019\"). Nous avons estimé que cet indicateur serait le plus pertinent pour mesurer le niveau de développement économique du pays dans le cadre denotre étude, bien qu'il soit parfois contesté."
   ]
  },
  {
   "cell_type": "markdown",
   "metadata": {},
   "source": [
    "## Quelques fonctions utiles "
   ]
  },
  {
   "cell_type": "code",
   "execution_count": 32,
   "metadata": {},
   "outputs": [],
   "source": [
    "def bm_select(Indicator, row_name):\n",
    "\n",
    "    df=df_bm2[df_bm2['Indicator Code']==Indicator]\n",
    "    df=df[[\"Country Code\", \"2019\"]]\n",
    "    df.rename(columns={'2019':row_name}, inplace=True)\n",
    "    \n",
    "    return df"
   ]
  },
  {
   "cell_type": "markdown",
   "metadata": {},
   "source": [
    "## Le PIB par habitant, 2019 "
   ]
  },
  {
   "cell_type": "code",
   "execution_count": 33,
   "metadata": {},
   "outputs": [],
   "source": [
    "df_pib=bm_select('NY.GDP.PCAP.KD', \"GDP per capita 2019\")\n",
    "df_pib_name=df_bm2[df_bm2['Indicator Name']==\"GDP per capita (constant 2015 US$)\"]\n",
    "df_pib_name=df_pib_name[[\"Country Name\",\"2019\", \"Country Code\"]]\n",
    "df_pib_name.rename(columns={'2019': 'GDP per capita 2019'}, inplace=True)"
   ]
  },
  {
   "cell_type": "markdown",
   "metadata": {},
   "source": [
    "On effectue quelques statistiques descriptives de ce PIB en le visualisant par aire géographique. Le PIB par tête semble plus élevé là où le droit des femmes semble le plus développé.\n"
   ]
  },
  {
   "cell_type": "code",
   "execution_count": 34,
   "metadata": {},
   "outputs": [
    {
     "name": "stderr",
     "output_type": "stream",
     "text": [
      "<ipython-input-34-d6f51c0e7886>:3: SettingWithCopyWarning: \n",
      "A value is trying to be set on a copy of a slice from a DataFrame\n",
      "\n",
      "See the caveats in the documentation: https://pandas.pydata.org/pandas-docs/stable/user_guide/indexing.html#returning-a-view-versus-a-copy\n",
      "  df_pib2.sort_values(\"GDP per capita 2019\",ascending = True, inplace = True)\n"
     ]
    }
   ],
   "source": [
    "liste_continents=['AFE','AFW', 'ARB', 'EAS', 'EUU', 'LCN', 'MEA', 'NAC', 'WLD', 'SAS']\n",
    "df_pib2=df_pib_name[df_pib_name['Country Code'].isin(liste_continents)]\n",
    "df_pib2.sort_values(\"GDP per capita 2019\",ascending = True, inplace = True)"
   ]
  },
  {
   "cell_type": "code",
   "execution_count": 35,
   "metadata": {},
   "outputs": [
    {
     "data": {
      "text/plain": [
       "Text(0.5, 0, 'GDP per capita (2019)')"
      ]
     },
     "execution_count": 35,
     "metadata": {},
     "output_type": "execute_result"
    },
    {
     "data": {
      "image/png": "[encoded data removed]",
      "text/plain": [
       "<Figure size 432x288 with 1 Axes>"
      ]
     },
     "metadata": {
      "needs_background": "light"
     },
     "output_type": "display_data"
    }
   ],
   "source": [
    "plt.barh(df_pib2[\"Country Name\"], df_pib2['GDP per capita 2019'], color=\"blue\")\n",
    "plt.title('GDP per capita (2019) of different regions')\n",
    "plt.xlabel('GDP per capita (2019)')"
   ]
  },
  {
   "cell_type": "markdown",
   "metadata": {},
   "source": [
    "## Données relatives à la condition des femmes "
   ]
  },
  {
   "cell_type": "markdown",
   "metadata": {},
   "source": [
    "Au sein des bases de données de la Banque Mondiale et de l'OCDE, nous avons effectué un gros travail afin de trouver les indicateurs complets et pertinents dans notre cadre d'étude, à savoir celui de l'impact de la condition des femmes sur le niveau de développement économique des pays. Par exemple, nous avons été amenées dans un premier temps à créer des sous-dataframes du dataframe de la Banque Mondiale regroupant les indicateurs contenant les termes \"gender\", \"female\" ou encore \"women\", puis à les examiner pour un seul pays à l'image de la France afin d'en avoir une meilleure visibilité (dans la mesure où l'indicateur existe pour chaque pays). "
   ]
  },
  {
   "cell_type": "code",
   "execution_count": 36,
   "metadata": {
    "scrolled": true
   },
   "outputs": [
    {
     "name": "stderr",
     "output_type": "stream",
     "text": [
      "C:\\Users\\julie\\anaconda3\\lib\\site-packages\\pandas\\core\\frame.py:4296: SettingWithCopyWarning: \n",
      "A value is trying to be set on a copy of a slice from a DataFrame\n",
      "\n",
      "See the caveats in the documentation: https://pandas.pydata.org/pandas-docs/stable/user_guide/indexing.html#returning-a-view-versus-a-copy\n",
      "  return super().rename(\n"
     ]
    }
   ],
   "source": [
    "df_bm2.rename(columns={'Indicator Name': 'Indicator'}, inplace=True)\n",
    "df_women=df_bm2[df_bm2.Indicator.str.contains('women', case=False)]\n",
    "df_gender=df_bm2[df_bm2.Indicator.str.contains('gender', case=False)]\n",
    "df_female=df_bm2[df_bm2.Indicator.str.contains('female', case=False)]"
   ]
  },
  {
   "cell_type": "markdown",
   "metadata": {},
   "source": [
    "Par exemple:"
   ]
  },
  {
   "cell_type": "code",
   "execution_count": 37,
   "metadata": {},
   "outputs": [
    {
     "data": {
      "text/html": [
       "<div>\n",
       "<style scoped>\n",
       "    .dataframe tbody tr th:only-of-type {\n",
       "        vertical-align: middle;\n",
       "    }\n",
       "\n",
       "    .dataframe tbody tr th {\n",
       "        vertical-align: top;\n",
       "    }\n",
       "\n",
       "    .dataframe thead th {\n",
       "        text-align: right;\n",
       "    }\n",
       "</style>\n",
       "<table border=\"1\" class=\"dataframe\">\n",
       "  <thead>\n",
       "    <tr style=\"text-align: right;\">\n",
       "      <th></th>\n",
       "      <th>Country Code</th>\n",
       "      <th>Country Name</th>\n",
       "      <th>Indicator</th>\n",
       "      <th>Indicator Code</th>\n",
       "      <th>2019</th>\n",
       "    </tr>\n",
       "  </thead>\n",
       "  <tbody>\n",
       "    <tr>\n",
       "      <th>168879</th>\n",
       "      <td>FRA</td>\n",
       "      <td>France</td>\n",
       "      <td>Adolescent fertility rate (births per 1,000 wo...</td>\n",
       "      <td>SP.ADO.TFRT</td>\n",
       "      <td>4.7454</td>\n",
       "    </tr>\n",
       "    <tr>\n",
       "      <th>168918</th>\n",
       "      <td>FRA</td>\n",
       "      <td>France</td>\n",
       "      <td>Antiretroviral therapy coverage for PMTCT (% o...</td>\n",
       "      <td>SH.HIV.PMTC.ZS</td>\n",
       "      <td>NaN</td>\n",
       "    </tr>\n",
       "    <tr>\n",
       "      <th>169060</th>\n",
       "      <td>FRA</td>\n",
       "      <td>France</td>\n",
       "      <td>Contraceptive prevalence, any methods (% of wo...</td>\n",
       "      <td>SP.DYN.CONU.ZS</td>\n",
       "      <td>NaN</td>\n",
       "    </tr>\n",
       "    <tr>\n",
       "      <th>169061</th>\n",
       "      <td>FRA</td>\n",
       "      <td>France</td>\n",
       "      <td>Contraceptive prevalence, modern methods (% of...</td>\n",
       "      <td>SP.DYN.CONM.ZS</td>\n",
       "      <td>NaN</td>\n",
       "    </tr>\n",
       "    <tr>\n",
       "      <th>169128</th>\n",
       "      <td>FRA</td>\n",
       "      <td>France</td>\n",
       "      <td>Demand for family planning satisfied by modern...</td>\n",
       "      <td>SH.FPL.SATM.ZS</td>\n",
       "      <td>NaN</td>\n",
       "    </tr>\n",
       "  </tbody>\n",
       "</table>\n",
       "</div>"
      ],
      "text/plain": [
       "       Country Code Country Name  \\\n",
       "168879          FRA       France   \n",
       "168918          FRA       France   \n",
       "169060          FRA       France   \n",
       "169061          FRA       France   \n",
       "169128          FRA       France   \n",
       "\n",
       "                                                Indicator  Indicator Code  \\\n",
       "168879  Adolescent fertility rate (births per 1,000 wo...     SP.ADO.TFRT   \n",
       "168918  Antiretroviral therapy coverage for PMTCT (% o...  SH.HIV.PMTC.ZS   \n",
       "169060  Contraceptive prevalence, any methods (% of wo...  SP.DYN.CONU.ZS   \n",
       "169061  Contraceptive prevalence, modern methods (% of...  SP.DYN.CONM.ZS   \n",
       "169128  Demand for family planning satisfied by modern...  SH.FPL.SATM.ZS   \n",
       "\n",
       "          2019  \n",
       "168879  4.7454  \n",
       "168918     NaN  \n",
       "169060     NaN  \n",
       "169061     NaN  \n",
       "169128     NaN  "
      ]
     },
     "execution_count": 37,
     "metadata": {},
     "output_type": "execute_result"
    }
   ],
   "source": [
    "FR=df_women[df_women['Country Name']==\"France\"]\n",
    "FR.head()"
   ]
  },
  {
   "cell_type": "markdown",
   "metadata": {},
   "source": [
    "Puis nous avons étudié manuellement les indicateurs de ce dataframe et leurs corrélations avec par exemple le PIB par habitants en 2019. Voici quelques exemples de variables qui nous ont semblées pertinentes plutôt que d'autres."
   ]
  },
  {
   "cell_type": "code",
   "execution_count": 74,
   "metadata": {},
   "outputs": [],
   "source": [
    "def corr_indicateurs(df1, df2, indicator_name) :\n",
    "    \n",
    "    X = df1[df1['Indicator']== indicator_name] # on sélectionne l'indicateur qui nous intéresse\n",
    "        \n",
    "    #On supprime la colonne 'Indicator code'\n",
    "    X = X.drop(['Indicator Code'], axis = 1)\n",
    "    \n",
    "    #On supprime la colonne country name de la base PIB\n",
    "    Y = df2.drop(['Country Name'], axis = 1)\n",
    "    \n",
    "    #On fusionne les 2 bases de données\n",
    "    Z = X.merge(Y, how='inner', on= 'Country Code')\n",
    "    \n",
    "    #On supprime les lignes où certaines données sont manquantes\n",
    "    index_with_nan = Z.index[Z.isnull().any(axis=1)]\n",
    "    Z.drop(index_with_nan,0, inplace=True)\n",
    "    print(\"Le nombre d'obervations est : \", Z.shape[0]) #On affiche le nombre d'observations restantes\n",
    "    \n",
    "    #On réalise les graphiques de corrélation\n",
    "    X_ = Z.iloc[:,3].values\n",
    "    y_ = Z.iloc[:,4].values\n",
    "    \n",
    "    graph = plt.scatter(X_, y_, color=\"green\")\n",
    "    \n",
    "    return graph"
   ]
  },
  {
   "cell_type": "code",
   "execution_count": 75,
   "metadata": {},
   "outputs": [
    {
     "name": "stdout",
     "output_type": "stream",
     "text": [
      "Le nombre d'obervations est :  225\n"
     ]
    },
    {
     "data": {
      "text/plain": [
       "Text(0, 0.5, 'GDP per capita (2019)')"
      ]
     },
     "execution_count": 75,
     "metadata": {},
     "output_type": "execute_result"
    },
    {
     "data": {
      "image/png": "[encoded data removed]",
      "text/plain": [
       "<Figure size 432x288 with 1 Axes>"
      ]
     },
     "metadata": {
      "needs_background": "light"
     },
     "output_type": "display_data"
    }
   ],
   "source": [
    "#Graphique de corrélation pour l'indicateur 'Wage and salaried workers, female (% of female employment) (modeled ILO estimate)'\n",
    "\n",
    "corr_indicateurs(df_female, df_pib_name, 'Wage and salaried workers, female (% of female employment) (modeled ILO estimate)')\n",
    "plt.title('Relation between the GDP per capita (2019) and the wage of salaried workers (women)')\n",
    "plt.xlabel('Wage of salaried workers (women) ')\n",
    "plt.ylabel('GDP per capita (2019)')"
   ]
  },
  {
   "cell_type": "code",
   "execution_count": 76,
   "metadata": {},
   "outputs": [
    {
     "name": "stdout",
     "output_type": "stream",
     "text": [
      "Le nombre d'obervations est :  231\n"
     ]
    },
    {
     "data": {
      "text/plain": [
       "Text(0, 0.5, 'GDP per capita (2019)')"
      ]
     },
     "execution_count": 76,
     "metadata": {},
     "output_type": "execute_result"
    },
    {
     "data": {
      "image/png": "[encoded data removed]",
      "text/plain": [
       "<Figure size 432x288 with 1 Axes>"
      ]
     },
     "metadata": {
      "needs_background": "light"
     },
     "output_type": "display_data"
    }
   ],
   "source": [
    "#Graphique de corrélation pour l'indicateur 'Prevalence of anemia among non-pregnant women (% of women ages 15-49)'\n",
    "\n",
    "corr_indicateurs(df_women, df_pib_name, 'Prevalence of anemia among non-pregnant women (% of women ages 15-49)')\n",
    "plt.title('Relation between the GDP per capita (2019) and the prevalence of anemia among non-pregnant women (% of women ages 15-49)')\n",
    "plt.xlabel('Prevalence of anemia among non-pregnant women')\n",
    "plt.ylabel('GDP per capita (2019)')"
   ]
  },
  {
   "cell_type": "code",
   "execution_count": 77,
   "metadata": {},
   "outputs": [
    {
     "name": "stdout",
     "output_type": "stream",
     "text": [
      "Le nombre d'obervations est :  225\n"
     ]
    },
    {
     "data": {
      "text/plain": [
       "Text(0, 0.5, 'GDP per capita (2019)')"
      ]
     },
     "execution_count": 77,
     "metadata": {},
     "output_type": "execute_result"
    },
    {
     "data": {
      "image/png": "[encoded data removed]",
      "text/plain": [
       "<Figure size 432x288 with 1 Axes>"
      ]
     },
     "metadata": {
      "needs_background": "light"
     },
     "output_type": "display_data"
    }
   ],
   "source": [
    "#Graphique de corrélation pour l'indicateur 'Vulnerable employment, female (% of male employment) (modeled ILO estimate)'\n",
    "\n",
    "corr_indicateurs(df_female, df_pib_name, 'Vulnerable employment, female (% of female employment) (modeled ILO estimate)')\n",
    "plt.title('Relation between the GDP per capita (2019) and vulnerable employment of women')\n",
    "plt.xlabel('Vulnerable employment of women')\n",
    "plt.ylabel('GDP per capita (2019)')"
   ]
  },
  {
   "cell_type": "code",
   "execution_count": 78,
   "metadata": {},
   "outputs": [
    {
     "name": "stdout",
     "output_type": "stream",
     "text": [
      "Le nombre d'obervations est :  40\n"
     ]
    },
    {
     "data": {
      "text/plain": [
       "Text(0, 0.5, 'GDP per capita (2019)')"
      ]
     },
     "execution_count": 78,
     "metadata": {},
     "output_type": "execute_result"
    },
    {
     "data": {
      "image/png": "[encoded data removed]",
      "text/plain": [
       "<Figure size 432x288 with 1 Axes>"
      ]
     },
     "metadata": {
      "needs_background": "light"
     },
     "output_type": "display_data"
    }
   ],
   "source": [
    "#Exemple d'indicateur non pertinent : Educational attainment, at least completed lower secondary, population 25+, female (%) (cumulative)\n",
    "\n",
    "corr_indicateurs(df_female, df_pib_name, 'Educational attainment, at least completed lower secondary, population 25+, female (%) (cumulative)')\n",
    "plt.title('Relation between the GDP per capita (2019) and the educational attainment for women over 25 (at least completed lower secondary)')\n",
    "plt.xlabel('Educational attainment, at least completed lower secondary (women)')\n",
    "plt.ylabel('GDP per capita (2019)')"
   ]
  },
  {
   "cell_type": "markdown",
   "metadata": {},
   "source": [
    "Nous avons choisi de ne pas intégrer les variables peu renseignées à notre projet. \n",
    "Nous avons choisi de retenir au total 17 variables explicatives dans notre base de donnée du projet : \n",
    "- Fertility\n",
    "- Life expectancy of women at birth\n",
    "- Prevalence of anemia among non pregnant women\n",
    "- Women share of population living with HIV \n",
    "- Domestic time ratio women on men\n",
    "- Women s share amoung bank account owners \n",
    "- Adolescents out of school, female\n",
    "- Children out of school, female\n",
    "- Primary completion rate, female\n",
    "- No contraception used without wanting having children\n",
    "- Physical and sexual violences on women\n",
    "- Abortion\n",
    "- Women on vulnerable job\n",
    "- Employment to population ratio, 15+, female\n",
    "- Quota in parliament\n",
    "- Specialized body (regarding gender equality) in parliament\n",
    "- Women proportion (upper house)"
   ]
  },
  {
   "cell_type": "markdown",
   "metadata": {},
   "source": [
    "# 3. Création de la base de données"
   ]
  },
  {
   "cell_type": "markdown",
   "metadata": {},
   "source": [
    "- je pense qu'ici il faudrait qu'on ait une base globale avec tous les indicateurs pertinets fusionnés de l'OCDE, banque mondiale,... (il me semble que c'est dans les consignes mais pas sure il faudriat vérifier)"
   ]
  },
  {
   "cell_type": "markdown",
   "metadata": {},
   "source": [
    "# 4. Création des indicateurs dimensionnels des inégalités hommes/femmes"
   ]
  },
  {
   "cell_type": "markdown",
   "metadata": {},
   "source": [
    "- au début on met les fonctions qui permettent de sélectionner les variables + de normaliser dans la base globale qu'on a créée + pondéraion\n",
    "- création de chaque indicateur avec pondérations "
   ]
  },
  {
   "cell_type": "markdown",
   "metadata": {},
   "source": [
    "# 5. Création de l'indicateur global "
   ]
  },
  {
   "cell_type": "markdown",
   "metadata": {},
   "source": [
    "- indicateur global \n",
    "- régression"
   ]
  },
  {
   "cell_type": "markdown",
   "metadata": {},
   "source": [
    "# 6. Statistiques globales sur l'indicateur"
   ]
  },
  {
   "cell_type": "markdown",
   "metadata": {},
   "source": [
    "- boxplot \n",
    "- graph en bâtons par continents "
   ]
  },
  {
   "cell_type": "markdown",
   "metadata": {},
   "source": [
    "# 7. Visualisation de l'indicateur "
   ]
  },
  {
   "cell_type": "markdown",
   "metadata": {},
   "source": [
    "- carte"
   ]
  },
  {
   "cell_type": "markdown",
   "metadata": {},
   "source": [
    "# Conclusion"
   ]
  }
 ],
 "metadata": {
  "kernelspec": {
   "display_name": "Python 3",
   "language": "python",
   "name": "python3"
  },
  "language_info": {
   "codemirror_mode": {
    "name": "ipython",
    "version": 3
   },
   "file_extension": ".py",
   "mimetype": "text/x-python",
   "name": "python",
   "nbconvert_exporter": "python",
   "pygments_lexer": "ipython3",
   "version": "3.8.5"
  }
 },
 "nbformat": 4,
 "nbformat_minor": 5
}
