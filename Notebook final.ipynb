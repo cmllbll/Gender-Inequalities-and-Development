{
 "cells": [
  {
   "cell_type": "markdown",
   "metadata": {},
   "source": [
    "# La condition des femmes et le développement économique \n",
    "Camille BALLU, Gaëlle DORMION et Julie NOWACK, 2A ENSAE Paris, Janvier 2022"
   ]
  },
  {
   "cell_type": "markdown",
   "metadata": {},
   "source": [
    "# Introduction "
   ]
  },
  {
   "cell_type": "markdown",
   "metadata": {},
   "source": [
    "Selon l'OCDE, l'Organisme de Coopération et de Développement Economique, \"Les économies sont plus résilientes, productives et inclusives lorsqu'elles réduisent les inégalités entre les sexes et soutiennent activement la participation égale des femmes dans toutes les sphères de la vie\". L'idée selon laquelle les inégalités de genre freinent le développement tant sur un plan économique qu'humain semble mise en avant ici.\n",
    "\n",
    "C'est ce qui nous a conduites à étudier le lien entre la situation économique et sociale des femmes et le niveau de développement du pays. Nous avons modélisé le niveau de développement des pays en nous appuyant sur le PIB (Produit Intérieur Brut) par tête.  \n",
    "\n",
    "Pour mesurer ce lien, nous avons construit un indicateur multidimensionnel qui évalue l'impact de la condition des femmes sur le développement. En nous inspirant des travaux menés sur le GII (Gender Inequality Index), cet indicateur prend en compte de multiples facettes de la situation des femmes en lien avec leur activité et ressources économiques, leur santé, l'autonomie vis-à-vis de leurs corps, leur éducation, leur représentation au niveau politique, ou encore leur famille. Lorsque cela a été possible, nous avons choisi de comparer la situation des femmes à celle des hommes dans un même pays.\n",
    "\n",
    "Pour mener ce travail, nous nous appuyons principalement sur les données de l'OCDE et de la Banque mondiale ainsi que des données scrappées. "
   ]
  },
  {
   "cell_type": "markdown",
   "metadata": {},
   "source": [
    "Avant de débuter, il est nécessaire d'avoir installé sur son environnement Python les packages sous les versions suivantes: \n",
    "\n",
    "- geopandas>=0.10\n",
    "- numpy>=1.21\n",
    "- pycountry>=20.7\n",
    "- pandas>=1.3.4\n",
    "- PACKAGE JULIE ? "
   ]
  },
  {
   "cell_type": "code",
   "execution_count": 1,
   "metadata": {},
   "outputs": [],
   "source": [
    "import numpy as np\n",
    "import pandas\n",
    "import pandas as pd\n",
    "import matplotlib.pyplot as plt\n",
    "import pycountry \n",
    "import urllib\n",
    "import bs4\n",
    "from urllib import request\n",
    "import statsmodels.api as sm"
   ]
  },
  {
   "cell_type": "markdown",
   "metadata": {},
   "source": [
    "# 1. Travail préalable de récupération des données"
   ]
  },
  {
   "cell_type": "markdown",
   "metadata": {},
   "source": [
    "## 1.1. Récupération des données sous le format csv"
   ]
  },
  {
   "cell_type": "markdown",
   "metadata": {},
   "source": [
    "Les données que nous utilisons proviennent de différentes sources. Nous travaillons principalement sur la base WDIData de la Banque Mondiale ainsi que sur la base de 2019 de l'OCDE, mais nous avons dû également scrapper certaines données qui nous paraissaient essentielles à l'étude de la situation des femmes à l'image du taux de fertilité par femme (présent mais de façon incomplète dans la base de donnée de la Banque Mondiale) ou encore du droit à l'avortement, sur des sites comme Wikipédia. Nous avons choisi dans l'ensemble de restreindre l'étude à l'année 2019 qui est la dernière année relativement bien documentée avant l'arrivée de la pandémie. \n",
    "\n",
    "Nous avons téléchargé nos fichiers .csv sur les sites suivants:\n",
    "- Données de la Banque mondiale (fichier CSV \"WDIData.csv\" disponible à l'adresse suivante: https://datacatalog.worldbank.org/search/dataset/0037712/World-Development-Indicators?fbclid=IwAR2nT7GW8KtjcMaN6VCc3zAuNVPXsGJ8Ew9AvPACwE4703KmMoyiQuRGkc8). Cette base permet de recueillir des données relatives à la situation économique et sociale d'un pays depuis 1960.  \n",
    "- Données de l'OCDE (fichier CSV \"GIDDB2019_05012022164738556.csv\" (et renommé \"oecd3.csv\" dans la suite du projet) disponible à l'adresse suivante: https://stats.oecd.org/viewhtml.aspx?datasetcode=GIDDB2019&lang=fr). Des données relatives à l'égalité homme-femme y sont disponibles pour l'année 2019. \n",
    "\n",
    "- Données de l'Union Interparlementaire, disponibles aux adresses suivantes (3 Data set) : https://data.ipu.org/fr/women-ranking?month=11&year=2021 pour le pourcentage de femmes au sein des parlements, https://data.ipu.org/fr/specialized-bodies/fr?sb_theme=106 pour l'existence d'organe spécialisé dans la question de l'égalité des sexes et https://data.ipu.org/fr/compare?field=chamber%3A%3Afield_is_electoral_quota_women&structure=any__lower_chamber#map pour les données sur l'existence de quotas éllectoraux au parlement des différents pays. "
   ]
  },
  {
   "cell_type": "markdown",
   "metadata": {},
   "source": [
    "## 1.2. Scrapping des données"
   ]
  },
  {
   "cell_type": "markdown",
   "metadata": {},
   "source": [
    "### 1.2.1. Scrapping du taux de fertilité "
   ]
  },
  {
   "cell_type": "code",
   "execution_count": 2,
   "metadata": {},
   "outputs": [],
   "source": [
    "#Scrapping du taux de fertilité sur Wikipédia (en anglais)\n",
    "url_fertility_tx = \"https://en.wikipedia.org/wiki/List_of_sovereign_states_and_dependencies_by_total_fertility_rate\"\n",
    "request_text = request.urlopen(url_fertility_tx).read() \n",
    "page = bs4.BeautifulSoup(request_text, \"lxml\")\n",
    "table_fertility_tx = page.find('table', {'class' : 'wikitable sortable'})\n",
    "table_body = table_fertility_tx.find('tbody')\n",
    "\n",
    "rows = table_body.find_all('tr')\n",
    "cols = rows[1].find_all('td')\n",
    "\n",
    "dico_fertility = dict()\n",
    "for row in rows:\n",
    "    cols = row.find_all('td')\n",
    "    cols = [ele.text.strip() for ele in cols]\n",
    "    if len(cols) > 0 : \n",
    "        dico_fertility[cols[1]] = cols[2:]"
   ]
  },
  {
   "cell_type": "code",
   "execution_count": 3,
   "metadata": {},
   "outputs": [],
   "source": [
    "#On organise les données dans un dataframe\n",
    "data_fertility = pandas.DataFrame.from_dict(dico_fertility,orient='index')"
   ]
  },
  {
   "cell_type": "markdown",
   "metadata": {},
   "source": [
    "Il s'agit désormais de nettoyer les données scrappées et de les mettre en forme pour pouvoir les exploiter après. "
   ]
  },
  {
   "cell_type": "code",
   "execution_count": 4,
   "metadata": {},
   "outputs": [
    {
     "name": "stdout",
     "output_type": "stream",
     "text": [
      "[<th>Rank</th>, <th>Country</th>, <th>Fertility rate <br/> in 2019<br/><small>(births/woman)</small>\n",
      "</th>]\n",
      "[]\n",
      "[]\n",
      "[]\n",
      "[]\n",
      "[]\n",
      "[]\n",
      "[]\n",
      "[]\n",
      "[]\n",
      "[]\n",
      "[]\n",
      "[]\n",
      "[]\n",
      "[]\n",
      "[]\n",
      "[]\n",
      "[]\n",
      "[]\n",
      "[]\n",
      "[]\n",
      "[]\n",
      "[]\n",
      "[]\n",
      "[]\n",
      "[]\n",
      "[]\n",
      "[]\n",
      "[]\n",
      "[]\n",
      "[]\n",
      "[]\n",
      "[]\n",
      "[]\n",
      "[]\n",
      "[]\n",
      "[]\n",
      "[]\n",
      "[]\n",
      "[]\n",
      "[]\n",
      "[]\n",
      "[]\n",
      "[]\n",
      "[]\n",
      "[]\n",
      "[]\n",
      "[]\n",
      "[]\n",
      "[]\n",
      "[]\n",
      "[]\n",
      "[]\n",
      "[]\n",
      "[]\n",
      "[]\n",
      "[]\n",
      "[]\n",
      "[]\n",
      "[]\n",
      "[]\n",
      "[]\n",
      "[]\n",
      "[]\n",
      "[]\n",
      "[]\n",
      "[]\n",
      "[]\n",
      "[]\n",
      "[]\n",
      "[]\n",
      "[]\n",
      "[]\n",
      "[]\n",
      "[]\n",
      "[]\n",
      "[]\n",
      "[]\n",
      "[]\n",
      "[]\n",
      "[]\n",
      "[]\n",
      "[]\n",
      "[]\n",
      "[]\n",
      "[]\n",
      "[]\n",
      "[]\n",
      "[]\n",
      "[]\n",
      "[]\n",
      "[]\n",
      "[]\n",
      "[]\n",
      "[]\n",
      "[]\n",
      "[]\n",
      "[]\n",
      "[]\n",
      "[]\n",
      "[]\n",
      "[]\n",
      "[]\n",
      "[]\n",
      "[]\n",
      "[]\n",
      "[]\n",
      "[]\n",
      "[]\n",
      "[]\n",
      "[]\n",
      "[]\n",
      "[]\n",
      "[]\n",
      "[]\n",
      "[]\n",
      "[]\n",
      "[]\n",
      "[]\n",
      "[]\n",
      "[]\n",
      "[]\n",
      "[]\n",
      "[]\n",
      "[]\n",
      "[]\n",
      "[]\n",
      "[]\n",
      "[]\n",
      "[]\n",
      "[]\n",
      "[]\n",
      "[]\n",
      "[]\n",
      "[]\n",
      "[]\n",
      "[]\n",
      "[]\n",
      "[]\n",
      "[]\n",
      "[]\n",
      "[]\n",
      "[]\n",
      "[]\n",
      "[]\n",
      "[]\n",
      "[]\n",
      "[]\n",
      "[]\n",
      "[]\n",
      "[]\n",
      "[]\n",
      "[]\n",
      "[]\n",
      "[]\n",
      "[]\n",
      "[]\n",
      "[]\n",
      "[]\n",
      "[]\n",
      "[]\n",
      "[]\n",
      "[]\n",
      "[]\n",
      "[]\n",
      "[]\n",
      "[]\n",
      "[]\n",
      "[]\n",
      "[]\n",
      "[]\n",
      "[]\n",
      "[]\n",
      "[]\n",
      "[]\n",
      "[]\n",
      "[]\n",
      "[]\n",
      "[]\n",
      "[]\n",
      "[]\n",
      "[]\n",
      "[]\n",
      "[]\n",
      "[]\n",
      "[]\n",
      "[]\n",
      "[]\n",
      "[]\n",
      "[]\n",
      "[]\n",
      "[]\n",
      "[]\n",
      "[]\n",
      "[]\n",
      "[]\n",
      "[]\n",
      "[]\n",
      "[]\n",
      "[]\n",
      "[]\n",
      "[]\n",
      "[]\n",
      "[]\n",
      "[]\n",
      "[]\n",
      "[]\n",
      "[]\n",
      "[]\n",
      "[]\n",
      "[]\n",
      "[]\n",
      "[]\n",
      "[]\n",
      "[]\n",
      "[]\n",
      "[]\n",
      "[]\n",
      "[]\n",
      "[]\n",
      "[]\n",
      "[]\n",
      "[]\n",
      "[]\n",
      "[]\n",
      "[]\n",
      "[]\n",
      "[]\n",
      "[]\n",
      "[]\n",
      "[]\n",
      "[]\n",
      "[]\n",
      "[]\n",
      "[]\n",
      "[]\n",
      "[]\n",
      "[]\n",
      "[]\n",
      "[]\n",
      "[]\n",
      "[]\n",
      "[]\n",
      "[]\n",
      "[]\n",
      "[]\n",
      "[]\n",
      "[]\n",
      "[]\n",
      "[]\n",
      "[]\n",
      "[]\n",
      "[]\n",
      "[]\n",
      "[]\n",
      "[]\n",
      "[]\n",
      "[]\n",
      "[]\n",
      "[]\n",
      "[]\n",
      "[]\n",
      "[]\n",
      "[]\n",
      "[]\n",
      "[]\n",
      "[]\n"
     ]
    }
   ],
   "source": [
    "#On réorganise tout d'abord les colonnes du dataframe\n",
    "for row in rows:\n",
    "    cols = row.find_all('th')\n",
    "    print(cols)\n",
    "    if len(cols) > 0 : \n",
    "        cols = [ele.get_text(separator=' ').strip().title() for ele in cols]\n",
    "        columns_pays = cols"
   ]
  },
  {
   "cell_type": "code",
   "execution_count": 5,
   "metadata": {},
   "outputs": [],
   "source": [
    "data_fertility.columns = columns_pays[2:]\n",
    "data_fertility.reset_index(inplace=True)\n",
    "data_fertility.rename(columns={'index': 'Country Name'}, inplace=True)\n",
    "data_fertility.rename(columns={'Fertility Rate   In 2019 (Births/Woman)': 'Fertility'}, inplace=True)"
   ]
  },
  {
   "cell_type": "markdown",
   "metadata": {},
   "source": [
    "A l'aide du package pycountry de python, on peut ajouter au dataframe une colonne indiquant le code du pays, présent dans la base de données de la banque mondiale et dans la base de données de l'OCDE  et que nous allons utiliser par la suite pour la création des indicateurs car les pays des deux bases sont donnés respectivement en anglais et en français."
   ]
  },
  {
   "cell_type": "code",
   "execution_count": 6,
   "metadata": {},
   "outputs": [],
   "source": [
    "def code_pays(column):\n",
    "    CODE=[]\n",
    "    for country in column:\n",
    "        try:\n",
    "            code=pycountry.countries.get(name=country).alpha_3\n",
    "           # .alpha_3 est utilisé pour donner le code en 3 lettres du pays\n",
    "            CODE.append(code)\n",
    "        except:\n",
    "            CODE.append('None')\n",
    "    return CODE# create a column for code \n",
    "data_fertility['CODE']=code_pays(data_fertility[\"Country Name\"])\n",
    "\n",
    "data_fertility.rename(columns={'CODE': 'Country Code'}, inplace=True)"
   ]
  },
  {
   "cell_type": "markdown",
   "metadata": {},
   "source": [
    "Certaines données du tableau ne sont pas exploitbales et doivent par conséquent être nettoyées, soit parce qu'il n'y a pas de taux de fertilité donné pour ces pays (ex:(-)), soit parce qu'elles relèvent de données d'années antérieures à 2019. Nous faisons le choix pour ces pays de remplacer le taux de fertilité de 2019 par ces données antérieures, afin d'avoir une base aussi complète que possible, en faisant l'hypothèse que le taux de fertilité pour ces pays a probablement peu changé en l'espace de quelques années. "
   ]
  },
  {
   "cell_type": "code",
   "execution_count": 7,
   "metadata": {},
   "outputs": [],
   "source": [
    "data_fertility2=data_fertility"
   ]
  },
  {
   "cell_type": "code",
   "execution_count": 8,
   "metadata": {},
   "outputs": [],
   "source": [
    "def cleaner_fertility(char: str ):\n",
    "    try:\n",
    "        if '-' in char : return np.NaN\n",
    "        elif '(' in char :\n",
    "            i=0\n",
    "            while char[i+1]!='(':\n",
    "                i+=1\n",
    "            return float(char[:i])\n",
    "        else: return float(char)\n",
    "    \n",
    "    except:\n",
    "        return char"
   ]
  },
  {
   "cell_type": "code",
   "execution_count": 9,
   "metadata": {},
   "outputs": [
    {
     "data": {
      "text/html": [
       "<div>\n",
       "<style scoped>\n",
       "    .dataframe tbody tr th:only-of-type {\n",
       "        vertical-align: middle;\n",
       "    }\n",
       "\n",
       "    .dataframe tbody tr th {\n",
       "        vertical-align: top;\n",
       "    }\n",
       "\n",
       "    .dataframe thead th {\n",
       "        text-align: right;\n",
       "    }\n",
       "</style>\n",
       "<table border=\"1\" class=\"dataframe\">\n",
       "  <thead>\n",
       "    <tr style=\"text-align: right;\">\n",
       "      <th></th>\n",
       "      <th>Country Name</th>\n",
       "      <th>Fertility</th>\n",
       "      <th>Country Code</th>\n",
       "    </tr>\n",
       "  </thead>\n",
       "  <tbody>\n",
       "    <tr>\n",
       "      <th>0</th>\n",
       "      <td>Niger</td>\n",
       "      <td>6.824</td>\n",
       "      <td>NER</td>\n",
       "    </tr>\n",
       "    <tr>\n",
       "      <th>1</th>\n",
       "      <td>Somalia</td>\n",
       "      <td>5.978</td>\n",
       "      <td>SOM</td>\n",
       "    </tr>\n",
       "    <tr>\n",
       "      <th>2</th>\n",
       "      <td>DR Congo</td>\n",
       "      <td>5.819</td>\n",
       "      <td>None</td>\n",
       "    </tr>\n",
       "    <tr>\n",
       "      <th>3</th>\n",
       "      <td>Mali</td>\n",
       "      <td>5.785</td>\n",
       "      <td>MLI</td>\n",
       "    </tr>\n",
       "    <tr>\n",
       "      <th>4</th>\n",
       "      <td>Chad</td>\n",
       "      <td>5.649</td>\n",
       "      <td>TCD</td>\n",
       "    </tr>\n",
       "    <tr>\n",
       "      <th>...</th>\n",
       "      <td>...</td>\n",
       "      <td>...</td>\n",
       "      <td>...</td>\n",
       "    </tr>\n",
       "    <tr>\n",
       "      <th>259</th>\n",
       "      <td>Saint Kitts and Nevis</td>\n",
       "      <td>2.1</td>\n",
       "      <td>KNA</td>\n",
       "    </tr>\n",
       "    <tr>\n",
       "      <th>260</th>\n",
       "      <td>Turks and Caicos Islands</td>\n",
       "      <td>NaN</td>\n",
       "      <td>TCA</td>\n",
       "    </tr>\n",
       "    <tr>\n",
       "      <th>261</th>\n",
       "      <td>Tuvalu</td>\n",
       "      <td>NaN</td>\n",
       "      <td>TUV</td>\n",
       "    </tr>\n",
       "    <tr>\n",
       "      <th>262</th>\n",
       "      <td>Vatican City</td>\n",
       "      <td>NaN</td>\n",
       "      <td>None</td>\n",
       "    </tr>\n",
       "    <tr>\n",
       "      <th>263</th>\n",
       "      <td>Western Sahara</td>\n",
       "      <td>NaN</td>\n",
       "      <td>ESH</td>\n",
       "    </tr>\n",
       "  </tbody>\n",
       "</table>\n",
       "<p>264 rows × 3 columns</p>\n",
       "</div>"
      ],
      "text/plain": [
       "                 Country Name Fertility Country Code\n",
       "0                       Niger     6.824          NER\n",
       "1                     Somalia     5.978          SOM\n",
       "2                    DR Congo     5.819         None\n",
       "3                        Mali     5.785          MLI\n",
       "4                        Chad     5.649          TCD\n",
       "..                        ...       ...          ...\n",
       "259     Saint Kitts and Nevis       2.1          KNA\n",
       "260  Turks and Caicos Islands       NaN          TCA\n",
       "261                    Tuvalu       NaN          TUV\n",
       "262              Vatican City       NaN         None\n",
       "263            Western Sahara       NaN          ESH\n",
       "\n",
       "[264 rows x 3 columns]"
      ]
     },
     "execution_count": 9,
     "metadata": {},
     "output_type": "execute_result"
    }
   ],
   "source": [
    "data_fertility2.dropna(inplace=True)#fonction qui enlève les potentiels \"NaN\" présents\n",
    "data_fertility2[\"Fertility\"] = data_fertility2[\"Fertility\"].apply(cleaner_fertility)\n",
    "data_fertility2"
   ]
  },
  {
   "cell_type": "code",
   "execution_count": 10,
   "metadata": {},
   "outputs": [
    {
     "data": {
      "text/html": [
       "<div>\n",
       "<style scoped>\n",
       "    .dataframe tbody tr th:only-of-type {\n",
       "        vertical-align: middle;\n",
       "    }\n",
       "\n",
       "    .dataframe tbody tr th {\n",
       "        vertical-align: top;\n",
       "    }\n",
       "\n",
       "    .dataframe thead th {\n",
       "        text-align: right;\n",
       "    }\n",
       "</style>\n",
       "<table border=\"1\" class=\"dataframe\">\n",
       "  <thead>\n",
       "    <tr style=\"text-align: right;\">\n",
       "      <th></th>\n",
       "      <th>Fertility</th>\n",
       "      <th>Country Code</th>\n",
       "    </tr>\n",
       "  </thead>\n",
       "  <tbody>\n",
       "    <tr>\n",
       "      <th>0</th>\n",
       "      <td>6.824</td>\n",
       "      <td>NER</td>\n",
       "    </tr>\n",
       "    <tr>\n",
       "      <th>1</th>\n",
       "      <td>5.978</td>\n",
       "      <td>SOM</td>\n",
       "    </tr>\n",
       "    <tr>\n",
       "      <th>2</th>\n",
       "      <td>5.819</td>\n",
       "      <td>None</td>\n",
       "    </tr>\n",
       "    <tr>\n",
       "      <th>3</th>\n",
       "      <td>5.785</td>\n",
       "      <td>MLI</td>\n",
       "    </tr>\n",
       "    <tr>\n",
       "      <th>4</th>\n",
       "      <td>5.649</td>\n",
       "      <td>TCD</td>\n",
       "    </tr>\n",
       "    <tr>\n",
       "      <th>...</th>\n",
       "      <td>...</td>\n",
       "      <td>...</td>\n",
       "    </tr>\n",
       "    <tr>\n",
       "      <th>259</th>\n",
       "      <td>2.1</td>\n",
       "      <td>KNA</td>\n",
       "    </tr>\n",
       "    <tr>\n",
       "      <th>260</th>\n",
       "      <td>NaN</td>\n",
       "      <td>TCA</td>\n",
       "    </tr>\n",
       "    <tr>\n",
       "      <th>261</th>\n",
       "      <td>NaN</td>\n",
       "      <td>TUV</td>\n",
       "    </tr>\n",
       "    <tr>\n",
       "      <th>262</th>\n",
       "      <td>NaN</td>\n",
       "      <td>None</td>\n",
       "    </tr>\n",
       "    <tr>\n",
       "      <th>263</th>\n",
       "      <td>NaN</td>\n",
       "      <td>ESH</td>\n",
       "    </tr>\n",
       "  </tbody>\n",
       "</table>\n",
       "<p>264 rows × 2 columns</p>\n",
       "</div>"
      ],
      "text/plain": [
       "    Fertility Country Code\n",
       "0       6.824          NER\n",
       "1       5.978          SOM\n",
       "2       5.819         None\n",
       "3       5.785          MLI\n",
       "4       5.649          TCD\n",
       "..        ...          ...\n",
       "259       2.1          KNA\n",
       "260       NaN          TCA\n",
       "261       NaN          TUV\n",
       "262       NaN         None\n",
       "263       NaN          ESH\n",
       "\n",
       "[264 rows x 2 columns]"
      ]
     },
     "execution_count": 10,
     "metadata": {},
     "output_type": "execute_result"
    }
   ],
   "source": [
    "data_fertility2.drop(data_fertility2.columns[[0]], axis=1, inplace = True)\n",
    "data_fertility2"
   ]
  },
  {
   "cell_type": "code",
   "execution_count": 11,
   "metadata": {},
   "outputs": [
    {
     "name": "stderr",
     "output_type": "stream",
     "text": [
      "<ipython-input-11-6a8f86264fba>:3: SettingWithCopyWarning: \n",
      "A value is trying to be set on a copy of a slice from a DataFrame.\n",
      "Try using .loc[row_indexer,col_indexer] = value instead\n",
      "\n",
      "See the caveats in the documentation: https://pandas.pydata.org/pandas-docs/stable/user_guide/indexing.html#returning-a-view-versus-a-copy\n",
      "  data_fertility2[\"Fertility\"] = data_fertility2[\"Fertility\"].astype(float, errors = 'raise')\n"
     ]
    },
    {
     "data": {
      "text/html": [
       "<div>\n",
       "<style scoped>\n",
       "    .dataframe tbody tr th:only-of-type {\n",
       "        vertical-align: middle;\n",
       "    }\n",
       "\n",
       "    .dataframe tbody tr th {\n",
       "        vertical-align: top;\n",
       "    }\n",
       "\n",
       "    .dataframe thead th {\n",
       "        text-align: right;\n",
       "    }\n",
       "</style>\n",
       "<table border=\"1\" class=\"dataframe\">\n",
       "  <thead>\n",
       "    <tr style=\"text-align: right;\">\n",
       "      <th></th>\n",
       "      <th>Fertility</th>\n",
       "      <th>Country Code</th>\n",
       "    </tr>\n",
       "  </thead>\n",
       "  <tbody>\n",
       "    <tr>\n",
       "      <th>0</th>\n",
       "      <td>6.824</td>\n",
       "      <td>NER</td>\n",
       "    </tr>\n",
       "    <tr>\n",
       "      <th>1</th>\n",
       "      <td>5.978</td>\n",
       "      <td>SOM</td>\n",
       "    </tr>\n",
       "    <tr>\n",
       "      <th>3</th>\n",
       "      <td>5.785</td>\n",
       "      <td>MLI</td>\n",
       "    </tr>\n",
       "    <tr>\n",
       "      <th>4</th>\n",
       "      <td>5.649</td>\n",
       "      <td>TCD</td>\n",
       "    </tr>\n",
       "    <tr>\n",
       "      <th>5</th>\n",
       "      <td>5.442</td>\n",
       "      <td>AGO</td>\n",
       "    </tr>\n",
       "    <tr>\n",
       "      <th>...</th>\n",
       "      <td>...</td>\n",
       "      <td>...</td>\n",
       "    </tr>\n",
       "    <tr>\n",
       "      <th>257</th>\n",
       "      <td>1.300</td>\n",
       "      <td>SMR</td>\n",
       "    </tr>\n",
       "    <tr>\n",
       "      <th>259</th>\n",
       "      <td>2.100</td>\n",
       "      <td>KNA</td>\n",
       "    </tr>\n",
       "    <tr>\n",
       "      <th>260</th>\n",
       "      <td>NaN</td>\n",
       "      <td>TCA</td>\n",
       "    </tr>\n",
       "    <tr>\n",
       "      <th>261</th>\n",
       "      <td>NaN</td>\n",
       "      <td>TUV</td>\n",
       "    </tr>\n",
       "    <tr>\n",
       "      <th>263</th>\n",
       "      <td>NaN</td>\n",
       "      <td>ESH</td>\n",
       "    </tr>\n",
       "  </tbody>\n",
       "</table>\n",
       "<p>174 rows × 2 columns</p>\n",
       "</div>"
      ],
      "text/plain": [
       "     Fertility Country Code\n",
       "0        6.824          NER\n",
       "1        5.978          SOM\n",
       "3        5.785          MLI\n",
       "4        5.649          TCD\n",
       "5        5.442          AGO\n",
       "..         ...          ...\n",
       "257      1.300          SMR\n",
       "259      2.100          KNA\n",
       "260        NaN          TCA\n",
       "261        NaN          TUV\n",
       "263        NaN          ESH\n",
       "\n",
       "[174 rows x 2 columns]"
      ]
     },
     "execution_count": 11,
     "metadata": {},
     "output_type": "execute_result"
    }
   ],
   "source": [
    "supprimer=[\"None\"]\n",
    "data_fertility2=data_fertility2[~data_fertility2['Country Code'].isin(supprimer)]\n",
    "data_fertility2[\"Fertility\"] = data_fertility2[\"Fertility\"].astype(float, errors = 'raise')\n",
    "data_fertility2"
   ]
  },
  {
   "cell_type": "code",
   "execution_count": 12,
   "metadata": {},
   "outputs": [],
   "source": [
    "# Exportation en .csv \n",
    "data_fertility2.to_csv('data_fertility2.csv')"
   ]
  },
  {
   "cell_type": "markdown",
   "metadata": {},
   "source": [
    "### 1.2.2. Scrapping de la législation sur l'avortement "
   ]
  },
  {
   "cell_type": "markdown",
   "metadata": {},
   "source": [
    "On scrappe des données relatives à la législation sur l'avortement sur le site Wikipédia (\"https://en.wikipedia.org/wiki/Abortion_law\")."
   ]
  },
  {
   "cell_type": "code",
   "execution_count": 13,
   "metadata": {},
   "outputs": [],
   "source": [
    "url_abortion_law = \"https://en.wikipedia.org/wiki/Abortion_law\"\n",
    "request_text = request.urlopen(url_abortion_law).read() \n",
    "page = bs4.BeautifulSoup(request_text, \"lxml\")\n",
    "table_abortion_law = page.find('table', {'class' : 'wikitable sortable collapsible'})\n",
    "table_body = table_abortion_law.find('tbody')\n",
    "\n",
    "rows = table_body.find_all('tr')\n",
    "cols = rows[1].find_all('td')\n",
    "\n",
    "dico_abortion = dict()\n",
    "for row in rows:\n",
    "    cols = row.find_all('td')\n",
    "    cols = [ele.text.strip() for ele in cols]\n",
    "    if len(cols) > 0 : \n",
    "        dico_abortion[cols[0]] = cols[1:]"
   ]
  },
  {
   "cell_type": "code",
   "execution_count": 14,
   "metadata": {},
   "outputs": [],
   "source": [
    "data_abortion = pandas.DataFrame.from_dict(dico_abortion,orient='index')"
   ]
  },
  {
   "cell_type": "markdown",
   "metadata": {},
   "source": [
    "On nettoie ensuite le dataframe. On choisit de créer une indicatrice traduisant la possibilité pour les femmes d'avorter ou non par choix (1: possibilité d'avorter par choix, 0: impossibilité). "
   ]
  },
  {
   "cell_type": "code",
   "execution_count": 15,
   "metadata": {},
   "outputs": [],
   "source": [
    "# Fonction qui va servir pour le nettoyage de la base de données\n",
    "def cleaner_abortion (char: str):\n",
    "    assert type(char)==str, \"The row does not contains str\"\n",
    "    if '-' in char: return np.NaN\n",
    "    elif '[' in char:\n",
    "        i=0\n",
    "        while char[i+1]!= '[':\n",
    "            i+=1\n",
    "        return str(char[:i+1])\n",
    "    else: return str(char)"
   ]
  },
  {
   "cell_type": "code",
   "execution_count": 16,
   "metadata": {},
   "outputs": [
    {
     "name": "stdout",
     "output_type": "stream",
     "text": [
      "[<th>Country</th>, <th style=\"width:70px\">Risk to life</th>, <th style=\"width:70px\">Risk to health</th>, <th style=\"width:70px\">Rape</th>, <th style=\"width:70px\">Fetal impairment</th>, <th style=\"width:70px\">Economic or social</th>, <th style=\"width:70px\">On request\n",
      "</th>]\n",
      "[]\n",
      "[]\n",
      "[]\n",
      "[]\n",
      "[]\n",
      "[]\n",
      "[]\n",
      "[]\n",
      "[]\n",
      "[]\n",
      "[]\n",
      "[]\n",
      "[]\n",
      "[]\n",
      "[]\n",
      "[]\n",
      "[]\n",
      "[]\n",
      "[]\n",
      "[]\n",
      "[]\n",
      "[]\n",
      "[]\n",
      "[]\n",
      "[]\n",
      "[]\n",
      "[]\n",
      "[]\n",
      "[]\n",
      "[]\n",
      "[]\n",
      "[]\n",
      "[<th>Country</th>, <th style=\"width:70px\">Risk to life</th>, <th style=\"width:70px\">Risk to health</th>, <th style=\"width:70px\">Rape</th>, <th style=\"width:70px\">Fetal impairment</th>, <th style=\"width:70px\">Economic or social</th>, <th style=\"width:70px\">On request\n",
      "</th>]\n",
      "[]\n",
      "[]\n",
      "[]\n",
      "[]\n",
      "[]\n",
      "[]\n",
      "[]\n",
      "[]\n",
      "[]\n",
      "[]\n",
      "[]\n",
      "[]\n",
      "[]\n",
      "[]\n",
      "[]\n",
      "[]\n",
      "[]\n",
      "[]\n",
      "[]\n",
      "[]\n",
      "[]\n",
      "[]\n",
      "[]\n",
      "[]\n",
      "[]\n",
      "[]\n",
      "[]\n",
      "[]\n",
      "[]\n",
      "[]\n",
      "[]\n",
      "[]\n",
      "[]\n",
      "[]\n",
      "[]\n",
      "[]\n",
      "[<th>Country</th>, <th style=\"width:70px\">Risk to life</th>, <th style=\"width:70px\">Risk to health</th>, <th style=\"width:70px\">Rape</th>, <th style=\"width:70px\">Fetal impairment</th>, <th style=\"width:70px\">Economic or social</th>, <th style=\"width:70px\">On request\n",
      "</th>]\n",
      "[]\n",
      "[]\n",
      "[]\n",
      "[]\n",
      "[]\n",
      "[]\n",
      "[]\n",
      "[]\n",
      "[]\n",
      "[]\n",
      "[]\n",
      "[]\n",
      "[]\n",
      "[]\n",
      "[]\n",
      "[]\n",
      "[]\n",
      "[]\n",
      "[]\n",
      "[]\n",
      "[<th>Country</th>, <th style=\"width:70px\">Risk to life</th>, <th style=\"width:70px\">Risk to health</th>, <th style=\"width:70px\">Rape</th>, <th style=\"width:70px\">Fetal impairment</th>, <th style=\"width:70px\">Economic or social</th>, <th style=\"width:70px\">On request\n",
      "</th>]\n",
      "[]\n",
      "[]\n",
      "[]\n",
      "[]\n",
      "[]\n",
      "[]\n",
      "[]\n",
      "[]\n",
      "[]\n",
      "[]\n",
      "[]\n",
      "[]\n",
      "[]\n",
      "[]\n",
      "[]\n",
      "[]\n",
      "[]\n",
      "[]\n",
      "[]\n",
      "[]\n",
      "[<th>Country</th>, <th style=\"width:70px\">Risk to life</th>, <th style=\"width:70px\">Risk to health</th>, <th style=\"width:70px\">Rape</th>, <th style=\"width:70px\">Fetal impairment</th>, <th style=\"width:70px\">Economic or social</th>, <th style=\"width:70px\">On request\n",
      "</th>]\n",
      "[]\n",
      "[]\n",
      "[]\n",
      "[]\n",
      "[]\n",
      "[]\n",
      "[]\n",
      "[]\n",
      "[]\n",
      "[]\n",
      "[]\n",
      "[]\n",
      "[]\n",
      "[]\n",
      "[]\n",
      "[]\n",
      "[]\n",
      "[]\n",
      "[]\n",
      "[]\n",
      "[<th>Country</th>, <th style=\"width:70px\">Risk to life</th>, <th style=\"width:70px\">Risk to health</th>, <th style=\"width:70px\">Rape</th>, <th style=\"width:70px\">Fetal impairment</th>, <th style=\"width:70px\">Economic or social</th>, <th style=\"width:70px\">On request\n",
      "</th>]\n",
      "[]\n",
      "[]\n",
      "[]\n",
      "[]\n",
      "[]\n",
      "[]\n",
      "[]\n",
      "[]\n",
      "[]\n",
      "[]\n",
      "[]\n",
      "[]\n",
      "[]\n",
      "[]\n",
      "[]\n",
      "[]\n",
      "[]\n",
      "[]\n",
      "[]\n",
      "[]\n",
      "[]\n",
      "[]\n",
      "[]\n",
      "[]\n",
      "[]\n",
      "[]\n",
      "[]\n",
      "[]\n",
      "[]\n",
      "[]\n",
      "[]\n",
      "[]\n",
      "[]\n",
      "[]\n",
      "[]\n",
      "[]\n",
      "[]\n",
      "[]\n",
      "[]\n",
      "[]\n",
      "[]\n",
      "[]\n",
      "[]\n",
      "[]\n",
      "[]\n",
      "[]\n",
      "[]\n",
      "[]\n",
      "[]\n",
      "[]\n",
      "[]\n",
      "[]\n",
      "[<th>Country</th>, <th style=\"width:70px\">Risk to life</th>, <th style=\"width:70px\">Risk to health</th>, <th style=\"width:70px\">Rape</th>, <th style=\"width:70px\">Fetal impairment</th>, <th style=\"width:70px\">Economic or social</th>, <th style=\"width:70px\">On request\n",
      "</th>]\n",
      "[]\n",
      "[]\n",
      "[]\n",
      "[]\n",
      "[]\n",
      "[]\n",
      "[]\n",
      "[]\n",
      "[]\n",
      "[]\n",
      "[]\n",
      "[]\n",
      "[]\n",
      "[]\n",
      "[]\n",
      "[]\n",
      "[]\n",
      "[]\n",
      "[]\n",
      "[]\n",
      "[]\n",
      "[]\n",
      "[]\n",
      "[]\n",
      "[]\n",
      "[]\n",
      "[]\n",
      "[]\n",
      "[]\n",
      "[]\n",
      "[]\n",
      "[]\n",
      "[]\n",
      "[]\n",
      "[]\n",
      "[]\n",
      "[]\n",
      "[]\n",
      "[]\n",
      "[]\n",
      "[]\n",
      "[]\n",
      "[]\n",
      "[]\n",
      "[]\n",
      "[]\n",
      "[]\n",
      "[]\n",
      "[]\n",
      "[]\n",
      "[]\n",
      "[]\n",
      "[]\n",
      "[]\n",
      "[]\n",
      "[]\n",
      "[]\n",
      "[<th>Country</th>, <th style=\"width:70px\">Risk to life</th>, <th style=\"width:70px\">Risk to health</th>, <th style=\"width:70px\">Rape</th>, <th style=\"width:70px\">Fetal impairment</th>, <th style=\"width:70px\">Economic or social</th>, <th style=\"width:70px\">On request\n",
      "</th>]\n",
      "[]\n",
      "[]\n",
      "[]\n",
      "[]\n",
      "[]\n",
      "[]\n",
      "[]\n",
      "[]\n",
      "[]\n",
      "[]\n",
      "[]\n",
      "[]\n",
      "[]\n",
      "[]\n",
      "[]\n",
      "[]\n",
      "[]\n",
      "[]\n",
      "[]\n",
      "[]\n",
      "[<th>Country</th>, <th style=\"width:70px\">Risk to life</th>, <th style=\"width:70px\">Risk to health</th>, <th style=\"width:70px\">Rape</th>, <th style=\"width:70px\">Fetal impairment</th>, <th style=\"width:70px\">Economic or social</th>, <th style=\"width:70px\">On request\n",
      "</th>]\n",
      "[]\n",
      "[]\n",
      "[]\n",
      "[]\n",
      "[]\n",
      "[]\n",
      "[]\n",
      "[]\n",
      "[]\n",
      "[]\n",
      "[]\n",
      "[]\n",
      "[]\n",
      "[]\n",
      "[]\n",
      "[]\n",
      "[]\n",
      "[]\n",
      "[]\n",
      "[]\n",
      "[<th>Country</th>, <th style=\"width:70px\">Risk to life</th>, <th style=\"width:70px\">Risk to health</th>, <th style=\"width:70px\">Rape</th>, <th style=\"width:70px\">Fetal impairment</th>, <th style=\"width:70px\">Economic or social</th>, <th style=\"width:70px\">On request\n",
      "</th>]\n",
      "[]\n",
      "[]\n",
      "[]\n",
      "[]\n",
      "[]\n",
      "[]\n",
      "[]\n",
      "[]\n",
      "[]\n",
      "[]\n",
      "[]\n",
      "[]\n",
      "[]\n",
      "[]\n",
      "[]\n",
      "[]\n",
      "[]\n",
      "[]\n",
      "[]\n",
      "[]\n",
      "[]\n",
      "[]\n",
      "[]\n",
      "[]\n",
      "[]\n",
      "[]\n",
      "[]\n",
      "[]\n",
      "[]\n",
      "[]\n",
      "[]\n",
      "[]\n",
      "[]\n",
      "[]\n",
      "[]\n",
      "[]\n",
      "[]\n",
      "[]\n",
      "[]\n",
      "[]\n",
      "[]\n",
      "[]\n",
      "[]\n",
      "[]\n",
      "[]\n",
      "[]\n",
      "[]\n",
      "[]\n",
      "[]\n",
      "[]\n",
      "[]\n",
      "[]\n",
      "[]\n",
      "[]\n",
      "[]\n",
      "[]\n",
      "[]\n",
      "[]\n",
      "[]\n",
      "[]\n",
      "[]\n",
      "[]\n",
      "[]\n",
      "[]\n",
      "[]\n",
      "[]\n",
      "[]\n",
      "[]\n",
      "[]\n",
      "[]\n",
      "[]\n",
      "[]\n",
      "[]\n",
      "[]\n",
      "[]\n",
      "[]\n",
      "[]\n",
      "[<th>Country</th>, <th style=\"width:70px\">Risk to life</th>, <th style=\"width:70px\">Risk to health</th>, <th style=\"width:70px\">Rape</th>, <th style=\"width:70px\">Fetal impairment</th>, <th style=\"width:70px\">Economic or social</th>, <th style=\"width:70px\">On request\n",
      "</th>]\n"
     ]
    }
   ],
   "source": [
    "for row in rows:\n",
    "    cols = row.find_all('th')\n",
    "    print(cols)\n",
    "    if len(cols) > 0 : \n",
    "        cols = [ele.get_text(separator=' ').strip().title() for ele in cols]\n",
    "        columns_country = cols"
   ]
  },
  {
   "cell_type": "code",
   "execution_count": 17,
   "metadata": {},
   "outputs": [
    {
     "data": {
      "text/html": [
       "<div>\n",
       "<style scoped>\n",
       "    .dataframe tbody tr th:only-of-type {\n",
       "        vertical-align: middle;\n",
       "    }\n",
       "\n",
       "    .dataframe tbody tr th {\n",
       "        vertical-align: top;\n",
       "    }\n",
       "\n",
       "    .dataframe thead th {\n",
       "        text-align: right;\n",
       "    }\n",
       "</style>\n",
       "<table border=\"1\" class=\"dataframe\">\n",
       "  <thead>\n",
       "    <tr style=\"text-align: right;\">\n",
       "      <th></th>\n",
       "      <th>Country Name</th>\n",
       "      <th>Risk To Life</th>\n",
       "      <th>Risk To Health</th>\n",
       "      <th>Rape</th>\n",
       "      <th>Fetal Impairment</th>\n",
       "      <th>Economic Or Social</th>\n",
       "      <th>On Request</th>\n",
       "    </tr>\n",
       "  </thead>\n",
       "  <tbody>\n",
       "    <tr>\n",
       "      <th>0</th>\n",
       "      <td>Abkhazia[32]</td>\n",
       "      <td>prohibited</td>\n",
       "      <td>prohibited</td>\n",
       "      <td>prohibited</td>\n",
       "      <td>prohibited</td>\n",
       "      <td>prohibited</td>\n",
       "      <td>prohibited</td>\n",
       "    </tr>\n",
       "    <tr>\n",
       "      <th>1</th>\n",
       "      <td>Afghanistan[needs update?]</td>\n",
       "      <td>permitted[k]</td>\n",
       "      <td>prohibited</td>\n",
       "      <td>prohibited</td>\n",
       "      <td>prohibited[k]</td>\n",
       "      <td>prohibited[k]</td>\n",
       "      <td>prohibited</td>\n",
       "    </tr>\n",
       "    <tr>\n",
       "      <th>2</th>\n",
       "      <td>Albania[16]</td>\n",
       "      <td>22 weeks</td>\n",
       "      <td>22 weeks</td>\n",
       "      <td>22 weeks</td>\n",
       "      <td>no limit</td>\n",
       "      <td>22 weeks</td>\n",
       "      <td>12 weeks</td>\n",
       "    </tr>\n",
       "    <tr>\n",
       "      <th>3</th>\n",
       "      <td>Algeria[39]</td>\n",
       "      <td>permitted</td>\n",
       "      <td>permitted</td>\n",
       "      <td>prohibited</td>\n",
       "      <td>prohibited</td>\n",
       "      <td>prohibited</td>\n",
       "      <td>prohibited</td>\n",
       "    </tr>\n",
       "    <tr>\n",
       "      <th>4</th>\n",
       "      <td>Andorra</td>\n",
       "      <td>prohibited[l]</td>\n",
       "      <td>prohibited</td>\n",
       "      <td>prohibited</td>\n",
       "      <td>prohibited</td>\n",
       "      <td>prohibited</td>\n",
       "      <td>prohibited</td>\n",
       "    </tr>\n",
       "  </tbody>\n",
       "</table>\n",
       "</div>"
      ],
      "text/plain": [
       "                 Country Name   Risk To Life Risk To Health        Rape  \\\n",
       "0                Abkhazia[32]     prohibited     prohibited  prohibited   \n",
       "1  Afghanistan[needs update?]   permitted[k]     prohibited  prohibited   \n",
       "2                 Albania[16]       22 weeks       22 weeks    22 weeks   \n",
       "3                 Algeria[39]      permitted      permitted  prohibited   \n",
       "4                     Andorra  prohibited[l]     prohibited  prohibited   \n",
       "\n",
       "  Fetal Impairment Economic Or Social  On Request  \n",
       "0       prohibited         prohibited  prohibited  \n",
       "1    prohibited[k]      prohibited[k]  prohibited  \n",
       "2         no limit           22 weeks    12 weeks  \n",
       "3       prohibited         prohibited  prohibited  \n",
       "4       prohibited         prohibited  prohibited  "
      ]
     },
     "execution_count": 17,
     "metadata": {},
     "output_type": "execute_result"
    }
   ],
   "source": [
    "data_abortion.columns = columns_country[1:]\n",
    "data_abortion.reset_index(inplace=True)\n",
    "data_abortion.rename(columns={'index': 'Country Name'}, inplace=True)\n",
    "data_abortion.head()"
   ]
  },
  {
   "cell_type": "code",
   "execution_count": 18,
   "metadata": {},
   "outputs": [
    {
     "data": {
      "text/html": [
       "<div>\n",
       "<style scoped>\n",
       "    .dataframe tbody tr th:only-of-type {\n",
       "        vertical-align: middle;\n",
       "    }\n",
       "\n",
       "    .dataframe tbody tr th {\n",
       "        vertical-align: top;\n",
       "    }\n",
       "\n",
       "    .dataframe thead th {\n",
       "        text-align: right;\n",
       "    }\n",
       "</style>\n",
       "<table border=\"1\" class=\"dataframe\">\n",
       "  <thead>\n",
       "    <tr style=\"text-align: right;\">\n",
       "      <th></th>\n",
       "      <th>Country Name</th>\n",
       "      <th>abortion</th>\n",
       "    </tr>\n",
       "  </thead>\n",
       "  <tbody>\n",
       "    <tr>\n",
       "      <th>0</th>\n",
       "      <td>Abkhazia</td>\n",
       "      <td>0</td>\n",
       "    </tr>\n",
       "    <tr>\n",
       "      <th>1</th>\n",
       "      <td>Afghanistan</td>\n",
       "      <td>0</td>\n",
       "    </tr>\n",
       "    <tr>\n",
       "      <th>2</th>\n",
       "      <td>Albania</td>\n",
       "      <td>1</td>\n",
       "    </tr>\n",
       "    <tr>\n",
       "      <th>3</th>\n",
       "      <td>Algeria</td>\n",
       "      <td>0</td>\n",
       "    </tr>\n",
       "    <tr>\n",
       "      <th>4</th>\n",
       "      <td>Andorra</td>\n",
       "      <td>0</td>\n",
       "    </tr>\n",
       "  </tbody>\n",
       "</table>\n",
       "</div>"
      ],
      "text/plain": [
       "  Country Name  abortion\n",
       "0     Abkhazia         0\n",
       "1  Afghanistan         0\n",
       "2      Albania         1\n",
       "3      Algeria         0\n",
       "4      Andorra         0"
      ]
     },
     "execution_count": 18,
     "metadata": {},
     "output_type": "execute_result"
    }
   ],
   "source": [
    "data_abortion2=data_abortion\n",
    "data_abortion2['abortion'] = data_abortion2['On Request'].str.contains(\"permitted|weeks\", na=False).astype(int)\n",
    "data_abortion2[\"Country Name\"]=data_abortion2[\"Country Name\"].apply(cleaner_abortion)\n",
    "data_abortion2=data_abortion2[[\"Country Name\", \"abortion\"]]\n",
    "data_abortion2.head(5)"
   ]
  },
  {
   "cell_type": "code",
   "execution_count": 19,
   "metadata": {},
   "outputs": [],
   "source": [
    "# Exportation en .csv \n",
    "data_abortion2.to_csv('data_abortion2.csv')"
   ]
  },
  {
   "cell_type": "markdown",
   "metadata": {},
   "source": [
    "## 1.3. Nettoyage des bases de données de la Banque mondiale et de l'OCDE"
   ]
  },
  {
   "cell_type": "markdown",
   "metadata": {},
   "source": [
    "### 1.3.1. Df de la Banque mondiale"
   ]
  },
  {
   "cell_type": "code",
   "execution_count": 20,
   "metadata": {},
   "outputs": [
    {
     "data": {
      "text/html": [
       "<div>\n",
       "<style scoped>\n",
       "    .dataframe tbody tr th:only-of-type {\n",
       "        vertical-align: middle;\n",
       "    }\n",
       "\n",
       "    .dataframe tbody tr th {\n",
       "        vertical-align: top;\n",
       "    }\n",
       "\n",
       "    .dataframe thead th {\n",
       "        text-align: right;\n",
       "    }\n",
       "</style>\n",
       "<table border=\"1\" class=\"dataframe\">\n",
       "  <thead>\n",
       "    <tr style=\"text-align: right;\">\n",
       "      <th></th>\n",
       "      <th>Country Name</th>\n",
       "      <th>Country Code</th>\n",
       "      <th>Indicator Name</th>\n",
       "      <th>Indicator Code</th>\n",
       "      <th>1960</th>\n",
       "      <th>1961</th>\n",
       "      <th>1962</th>\n",
       "      <th>1963</th>\n",
       "      <th>1964</th>\n",
       "      <th>1965</th>\n",
       "      <th>...</th>\n",
       "      <th>2012</th>\n",
       "      <th>2013</th>\n",
       "      <th>2014</th>\n",
       "      <th>2015</th>\n",
       "      <th>2016</th>\n",
       "      <th>2017</th>\n",
       "      <th>2018</th>\n",
       "      <th>2019</th>\n",
       "      <th>2020</th>\n",
       "      <th>Unnamed: 65</th>\n",
       "    </tr>\n",
       "  </thead>\n",
       "  <tbody>\n",
       "    <tr>\n",
       "      <th>0</th>\n",
       "      <td>Africa Eastern and Southern</td>\n",
       "      <td>AFE</td>\n",
       "      <td>Access to clean fuels and technologies for coo...</td>\n",
       "      <td>EG.CFT.ACCS.ZS</td>\n",
       "      <td>NaN</td>\n",
       "      <td>NaN</td>\n",
       "      <td>NaN</td>\n",
       "      <td>NaN</td>\n",
       "      <td>NaN</td>\n",
       "      <td>NaN</td>\n",
       "      <td>...</td>\n",
       "      <td>16.320475</td>\n",
       "      <td>16.643243</td>\n",
       "      <td>16.994695</td>\n",
       "      <td>17.313168</td>\n",
       "      <td>17.604950</td>\n",
       "      <td>NaN</td>\n",
       "      <td>NaN</td>\n",
       "      <td>NaN</td>\n",
       "      <td>NaN</td>\n",
       "      <td>NaN</td>\n",
       "    </tr>\n",
       "    <tr>\n",
       "      <th>1</th>\n",
       "      <td>Africa Eastern and Southern</td>\n",
       "      <td>AFE</td>\n",
       "      <td>Access to electricity (% of population)</td>\n",
       "      <td>EG.ELC.ACCS.ZS</td>\n",
       "      <td>NaN</td>\n",
       "      <td>NaN</td>\n",
       "      <td>NaN</td>\n",
       "      <td>NaN</td>\n",
       "      <td>NaN</td>\n",
       "      <td>NaN</td>\n",
       "      <td>...</td>\n",
       "      <td>32.224027</td>\n",
       "      <td>32.046478</td>\n",
       "      <td>31.323579</td>\n",
       "      <td>33.312163</td>\n",
       "      <td>38.380433</td>\n",
       "      <td>39.754201</td>\n",
       "      <td>42.168241</td>\n",
       "      <td>43.640661</td>\n",
       "      <td>NaN</td>\n",
       "      <td>NaN</td>\n",
       "    </tr>\n",
       "    <tr>\n",
       "      <th>2</th>\n",
       "      <td>Africa Eastern and Southern</td>\n",
       "      <td>AFE</td>\n",
       "      <td>Access to electricity, rural (% of rural popul...</td>\n",
       "      <td>EG.ELC.ACCS.RU.ZS</td>\n",
       "      <td>NaN</td>\n",
       "      <td>NaN</td>\n",
       "      <td>NaN</td>\n",
       "      <td>NaN</td>\n",
       "      <td>NaN</td>\n",
       "      <td>NaN</td>\n",
       "      <td>...</td>\n",
       "      <td>20.525353</td>\n",
       "      <td>19.461383</td>\n",
       "      <td>17.790698</td>\n",
       "      <td>16.553470</td>\n",
       "      <td>23.907897</td>\n",
       "      <td>24.624725</td>\n",
       "      <td>26.813900</td>\n",
       "      <td>28.841150</td>\n",
       "      <td>NaN</td>\n",
       "      <td>NaN</td>\n",
       "    </tr>\n",
       "  </tbody>\n",
       "</table>\n",
       "<p>3 rows × 66 columns</p>\n",
       "</div>"
      ],
      "text/plain": [
       "                  Country Name Country Code  \\\n",
       "0  Africa Eastern and Southern          AFE   \n",
       "1  Africa Eastern and Southern          AFE   \n",
       "2  Africa Eastern and Southern          AFE   \n",
       "\n",
       "                                      Indicator Name     Indicator Code  1960  \\\n",
       "0  Access to clean fuels and technologies for coo...     EG.CFT.ACCS.ZS   NaN   \n",
       "1            Access to electricity (% of population)     EG.ELC.ACCS.ZS   NaN   \n",
       "2  Access to electricity, rural (% of rural popul...  EG.ELC.ACCS.RU.ZS   NaN   \n",
       "\n",
       "   1961  1962  1963  1964  1965  ...       2012       2013       2014  \\\n",
       "0   NaN   NaN   NaN   NaN   NaN  ...  16.320475  16.643243  16.994695   \n",
       "1   NaN   NaN   NaN   NaN   NaN  ...  32.224027  32.046478  31.323579   \n",
       "2   NaN   NaN   NaN   NaN   NaN  ...  20.525353  19.461383  17.790698   \n",
       "\n",
       "        2015       2016       2017       2018       2019  2020  Unnamed: 65  \n",
       "0  17.313168  17.604950        NaN        NaN        NaN   NaN          NaN  \n",
       "1  33.312163  38.380433  39.754201  42.168241  43.640661   NaN          NaN  \n",
       "2  16.553470  23.907897  24.624725  26.813900  28.841150   NaN          NaN  \n",
       "\n",
       "[3 rows x 66 columns]"
      ]
     },
     "execution_count": 20,
     "metadata": {},
     "output_type": "execute_result"
    }
   ],
   "source": [
    "# Dataframe de la Banque mondiale \n",
    "df_bm=pd.read_csv(\"WDIData.csv\")\n",
    "df_bm.head(3)"
   ]
  },
  {
   "cell_type": "code",
   "execution_count": 21,
   "metadata": {},
   "outputs": [
    {
     "data": {
      "text/html": [
       "<div>\n",
       "<style scoped>\n",
       "    .dataframe tbody tr th:only-of-type {\n",
       "        vertical-align: middle;\n",
       "    }\n",
       "\n",
       "    .dataframe tbody tr th {\n",
       "        vertical-align: top;\n",
       "    }\n",
       "\n",
       "    .dataframe thead th {\n",
       "        text-align: right;\n",
       "    }\n",
       "</style>\n",
       "<table border=\"1\" class=\"dataframe\">\n",
       "  <thead>\n",
       "    <tr style=\"text-align: right;\">\n",
       "      <th></th>\n",
       "      <th>Country Code</th>\n",
       "      <th>Country Name</th>\n",
       "      <th>Indicator Name</th>\n",
       "      <th>Indicator Code</th>\n",
       "      <th>2019</th>\n",
       "    </tr>\n",
       "  </thead>\n",
       "  <tbody>\n",
       "    <tr>\n",
       "      <th>0</th>\n",
       "      <td>AFE</td>\n",
       "      <td>Africa Eastern and Southern</td>\n",
       "      <td>Access to clean fuels and technologies for coo...</td>\n",
       "      <td>EG.CFT.ACCS.ZS</td>\n",
       "      <td>NaN</td>\n",
       "    </tr>\n",
       "    <tr>\n",
       "      <th>1</th>\n",
       "      <td>AFE</td>\n",
       "      <td>Africa Eastern and Southern</td>\n",
       "      <td>Access to electricity (% of population)</td>\n",
       "      <td>EG.ELC.ACCS.ZS</td>\n",
       "      <td>43.640661</td>\n",
       "    </tr>\n",
       "    <tr>\n",
       "      <th>2</th>\n",
       "      <td>AFE</td>\n",
       "      <td>Africa Eastern and Southern</td>\n",
       "      <td>Access to electricity, rural (% of rural popul...</td>\n",
       "      <td>EG.ELC.ACCS.RU.ZS</td>\n",
       "      <td>28.841150</td>\n",
       "    </tr>\n",
       "    <tr>\n",
       "      <th>3</th>\n",
       "      <td>AFE</td>\n",
       "      <td>Africa Eastern and Southern</td>\n",
       "      <td>Access to electricity, urban (% of urban popul...</td>\n",
       "      <td>EG.ELC.ACCS.UR.ZS</td>\n",
       "      <td>73.589886</td>\n",
       "    </tr>\n",
       "    <tr>\n",
       "      <th>4</th>\n",
       "      <td>AFE</td>\n",
       "      <td>Africa Eastern and Southern</td>\n",
       "      <td>Account ownership at a financial institution o...</td>\n",
       "      <td>FX.OWN.TOTL.ZS</td>\n",
       "      <td>NaN</td>\n",
       "    </tr>\n",
       "  </tbody>\n",
       "</table>\n",
       "</div>"
      ],
      "text/plain": [
       "  Country Code                 Country Name  \\\n",
       "0          AFE  Africa Eastern and Southern   \n",
       "1          AFE  Africa Eastern and Southern   \n",
       "2          AFE  Africa Eastern and Southern   \n",
       "3          AFE  Africa Eastern and Southern   \n",
       "4          AFE  Africa Eastern and Southern   \n",
       "\n",
       "                                      Indicator Name     Indicator Code  \\\n",
       "0  Access to clean fuels and technologies for coo...     EG.CFT.ACCS.ZS   \n",
       "1            Access to electricity (% of population)     EG.ELC.ACCS.ZS   \n",
       "2  Access to electricity, rural (% of rural popul...  EG.ELC.ACCS.RU.ZS   \n",
       "3  Access to electricity, urban (% of urban popul...  EG.ELC.ACCS.UR.ZS   \n",
       "4  Account ownership at a financial institution o...     FX.OWN.TOTL.ZS   \n",
       "\n",
       "        2019  \n",
       "0        NaN  \n",
       "1  43.640661  \n",
       "2  28.841150  \n",
       "3  73.589886  \n",
       "4        NaN  "
      ]
     },
     "execution_count": 21,
     "metadata": {},
     "output_type": "execute_result"
    }
   ],
   "source": [
    "# On se restreint aux observations de 2019\n",
    "df_bm2=df_bm[[\"Country Code\", \"Country Name\", \"Indicator Name\", \"Indicator Code\", \"2019\"]]\n",
    "df_bm2.head(5)"
   ]
  },
  {
   "cell_type": "markdown",
   "metadata": {},
   "source": [
    "### 1.3.2. Df de l'OCDE"
   ]
  },
  {
   "cell_type": "code",
   "execution_count": 22,
   "metadata": {},
   "outputs": [
    {
     "data": {
      "text/html": [
       "<div>\n",
       "<style scoped>\n",
       "    .dataframe tbody tr th:only-of-type {\n",
       "        vertical-align: middle;\n",
       "    }\n",
       "\n",
       "    .dataframe tbody tr th {\n",
       "        vertical-align: top;\n",
       "    }\n",
       "\n",
       "    .dataframe thead th {\n",
       "        text-align: right;\n",
       "    }\n",
       "</style>\n",
       "<table border=\"1\" class=\"dataframe\">\n",
       "  <thead>\n",
       "    <tr style=\"text-align: right;\">\n",
       "      <th></th>\n",
       "      <th>ï»¿\"REGION\"</th>\n",
       "      <th>RÃ©gion</th>\n",
       "      <th>LOCATION</th>\n",
       "      <th>Pays</th>\n",
       "      <th>INC</th>\n",
       "      <th>Revenu</th>\n",
       "      <th>VAR</th>\n",
       "      <th>Variable</th>\n",
       "      <th>TIME</th>\n",
       "      <th>AnnÃ©e</th>\n",
       "      <th>Value</th>\n",
       "      <th>Flag Codes</th>\n",
       "      <th>Flags</th>\n",
       "    </tr>\n",
       "  </thead>\n",
       "  <tbody>\n",
       "    <tr>\n",
       "      <th>0</th>\n",
       "      <td>ASI</td>\n",
       "      <td>Asie</td>\n",
       "      <td>AUS</td>\n",
       "      <td>Australie</td>\n",
       "      <td>HIN</td>\n",
       "      <td>ÃlevÃ©</td>\n",
       "      <td>DF_HR_LAW</td>\n",
       "      <td>Loi</td>\n",
       "      <td>2019</td>\n",
       "      <td>2019</td>\n",
       "      <td>0.50</td>\n",
       "      <td>NaN</td>\n",
       "      <td>NaN</td>\n",
       "    </tr>\n",
       "    <tr>\n",
       "      <th>1</th>\n",
       "      <td>ASI</td>\n",
       "      <td>Asie</td>\n",
       "      <td>AUS</td>\n",
       "      <td>Australie</td>\n",
       "      <td>HIN</td>\n",
       "      <td>ÃlevÃ©</td>\n",
       "      <td>DF_HR_ATT</td>\n",
       "      <td>Attitudes</td>\n",
       "      <td>2019</td>\n",
       "      <td>2019</td>\n",
       "      <td>21.10</td>\n",
       "      <td>NaN</td>\n",
       "      <td>NaN</td>\n",
       "    </tr>\n",
       "    <tr>\n",
       "      <th>2</th>\n",
       "      <td>ASI</td>\n",
       "      <td>Asie</td>\n",
       "      <td>AUS</td>\n",
       "      <td>Australie</td>\n",
       "      <td>HIN</td>\n",
       "      <td>ÃlevÃ©</td>\n",
       "      <td>DF_HR_PRACT</td>\n",
       "      <td>Pratique</td>\n",
       "      <td>2019</td>\n",
       "      <td>2019</td>\n",
       "      <td>1.82</td>\n",
       "      <td>NaN</td>\n",
       "      <td>NaN</td>\n",
       "    </tr>\n",
       "    <tr>\n",
       "      <th>3</th>\n",
       "      <td>ASI</td>\n",
       "      <td>Asie</td>\n",
       "      <td>AUS</td>\n",
       "      <td>Australie</td>\n",
       "      <td>HIN</td>\n",
       "      <td>ÃlevÃ©</td>\n",
       "      <td>DF_DV_LAW</td>\n",
       "      <td>Loi</td>\n",
       "      <td>2019</td>\n",
       "      <td>2019</td>\n",
       "      <td>0.00</td>\n",
       "      <td>NaN</td>\n",
       "      <td>NaN</td>\n",
       "    </tr>\n",
       "    <tr>\n",
       "      <th>4</th>\n",
       "      <td>ASI</td>\n",
       "      <td>Asie</td>\n",
       "      <td>AUS</td>\n",
       "      <td>Australie</td>\n",
       "      <td>HIN</td>\n",
       "      <td>ÃlevÃ©</td>\n",
       "      <td>DF_IN_LAW</td>\n",
       "      <td>Loi</td>\n",
       "      <td>2019</td>\n",
       "      <td>2019</td>\n",
       "      <td>0.00</td>\n",
       "      <td>NaN</td>\n",
       "      <td>NaN</td>\n",
       "    </tr>\n",
       "  </tbody>\n",
       "</table>\n",
       "</div>"
      ],
      "text/plain": [
       "  ï»¿\"REGION\" RÃ©gion LOCATION       Pays  INC   Revenu          VAR  \\\n",
       "0         ASI    Asie      AUS  Australie  HIN  ÃlevÃ©    DF_HR_LAW   \n",
       "1         ASI    Asie      AUS  Australie  HIN  ÃlevÃ©    DF_HR_ATT   \n",
       "2         ASI    Asie      AUS  Australie  HIN  ÃlevÃ©  DF_HR_PRACT   \n",
       "3         ASI    Asie      AUS  Australie  HIN  ÃlevÃ©    DF_DV_LAW   \n",
       "4         ASI    Asie      AUS  Australie  HIN  ÃlevÃ©    DF_IN_LAW   \n",
       "\n",
       "    Variable  TIME  AnnÃ©e  Value  Flag Codes  Flags  \n",
       "0        Loi  2019    2019   0.50         NaN    NaN  \n",
       "1  Attitudes  2019    2019  21.10         NaN    NaN  \n",
       "2   Pratique  2019    2019   1.82         NaN    NaN  \n",
       "3        Loi  2019    2019   0.00         NaN    NaN  \n",
       "4        Loi  2019    2019   0.00         NaN    NaN  "
      ]
     },
     "execution_count": 22,
     "metadata": {},
     "output_type": "execute_result"
    }
   ],
   "source": [
    "df_ocde=pd.read_csv('./oecd3.csv', sep=',', encoding='latin-1')\n",
    "df_ocde.head(5)"
   ]
  },
  {
   "cell_type": "code",
   "execution_count": 23,
   "metadata": {},
   "outputs": [
    {
     "name": "stderr",
     "output_type": "stream",
     "text": [
      "C:\\Users\\julie\\anaconda3\\lib\\site-packages\\pandas\\core\\frame.py:4296: SettingWithCopyWarning: \n",
      "A value is trying to be set on a copy of a slice from a DataFrame\n",
      "\n",
      "See the caveats in the documentation: https://pandas.pydata.org/pandas-docs/stable/user_guide/indexing.html#returning-a-view-versus-a-copy\n",
      "  return super().rename(\n"
     ]
    },
    {
     "data": {
      "text/html": [
       "<div>\n",
       "<style scoped>\n",
       "    .dataframe tbody tr th:only-of-type {\n",
       "        vertical-align: middle;\n",
       "    }\n",
       "\n",
       "    .dataframe tbody tr th {\n",
       "        vertical-align: top;\n",
       "    }\n",
       "\n",
       "    .dataframe thead th {\n",
       "        text-align: right;\n",
       "    }\n",
       "</style>\n",
       "<table border=\"1\" class=\"dataframe\">\n",
       "  <thead>\n",
       "    <tr style=\"text-align: right;\">\n",
       "      <th></th>\n",
       "      <th>Country Code</th>\n",
       "      <th>Country Name</th>\n",
       "      <th>VAR</th>\n",
       "      <th>Value</th>\n",
       "    </tr>\n",
       "  </thead>\n",
       "  <tbody>\n",
       "    <tr>\n",
       "      <th>29</th>\n",
       "      <td>AUS</td>\n",
       "      <td>Australie</td>\n",
       "      <td>DF_HR_PRACT</td>\n",
       "      <td>1.82</td>\n",
       "    </tr>\n",
       "    <tr>\n",
       "      <th>34</th>\n",
       "      <td>AUS</td>\n",
       "      <td>Australie</td>\n",
       "      <td>RPI_VAW_PRACT</td>\n",
       "      <td>16.90</td>\n",
       "    </tr>\n",
       "    <tr>\n",
       "      <th>36</th>\n",
       "      <td>AUS</td>\n",
       "      <td>Australie</td>\n",
       "      <td>RPI_MW_PRACT</td>\n",
       "      <td>105.50</td>\n",
       "    </tr>\n",
       "    <tr>\n",
       "      <th>38</th>\n",
       "      <td>AUS</td>\n",
       "      <td>Australie</td>\n",
       "      <td>RPI_RA_PRACT</td>\n",
       "      <td>11.00</td>\n",
       "    </tr>\n",
       "    <tr>\n",
       "      <th>42</th>\n",
       "      <td>AUS</td>\n",
       "      <td>Australie</td>\n",
       "      <td>RAPFR_SAFS_PRACT</td>\n",
       "      <td>50.00</td>\n",
       "    </tr>\n",
       "  </tbody>\n",
       "</table>\n",
       "</div>"
      ],
      "text/plain": [
       "   Country Code Country Name               VAR   Value\n",
       "29          AUS    Australie       DF_HR_PRACT    1.82\n",
       "34          AUS    Australie     RPI_VAW_PRACT   16.90\n",
       "36          AUS    Australie      RPI_MW_PRACT  105.50\n",
       "38          AUS    Australie      RPI_RA_PRACT   11.00\n",
       "42          AUS    Australie  RAPFR_SAFS_PRACT   50.00"
      ]
     },
     "execution_count": 23,
     "metadata": {},
     "output_type": "execute_result"
    }
   ],
   "source": [
    "# on ne sélectionne que les lignes 'pratique' qui correspondent à la réalité des faits \n",
    "df_ocde2=df_ocde[df_ocde['Variable']==\"Pratique\"]\n",
    "df_ocde2.rename(columns={'ï»¿\"REGION\"': 'region_monde', 'RÃ©gion': 'region', 'LOCATION': 'Country Code', 'Pays':'Country Name'}, inplace=True)\n",
    "df_ocde2=df_ocde2[df_ocde2['region_monde']==\"ALL\"]\n",
    "df_ocde3=df_ocde2[['Country Code', 'Country Name', 'VAR', 'Value']]\n",
    "df_ocde3.head(5)"
   ]
  },
  {
   "cell_type": "markdown",
   "metadata": {},
   "source": [
    "### 1.3.3 Df de l'Union Parlementaire"
   ]
  },
  {
   "cell_type": "code",
   "execution_count": 24,
   "metadata": {},
   "outputs": [],
   "source": [
    "df_percent_women = pd.read_csv('./chamber--current_women_percent.csv', sep=',', encoding='utf-8')\n",
    "df_quota = pd.read_csv('./chamber--field_is_electoral_quota_women.csv', sep=',', encoding='utf-8')\n",
    "df_spe_body = pd.read_csv('./chamber--specialized_body__women.csv', sep=',', encoding='utf-8')"
   ]
  },
  {
   "cell_type": "code",
   "execution_count": 25,
   "metadata": {},
   "outputs": [],
   "source": [
    "df_percent_women = df_percent_women.iloc[3: , : ]\n",
    "df_percent_women.drop(df_percent_women.columns[[0]], axis=1, inplace=True)"
   ]
  },
  {
   "cell_type": "code",
   "execution_count": 26,
   "metadata": {},
   "outputs": [],
   "source": [
    "df_percent_women.columns = [\"Country\", \"Elections (lower house)\", \"Seats\", \"Women\", \"Women proportion (lower house)\", \"Elections (upper house)\", \"Seats\", \"Women\", \"Women proportion (upper house)\"]\n",
    "df_percent_women = df_percent_women.iloc[2: , : ]\n",
    "df_percent_women.reset_index(inplace=True, drop=True)"
   ]
  },
  {
   "cell_type": "code",
   "execution_count": 27,
   "metadata": {},
   "outputs": [],
   "source": [
    "#On ne conserve que les colonnes utiles\n",
    "df_percent_women2 = df_percent_women[[\"Country\", \"Women proportion (upper house)\"]]"
   ]
  },
  {
   "cell_type": "code",
   "execution_count": 28,
   "metadata": {},
   "outputs": [],
   "source": [
    "def nettoyage(df, d, l):\n",
    "    \n",
    "    #df est le data frame\n",
    "    #d représente l'indice des colonnes à supprimer\n",
    "    #l représente l'indice de lignes à partir duquel il convient de conserver les données\n",
    "    \n",
    "    df = df.drop(df.columns[d], axis=1) #On supprime les colonnes vides\n",
    "    df = df.iloc[l: , : ] #On conserve les lignes comportant les noms des colonnes et les données\n",
    "    df.columns = df.iloc[0] #On renomme les colonnes\n",
    "    df.reset_index(inplace=True, drop=True) \n",
    "    df = df.iloc[pd.RangeIndex(len(df)).drop(0)] \n",
    "    df.reset_index(inplace=True, drop=True)\n",
    "    return df"
   ]
  },
  {
   "cell_type": "code",
   "execution_count": 29,
   "metadata": {},
   "outputs": [],
   "source": [
    "df_quota = nettoyage(df_quota, 6, 5)\n",
    "df_quota.columns = [\"2-alpha code\", \"Country\", \"House\", \"Quota\", \"Structure\", \"House type\"]"
   ]
  },
  {
   "cell_type": "code",
   "execution_count": 30,
   "metadata": {},
   "outputs": [],
   "source": [
    "#On ne conserve que les colonnes utiles\n",
    "df_quota = df_quota[[\"2-alpha code\", \"Country\", \"Quota\"]]"
   ]
  },
  {
   "cell_type": "code",
   "execution_count": 31,
   "metadata": {},
   "outputs": [],
   "source": [
    "df_spe_body = nettoyage(df_spe_body, 6, 5)\n",
    "df_spe_body.columns = [\"2-alpha code\", \"Country\", \"House\", \"Specialized body\", \"Structure\", \"House type\"]"
   ]
  },
  {
   "cell_type": "code",
   "execution_count": 32,
   "metadata": {},
   "outputs": [],
   "source": [
    "#On ne conserve que les colonnes utiles\n",
    "df_spe_body2 = df_spe_body[[\"2-alpha code\", \"Specialized body\"]]"
   ]
  },
  {
   "cell_type": "code",
   "execution_count": 33,
   "metadata": {},
   "outputs": [],
   "source": [
    "#On crée une fonction pour ajouter le code apha 3\n",
    "\n",
    "def code_pays_3(column):\n",
    "    CODE=[]\n",
    "    for code in column:\n",
    "        try:\n",
    "            code=pycountry.countries.get(alpha_2=code).alpha_3\n",
    "           # .alpha_3 est utilisé pour donner le code en 3 lettres du pays\n",
    "            CODE.append(code)\n",
    "        except:\n",
    "            CODE.append('None')\n",
    "    return CODE# create a column for code  "
   ]
  },
  {
   "cell_type": "code",
   "execution_count": 34,
   "metadata": {},
   "outputs": [
    {
     "name": "stderr",
     "output_type": "stream",
     "text": [
      "<ipython-input-34-7369bf8ea1bf>:1: SettingWithCopyWarning: \n",
      "A value is trying to be set on a copy of a slice from a DataFrame.\n",
      "Try using .loc[row_indexer,col_indexer] = value instead\n",
      "\n",
      "See the caveats in the documentation: https://pandas.pydata.org/pandas-docs/stable/user_guide/indexing.html#returning-a-view-versus-a-copy\n",
      "  df_spe_body2['CODE']=code_pays_3(df_spe_body2[\"2-alpha code\"])\n",
      "C:\\Users\\julie\\anaconda3\\lib\\site-packages\\pandas\\core\\frame.py:4296: SettingWithCopyWarning: \n",
      "A value is trying to be set on a copy of a slice from a DataFrame\n",
      "\n",
      "See the caveats in the documentation: https://pandas.pydata.org/pandas-docs/stable/user_guide/indexing.html#returning-a-view-versus-a-copy\n",
      "  return super().rename(\n"
     ]
    },
    {
     "data": {
      "text/html": [
       "<div>\n",
       "<style scoped>\n",
       "    .dataframe tbody tr th:only-of-type {\n",
       "        vertical-align: middle;\n",
       "    }\n",
       "\n",
       "    .dataframe tbody tr th {\n",
       "        vertical-align: top;\n",
       "    }\n",
       "\n",
       "    .dataframe thead th {\n",
       "        text-align: right;\n",
       "    }\n",
       "</style>\n",
       "<table border=\"1\" class=\"dataframe\">\n",
       "  <thead>\n",
       "    <tr style=\"text-align: right;\">\n",
       "      <th></th>\n",
       "      <th>2-alpha code</th>\n",
       "      <th>Specialized body</th>\n",
       "      <th>Country Code</th>\n",
       "    </tr>\n",
       "  </thead>\n",
       "  <tbody>\n",
       "    <tr>\n",
       "      <th>0</th>\n",
       "      <td>AF</td>\n",
       "      <td>Oui</td>\n",
       "      <td>AFG</td>\n",
       "    </tr>\n",
       "    <tr>\n",
       "      <th>1</th>\n",
       "      <td>ZA</td>\n",
       "      <td>Oui</td>\n",
       "      <td>ZAF</td>\n",
       "    </tr>\n",
       "    <tr>\n",
       "      <th>2</th>\n",
       "      <td>AL</td>\n",
       "      <td>Oui</td>\n",
       "      <td>ALB</td>\n",
       "    </tr>\n",
       "    <tr>\n",
       "      <th>3</th>\n",
       "      <td>DZ</td>\n",
       "      <td>Non</td>\n",
       "      <td>DZA</td>\n",
       "    </tr>\n",
       "    <tr>\n",
       "      <th>4</th>\n",
       "      <td>DE</td>\n",
       "      <td>Oui</td>\n",
       "      <td>DEU</td>\n",
       "    </tr>\n",
       "    <tr>\n",
       "      <th>...</th>\n",
       "      <td>...</td>\n",
       "      <td>...</td>\n",
       "      <td>...</td>\n",
       "    </tr>\n",
       "    <tr>\n",
       "      <th>187</th>\n",
       "      <td>VE</td>\n",
       "      <td>Pas d'information</td>\n",
       "      <td>VEN</td>\n",
       "    </tr>\n",
       "    <tr>\n",
       "      <th>188</th>\n",
       "      <td>VN</td>\n",
       "      <td>Oui</td>\n",
       "      <td>VNM</td>\n",
       "    </tr>\n",
       "    <tr>\n",
       "      <th>189</th>\n",
       "      <td>YE</td>\n",
       "      <td>Pas d'information</td>\n",
       "      <td>YEM</td>\n",
       "    </tr>\n",
       "    <tr>\n",
       "      <th>190</th>\n",
       "      <td>ZM</td>\n",
       "      <td>Oui</td>\n",
       "      <td>ZMB</td>\n",
       "    </tr>\n",
       "    <tr>\n",
       "      <th>191</th>\n",
       "      <td>ZW</td>\n",
       "      <td>Oui</td>\n",
       "      <td>ZWE</td>\n",
       "    </tr>\n",
       "  </tbody>\n",
       "</table>\n",
       "<p>192 rows × 3 columns</p>\n",
       "</div>"
      ],
      "text/plain": [
       "    2-alpha code   Specialized body Country Code\n",
       "0             AF                Oui          AFG\n",
       "1             ZA                Oui          ZAF\n",
       "2             AL                Oui          ALB\n",
       "3             DZ                Non          DZA\n",
       "4             DE                Oui          DEU\n",
       "..           ...                ...          ...\n",
       "187           VE  Pas d'information          VEN\n",
       "188           VN                Oui          VNM\n",
       "189           YE  Pas d'information          YEM\n",
       "190           ZM                Oui          ZMB\n",
       "191           ZW                Oui          ZWE\n",
       "\n",
       "[192 rows x 3 columns]"
      ]
     },
     "execution_count": 34,
     "metadata": {},
     "output_type": "execute_result"
    }
   ],
   "source": [
    "df_spe_body2['CODE']=code_pays_3(df_spe_body2[\"2-alpha code\"])\n",
    "df_spe_body2.rename(columns={'CODE': 'Country Code'}, inplace=True)\n",
    "df_spe_body2"
   ]
  },
  {
   "cell_type": "code",
   "execution_count": 35,
   "metadata": {},
   "outputs": [
    {
     "data": {
      "text/html": [
       "<div>\n",
       "<style scoped>\n",
       "    .dataframe tbody tr th:only-of-type {\n",
       "        vertical-align: middle;\n",
       "    }\n",
       "\n",
       "    .dataframe tbody tr th {\n",
       "        vertical-align: top;\n",
       "    }\n",
       "\n",
       "    .dataframe thead th {\n",
       "        text-align: right;\n",
       "    }\n",
       "</style>\n",
       "<table border=\"1\" class=\"dataframe\">\n",
       "  <thead>\n",
       "    <tr style=\"text-align: right;\">\n",
       "      <th></th>\n",
       "      <th>Country</th>\n",
       "      <th>Quota</th>\n",
       "      <th>Specialized body</th>\n",
       "      <th>Country Code</th>\n",
       "      <th>Women proportion (upper house)</th>\n",
       "    </tr>\n",
       "  </thead>\n",
       "  <tbody>\n",
       "    <tr>\n",
       "      <th>0</th>\n",
       "      <td>Afghanistan</td>\n",
       "      <td>Oui</td>\n",
       "      <td>Oui</td>\n",
       "      <td>AFG</td>\n",
       "      <td>27.9</td>\n",
       "    </tr>\n",
       "    <tr>\n",
       "      <th>1</th>\n",
       "      <td>Afrique du Sud</td>\n",
       "      <td>Oui</td>\n",
       "      <td>Oui</td>\n",
       "      <td>ZAF</td>\n",
       "      <td>41.5</td>\n",
       "    </tr>\n",
       "    <tr>\n",
       "      <th>2</th>\n",
       "      <td>Albanie</td>\n",
       "      <td>Oui</td>\n",
       "      <td>Oui</td>\n",
       "      <td>ALB</td>\n",
       "      <td>-</td>\n",
       "    </tr>\n",
       "    <tr>\n",
       "      <th>3</th>\n",
       "      <td>Algérie</td>\n",
       "      <td>Oui</td>\n",
       "      <td>Non</td>\n",
       "      <td>DZA</td>\n",
       "      <td>5.7</td>\n",
       "    </tr>\n",
       "    <tr>\n",
       "      <th>4</th>\n",
       "      <td>Allemagne</td>\n",
       "      <td>Oui</td>\n",
       "      <td>Oui</td>\n",
       "      <td>DEU</td>\n",
       "      <td>33.3</td>\n",
       "    </tr>\n",
       "    <tr>\n",
       "      <th>...</th>\n",
       "      <td>...</td>\n",
       "      <td>...</td>\n",
       "      <td>...</td>\n",
       "      <td>...</td>\n",
       "      <td>...</td>\n",
       "    </tr>\n",
       "    <tr>\n",
       "      <th>185</th>\n",
       "      <td>Venezuela (République bolivarienne du)</td>\n",
       "      <td>Oui</td>\n",
       "      <td>Pas d'information</td>\n",
       "      <td>VEN</td>\n",
       "      <td>-</td>\n",
       "    </tr>\n",
       "    <tr>\n",
       "      <th>186</th>\n",
       "      <td>Viet Nam</td>\n",
       "      <td>Non</td>\n",
       "      <td>Oui</td>\n",
       "      <td>VNM</td>\n",
       "      <td>-</td>\n",
       "    </tr>\n",
       "    <tr>\n",
       "      <th>187</th>\n",
       "      <td>Yémen</td>\n",
       "      <td>Non</td>\n",
       "      <td>Pas d'information</td>\n",
       "      <td>YEM</td>\n",
       "      <td>1.1</td>\n",
       "    </tr>\n",
       "    <tr>\n",
       "      <th>188</th>\n",
       "      <td>Zambie</td>\n",
       "      <td>Non</td>\n",
       "      <td>Oui</td>\n",
       "      <td>ZMB</td>\n",
       "      <td>-</td>\n",
       "    </tr>\n",
       "    <tr>\n",
       "      <th>189</th>\n",
       "      <td>Zimbabwe</td>\n",
       "      <td>Non</td>\n",
       "      <td>Oui</td>\n",
       "      <td>ZWE</td>\n",
       "      <td>43.8</td>\n",
       "    </tr>\n",
       "  </tbody>\n",
       "</table>\n",
       "<p>190 rows × 5 columns</p>\n",
       "</div>"
      ],
      "text/plain": [
       "                                    Country Quota   Specialized body  \\\n",
       "0                               Afghanistan   Oui                Oui   \n",
       "1                            Afrique du Sud   Oui                Oui   \n",
       "2                                   Albanie   Oui                Oui   \n",
       "3                                   Algérie   Oui                Non   \n",
       "4                                 Allemagne   Oui                Oui   \n",
       "..                                      ...   ...                ...   \n",
       "185  Venezuela (République bolivarienne du)   Oui  Pas d'information   \n",
       "186                                Viet Nam   Non                Oui   \n",
       "187                                   Yémen   Non  Pas d'information   \n",
       "188                                  Zambie   Non                Oui   \n",
       "189                                Zimbabwe   Non                Oui   \n",
       "\n",
       "    Country Code Women proportion (upper house)  \n",
       "0            AFG                           27.9  \n",
       "1            ZAF                           41.5  \n",
       "2            ALB                              -  \n",
       "3            DZA                            5.7  \n",
       "4            DEU                           33.3  \n",
       "..           ...                            ...  \n",
       "185          VEN                              -  \n",
       "186          VNM                              -  \n",
       "187          YEM                            1.1  \n",
       "188          ZMB                              -  \n",
       "189          ZWE                           43.8  \n",
       "\n",
       "[190 rows x 5 columns]"
      ]
     },
     "execution_count": 35,
     "metadata": {},
     "output_type": "execute_result"
    }
   ],
   "source": [
    "#On fusionne ces bases de données\n",
    "df_rp = df_quota.merge(df_spe_body2, on='2-alpha code', how='left')\n",
    "df_rp = df_rp.merge(df_percent_women2, on='Country', how='left')\n",
    "df_rp = df_rp.drop(df_rp.columns[0], axis=1)\n",
    "df_rp"
   ]
  },
  {
   "cell_type": "code",
   "execution_count": 36,
   "metadata": {},
   "outputs": [],
   "source": [
    "def replace_column(df, col_name, L_old_value, L_new_value) :\n",
    "    for i in range(len(L_old_value)) :\n",
    "        df[col_name] = df[col_name].replace(L_old_value[i], L_new_value[i])\n",
    "    return df"
   ]
  },
  {
   "cell_type": "code",
   "execution_count": 37,
   "metadata": {},
   "outputs": [
    {
     "data": {
      "text/html": [
       "<div>\n",
       "<style scoped>\n",
       "    .dataframe tbody tr th:only-of-type {\n",
       "        vertical-align: middle;\n",
       "    }\n",
       "\n",
       "    .dataframe tbody tr th {\n",
       "        vertical-align: top;\n",
       "    }\n",
       "\n",
       "    .dataframe thead th {\n",
       "        text-align: right;\n",
       "    }\n",
       "</style>\n",
       "<table border=\"1\" class=\"dataframe\">\n",
       "  <thead>\n",
       "    <tr style=\"text-align: right;\">\n",
       "      <th></th>\n",
       "      <th>Country</th>\n",
       "      <th>Quota</th>\n",
       "      <th>Specialized body</th>\n",
       "      <th>Country Code</th>\n",
       "      <th>Women proportion (upper house)</th>\n",
       "    </tr>\n",
       "  </thead>\n",
       "  <tbody>\n",
       "    <tr>\n",
       "      <th>0</th>\n",
       "      <td>Afghanistan</td>\n",
       "      <td>1</td>\n",
       "      <td>1.0</td>\n",
       "      <td>AFG</td>\n",
       "      <td>27.9</td>\n",
       "    </tr>\n",
       "    <tr>\n",
       "      <th>1</th>\n",
       "      <td>Afrique du Sud</td>\n",
       "      <td>1</td>\n",
       "      <td>1.0</td>\n",
       "      <td>ZAF</td>\n",
       "      <td>41.5</td>\n",
       "    </tr>\n",
       "    <tr>\n",
       "      <th>2</th>\n",
       "      <td>Albanie</td>\n",
       "      <td>1</td>\n",
       "      <td>1.0</td>\n",
       "      <td>ALB</td>\n",
       "      <td>NaN</td>\n",
       "    </tr>\n",
       "    <tr>\n",
       "      <th>3</th>\n",
       "      <td>Algérie</td>\n",
       "      <td>1</td>\n",
       "      <td>0.0</td>\n",
       "      <td>DZA</td>\n",
       "      <td>5.7</td>\n",
       "    </tr>\n",
       "    <tr>\n",
       "      <th>4</th>\n",
       "      <td>Allemagne</td>\n",
       "      <td>1</td>\n",
       "      <td>1.0</td>\n",
       "      <td>DEU</td>\n",
       "      <td>33.3</td>\n",
       "    </tr>\n",
       "    <tr>\n",
       "      <th>...</th>\n",
       "      <td>...</td>\n",
       "      <td>...</td>\n",
       "      <td>...</td>\n",
       "      <td>...</td>\n",
       "      <td>...</td>\n",
       "    </tr>\n",
       "    <tr>\n",
       "      <th>185</th>\n",
       "      <td>Venezuela (République bolivarienne du)</td>\n",
       "      <td>1</td>\n",
       "      <td>NaN</td>\n",
       "      <td>VEN</td>\n",
       "      <td>NaN</td>\n",
       "    </tr>\n",
       "    <tr>\n",
       "      <th>186</th>\n",
       "      <td>Viet Nam</td>\n",
       "      <td>0</td>\n",
       "      <td>1.0</td>\n",
       "      <td>VNM</td>\n",
       "      <td>NaN</td>\n",
       "    </tr>\n",
       "    <tr>\n",
       "      <th>187</th>\n",
       "      <td>Yémen</td>\n",
       "      <td>0</td>\n",
       "      <td>NaN</td>\n",
       "      <td>YEM</td>\n",
       "      <td>1.1</td>\n",
       "    </tr>\n",
       "    <tr>\n",
       "      <th>188</th>\n",
       "      <td>Zambie</td>\n",
       "      <td>0</td>\n",
       "      <td>1.0</td>\n",
       "      <td>ZMB</td>\n",
       "      <td>NaN</td>\n",
       "    </tr>\n",
       "    <tr>\n",
       "      <th>189</th>\n",
       "      <td>Zimbabwe</td>\n",
       "      <td>0</td>\n",
       "      <td>1.0</td>\n",
       "      <td>ZWE</td>\n",
       "      <td>43.8</td>\n",
       "    </tr>\n",
       "  </tbody>\n",
       "</table>\n",
       "<p>190 rows × 5 columns</p>\n",
       "</div>"
      ],
      "text/plain": [
       "                                    Country  Quota  Specialized body  \\\n",
       "0                               Afghanistan      1               1.0   \n",
       "1                            Afrique du Sud      1               1.0   \n",
       "2                                   Albanie      1               1.0   \n",
       "3                                   Algérie      1               0.0   \n",
       "4                                 Allemagne      1               1.0   \n",
       "..                                      ...    ...               ...   \n",
       "185  Venezuela (République bolivarienne du)      1               NaN   \n",
       "186                                Viet Nam      0               1.0   \n",
       "187                                   Yémen      0               NaN   \n",
       "188                                  Zambie      0               1.0   \n",
       "189                                Zimbabwe      0               1.0   \n",
       "\n",
       "    Country Code Women proportion (upper house)  \n",
       "0            AFG                           27.9  \n",
       "1            ZAF                           41.5  \n",
       "2            ALB                            NaN  \n",
       "3            DZA                            5.7  \n",
       "4            DEU                           33.3  \n",
       "..           ...                            ...  \n",
       "185          VEN                            NaN  \n",
       "186          VNM                            NaN  \n",
       "187          YEM                            1.1  \n",
       "188          ZMB                            NaN  \n",
       "189          ZWE                           43.8  \n",
       "\n",
       "[190 rows x 5 columns]"
      ]
     },
     "execution_count": 37,
     "metadata": {},
     "output_type": "execute_result"
    }
   ],
   "source": [
    "replace_column(df_rp, \"Quota\", ['Oui', 'Non', \"Pas d'information\"], [1, 0, np.nan])\n",
    "replace_column(df_rp, \"Specialized body\", ['Oui', 'Non', \"Pas d'information\"], [1, 0, np.nan])\n",
    "replace_column(df_rp, \"Women proportion (upper house)\", ['-'], [np.nan])"
   ]
  },
  {
   "cell_type": "code",
   "execution_count": 38,
   "metadata": {},
   "outputs": [],
   "source": [
    "df_rp[\"Women proportion (upper house)\"] = df_rp[\"Women proportion (upper house)\"].astype(float, errors = 'raise')"
   ]
  },
  {
   "cell_type": "markdown",
   "metadata": {},
   "source": [
    "# 2.Sélection des indicateurs pertinents"
   ]
  },
  {
   "cell_type": "markdown",
   "metadata": {},
   "source": [
    "Le premier indicateur que nous avons particulièrement exploité dans le cadre de ce projet est l'indicateur PIB par habitant de 2019 de la Banque Mondiale (\"\"GDP per capita 2019\"). Nous avons estimé que cet indicateur serait le plus pertinent pour mesurer le niveau de développement économique du pays dans le cadre denotre étude, bien qu'il soit parfois contesté."
   ]
  },
  {
   "cell_type": "markdown",
   "metadata": {},
   "source": [
    "## Quelques fonctions utiles "
   ]
  },
  {
   "cell_type": "code",
   "execution_count": 39,
   "metadata": {},
   "outputs": [],
   "source": [
    "def bm_select(Indicator, row_name):\n",
    "\n",
    "    df=df_bm2[df_bm2['Indicator Code']==Indicator]\n",
    "    df=df[[\"Country Code\", \"2019\"]]\n",
    "    df.rename(columns={'2019':row_name}, inplace=True)\n",
    "    \n",
    "    return df\n",
    "\n",
    "def ocde_select(Indicator, row_name):\n",
    "\n",
    "    df=df_ocde3[df_ocde3['VAR']==Indicator]\n",
    "    df=df[[\"Country Code\", \"Value\"]]\n",
    "    df.rename(columns={'Value':row_name}, inplace=True)\n",
    "    \n",
    "    return df"
   ]
  },
  {
   "cell_type": "markdown",
   "metadata": {},
   "source": [
    "## Le PIB par habitant, 2019 "
   ]
  },
  {
   "cell_type": "code",
   "execution_count": 40,
   "metadata": {},
   "outputs": [],
   "source": [
    "df_pib=bm_select('NY.GDP.PCAP.KD', \"GDP per capita 2019\")\n",
    "df_pib_name=df_bm2[df_bm2['Indicator Name']==\"GDP per capita (constant 2015 US$)\"]\n",
    "df_pib_name=df_pib_name[[\"Country Name\",\"2019\", \"Country Code\"]]\n",
    "df_pib_name.rename(columns={'2019': 'GDP per capita 2019'}, inplace=True)"
   ]
  },
  {
   "cell_type": "markdown",
   "metadata": {},
   "source": [
    "On effectue quelques statistiques descriptives de ce PIB en le visualisant par continent. Pour cela, on se sert du fichier \"world.csv\", importé depuis geopandas, qui associe un continent à chaque code pays."
   ]
  },
  {
   "cell_type": "code",
   "execution_count": 41,
   "metadata": {},
   "outputs": [
    {
     "data": {
      "text/plain": [
       "Text(0.5, 0, 'GDP per capita (2019)')"
      ]
     },
     "execution_count": 41,
     "metadata": {},
     "output_type": "execute_result"
    },
    {
     "data": {
      "image/png": "[encoded data removed]",
      "text/plain": [
       "<Figure size 432x288 with 1 Axes>"
      ]
     },
     "metadata": {
      "needs_background": "light"
     },
     "output_type": "display_data"
    }
   ],
   "source": [
    "# Importation du dataframe\n",
    "# df_world = gpd.read_file(gpd.datasets.get_path('naturalearth_lowres'))\n",
    "df_world=pd.read_csv(\"World.csv\")\n",
    "df_world.rename(columns={'iso_a3': 'Country Code'}, inplace=True)\n",
    "df_world=df_world[[\"continent\", \"Country Code\"]]\n",
    "\n",
    "dfpib_continent=df_world.merge(df_pib_name, on='Country Code', how='right')\n",
    "dfpib_continent=dfpib_continent.groupby('continent').mean()\n",
    "dfpib_continent=dfpib_continent.reset_index()\n",
    "plt.barh(dfpib_continent[\"continent\"], dfpib_continent['GDP per capita 2019'], color=\"green\")\n",
    "plt.title('GDP per capita (2019) of different continents')\n",
    "plt.xlabel('GDP per capita (2019)')"
   ]
  },
  {
   "cell_type": "markdown",
   "metadata": {},
   "source": [
    "On remarque que les continents ont des PIB par tête très différents. Si en moyenne le PIB par tête européen atteint les 30000 dollars, ce dernier atteint environ 2000 dollars en Afrique. "
   ]
  },
  {
   "cell_type": "markdown",
   "metadata": {},
   "source": [
    "## Données relatives à la condition des femmes "
   ]
  },
  {
   "cell_type": "markdown",
   "metadata": {},
   "source": [
    "Au sein des bases de données de la Banque Mondiale et de l'OCDE, nous avons effectué un gros travail afin de trouver les indicateurs complets et pertinents dans notre cadre d'étude, à savoir celui de l'impact de la condition des femmes sur le niveau de développement économique des pays. Par exemple, nous avons été amenées dans un premier temps à créer des sous-dataframes du dataframe de la Banque Mondiale regroupant les indicateurs contenant les termes \"gender\", \"female\" ou encore \"women\", puis à les examiner pour un seul pays à l'image de la France afin d'en avoir une meilleure visibilité (dans la mesure où l'indicateur existe pour chaque pays). "
   ]
  },
  {
   "cell_type": "code",
   "execution_count": 42,
   "metadata": {
    "scrolled": true
   },
   "outputs": [
    {
     "name": "stderr",
     "output_type": "stream",
     "text": [
      "C:\\Users\\julie\\anaconda3\\lib\\site-packages\\pandas\\core\\frame.py:4296: SettingWithCopyWarning: \n",
      "A value is trying to be set on a copy of a slice from a DataFrame\n",
      "\n",
      "See the caveats in the documentation: https://pandas.pydata.org/pandas-docs/stable/user_guide/indexing.html#returning-a-view-versus-a-copy\n",
      "  return super().rename(\n"
     ]
    }
   ],
   "source": [
    "df_bm2.rename(columns={'Indicator Name': 'Indicator'}, inplace=True)\n",
    "df_women=df_bm2[df_bm2.Indicator.str.contains('women', case=False)]\n",
    "df_gender=df_bm2[df_bm2.Indicator.str.contains('gender', case=False)]\n",
    "df_female=df_bm2[df_bm2.Indicator.str.contains('female', case=False)]"
   ]
  },
  {
   "cell_type": "markdown",
   "metadata": {},
   "source": [
    "Par exemple:"
   ]
  },
  {
   "cell_type": "code",
   "execution_count": 43,
   "metadata": {},
   "outputs": [
    {
     "data": {
      "text/html": [
       "<div>\n",
       "<style scoped>\n",
       "    .dataframe tbody tr th:only-of-type {\n",
       "        vertical-align: middle;\n",
       "    }\n",
       "\n",
       "    .dataframe tbody tr th {\n",
       "        vertical-align: top;\n",
       "    }\n",
       "\n",
       "    .dataframe thead th {\n",
       "        text-align: right;\n",
       "    }\n",
       "</style>\n",
       "<table border=\"1\" class=\"dataframe\">\n",
       "  <thead>\n",
       "    <tr style=\"text-align: right;\">\n",
       "      <th></th>\n",
       "      <th>Country Code</th>\n",
       "      <th>Country Name</th>\n",
       "      <th>Indicator</th>\n",
       "      <th>Indicator Code</th>\n",
       "      <th>2019</th>\n",
       "    </tr>\n",
       "  </thead>\n",
       "  <tbody>\n",
       "    <tr>\n",
       "      <th>168879</th>\n",
       "      <td>FRA</td>\n",
       "      <td>France</td>\n",
       "      <td>Adolescent fertility rate (births per 1,000 wo...</td>\n",
       "      <td>SP.ADO.TFRT</td>\n",
       "      <td>4.7454</td>\n",
       "    </tr>\n",
       "    <tr>\n",
       "      <th>168918</th>\n",
       "      <td>FRA</td>\n",
       "      <td>France</td>\n",
       "      <td>Antiretroviral therapy coverage for PMTCT (% o...</td>\n",
       "      <td>SH.HIV.PMTC.ZS</td>\n",
       "      <td>NaN</td>\n",
       "    </tr>\n",
       "    <tr>\n",
       "      <th>169060</th>\n",
       "      <td>FRA</td>\n",
       "      <td>France</td>\n",
       "      <td>Contraceptive prevalence, any methods (% of wo...</td>\n",
       "      <td>SP.DYN.CONU.ZS</td>\n",
       "      <td>NaN</td>\n",
       "    </tr>\n",
       "    <tr>\n",
       "      <th>169061</th>\n",
       "      <td>FRA</td>\n",
       "      <td>France</td>\n",
       "      <td>Contraceptive prevalence, modern methods (% of...</td>\n",
       "      <td>SP.DYN.CONM.ZS</td>\n",
       "      <td>NaN</td>\n",
       "    </tr>\n",
       "    <tr>\n",
       "      <th>169128</th>\n",
       "      <td>FRA</td>\n",
       "      <td>France</td>\n",
       "      <td>Demand for family planning satisfied by modern...</td>\n",
       "      <td>SH.FPL.SATM.ZS</td>\n",
       "      <td>NaN</td>\n",
       "    </tr>\n",
       "  </tbody>\n",
       "</table>\n",
       "</div>"
      ],
      "text/plain": [
       "       Country Code Country Name  \\\n",
       "168879          FRA       France   \n",
       "168918          FRA       France   \n",
       "169060          FRA       France   \n",
       "169061          FRA       France   \n",
       "169128          FRA       France   \n",
       "\n",
       "                                                Indicator  Indicator Code  \\\n",
       "168879  Adolescent fertility rate (births per 1,000 wo...     SP.ADO.TFRT   \n",
       "168918  Antiretroviral therapy coverage for PMTCT (% o...  SH.HIV.PMTC.ZS   \n",
       "169060  Contraceptive prevalence, any methods (% of wo...  SP.DYN.CONU.ZS   \n",
       "169061  Contraceptive prevalence, modern methods (% of...  SP.DYN.CONM.ZS   \n",
       "169128  Demand for family planning satisfied by modern...  SH.FPL.SATM.ZS   \n",
       "\n",
       "          2019  \n",
       "168879  4.7454  \n",
       "168918     NaN  \n",
       "169060     NaN  \n",
       "169061     NaN  \n",
       "169128     NaN  "
      ]
     },
     "execution_count": 43,
     "metadata": {},
     "output_type": "execute_result"
    }
   ],
   "source": [
    "FR=df_women[df_women['Country Name']==\"France\"]\n",
    "FR.head()"
   ]
  },
  {
   "cell_type": "markdown",
   "metadata": {},
   "source": [
    "Puis nous avons étudié manuellement les indicateurs de ce dataframe et leurs corrélations avec par exemple le PIB par habitants en 2019. Voici quelques exemples de variables qui nous ont semblées pertinentes plutôt que d'autres."
   ]
  },
  {
   "cell_type": "code",
   "execution_count": 44,
   "metadata": {},
   "outputs": [],
   "source": [
    "def corr_indicateurs(df1, df2, indicator_name) :\n",
    "    \n",
    "    X = df1[df1['Indicator']== indicator_name] # on sélectionne l'indicateur qui nous intéresse\n",
    "        \n",
    "    #On supprime la colonne 'Indicator code'\n",
    "    X = X.drop(['Indicator Code'], axis = 1)\n",
    "    \n",
    "    #On supprime la colonne country name de la base PIB\n",
    "    Y = df2.drop(['Country Name'], axis = 1)\n",
    "    \n",
    "    #On fusionne les 2 bases de données\n",
    "    Z = X.merge(Y, how='inner', on= 'Country Code')\n",
    "    \n",
    "    #On supprime les lignes où certaines données sont manquantes\n",
    "    index_with_nan = Z.index[Z.isnull().any(axis=1)]\n",
    "    Z.drop(index_with_nan,0, inplace=True)\n",
    "    print(\"Le nombre d'obervations est : \", Z.shape[0]) #On affiche le nombre d'observations restantes\n",
    "    \n",
    "    #On réalise les graphiques de corrélation\n",
    "    X_ = Z.iloc[:,3].values\n",
    "    y_ = Z.iloc[:,4].values\n",
    "    \n",
    "    graph = plt.scatter(X_, y_, color=\"green\")\n",
    "    \n",
    "    return graph"
   ]
  },
  {
   "cell_type": "code",
   "execution_count": 45,
   "metadata": {},
   "outputs": [
    {
     "name": "stdout",
     "output_type": "stream",
     "text": [
      "Le nombre d'obervations est :  127\n"
     ]
    },
    {
     "data": {
      "text/plain": [
       "Text(0, 0.5, 'GDP per capita (2019) ($)')"
      ]
     },
     "execution_count": 45,
     "metadata": {},
     "output_type": "execute_result"
    },
    {
     "data": {
      "image/png": "[encoded data removed]",
      "text/plain": [
       "<Figure size 432x288 with 1 Axes>"
      ]
     },
     "metadata": {
      "needs_background": "light"
     },
     "output_type": "display_data"
    }
   ],
   "source": [
    "#Graphique de corrélation pour l'indicateur 'Employment to population ratio, 15+, female (%) (national estimate)'\n",
    "\n",
    "corr_indicateurs(df_female, df_pib_name, 'Employment to population ratio, 15+, female (%) (national estimate)')\n",
    "plt.title('Relation between the GDP per capita (2019) and the employment to population ratio (women)')\n",
    "plt.xlabel('Percentage of women in employment (%)')\n",
    "plt.ylabel('GDP per capita (2019) ($)')"
   ]
  },
  {
   "cell_type": "code",
   "execution_count": 46,
   "metadata": {},
   "outputs": [
    {
     "name": "stdout",
     "output_type": "stream",
     "text": [
      "Le nombre d'obervations est :  231\n"
     ]
    },
    {
     "data": {
      "text/plain": [
       "Text(0, 0.5, 'GDP per capita (2019) ($)')"
      ]
     },
     "execution_count": 46,
     "metadata": {},
     "output_type": "execute_result"
    },
    {
     "data": {
      "image/png": "[encoded data removed]",
      "text/plain": [
       "<Figure size 432x288 with 1 Axes>"
      ]
     },
     "metadata": {
      "needs_background": "light"
     },
     "output_type": "display_data"
    }
   ],
   "source": [
    "#Graphique de corrélation pour l'indicateur 'Prevalence of anemia among non-pregnant women (% of women ages 15-49)'\n",
    "\n",
    "corr_indicateurs(df_women, df_pib_name, 'Prevalence of anemia among non-pregnant women (% of women ages 15-49)')\n",
    "plt.title('Relation between the GDP per capita (2019) and the prevalence of anemia among non-pregnant women (% of women ages 15-49)')\n",
    "plt.xlabel('Prevalence of anemia among non-pregnant women (%)')\n",
    "plt.ylabel('GDP per capita (2019) ($)')"
   ]
  },
  {
   "cell_type": "code",
   "execution_count": 47,
   "metadata": {},
   "outputs": [
    {
     "name": "stdout",
     "output_type": "stream",
     "text": [
      "Le nombre d'obervations est :  225\n"
     ]
    },
    {
     "data": {
      "text/plain": [
       "Text(0, 0.5, 'GDP per capita (2019) ($)')"
      ]
     },
     "execution_count": 47,
     "metadata": {},
     "output_type": "execute_result"
    },
    {
     "data": {
      "image/png": "[encoded data removed]",
      "text/plain": [
       "<Figure size 432x288 with 1 Axes>"
      ]
     },
     "metadata": {
      "needs_background": "light"
     },
     "output_type": "display_data"
    }
   ],
   "source": [
    "#Graphique de corrélation pour l'indicateur 'Vulnerable employment, female (% of male employment) (modeled ILO estimate)'\n",
    "\n",
    "corr_indicateurs(df_female, df_pib_name, 'Vulnerable employment, female (% of female employment) (modeled ILO estimate)')\n",
    "plt.title('Relation between the GDP per capita (2019) and vulnerable employment of women')\n",
    "plt.xlabel('Vulnerable employment of women (% of female employment)')\n",
    "plt.ylabel('GDP per capita (2019) ($)')"
   ]
  },
  {
   "cell_type": "code",
   "execution_count": 48,
   "metadata": {},
   "outputs": [
    {
     "name": "stdout",
     "output_type": "stream",
     "text": [
      "Le nombre d'obervations est :  40\n"
     ]
    },
    {
     "data": {
      "text/plain": [
       "Text(0, 0.5, 'GDP per capita (2019)($)')"
      ]
     },
     "execution_count": 48,
     "metadata": {},
     "output_type": "execute_result"
    },
    {
     "data": {
      "image/png": "[encoded data removed]",
      "text/plain": [
       "<Figure size 432x288 with 1 Axes>"
      ]
     },
     "metadata": {
      "needs_background": "light"
     },
     "output_type": "display_data"
    }
   ],
   "source": [
    "#Exemple d'indicateur non pertinent : Educational attainment, at least completed lower secondary, population 25+, female (%) (cumulative)\n",
    "\n",
    "corr_indicateurs(df_female, df_pib_name, 'Educational attainment, at least completed lower secondary, population 25+, female (%) (cumulative)')\n",
    "plt.title('Relation between the GDP per capita (2019) and the educational attainment for women over 25 (at least completed lower secondary)')\n",
    "plt.xlabel('Educational attainment, at least completed lower secondary (women) (%)')\n",
    "plt.ylabel('GDP per capita (2019)($)')"
   ]
  },
  {
   "cell_type": "markdown",
   "metadata": {},
   "source": [
    "Nous avons choisi de ne pas intégrer les variables peu renseignées à notre projet. \n",
    "Nous avons choisi de retenir au total 17 variables explicatives dans notre base de donnée du projet : \n",
    "- Fertility\n",
    "- Life expectancy of women at birth\n",
    "- Prevalence of anemia among non pregnant women\n",
    "- Women share of population living with HIV \n",
    "- Domestic time ratio women on men\n",
    "- Women s share amoung bank account owners \n",
    "- Adolescents out of school, female\n",
    "- Children out of school, female\n",
    "- Primary completion rate, female\n",
    "- No contraception used without wanting having children\n",
    "- Physical and sexual violences on women\n",
    "- Abortion\n",
    "- Women on vulnerable job\n",
    "- Employment to population ratio, 15+, female\n",
    "- Quota in parliament\n",
    "- Specialized body (regarding gender equality) in parliament\n",
    "- Women proportion (upper house)"
   ]
  },
  {
   "cell_type": "markdown",
   "metadata": {},
   "source": [
    "Cette liste n'est bien entendu pas exhaustive et représente ce que nous sommes parvenues à obtenir de plus pertinent et de plus complet concernant la situatation des femmes. Les inégalités que subissent les femmes sont multidimensionnelles et nous avons essayé de retenir autant que possible des variables représentatives de ces différentes dimensions des inégalités hommes/femmes. "
   ]
  },
  {
   "cell_type": "markdown",
   "metadata": {},
   "source": [
    "# 3. Création de la base de données"
   ]
  },
  {
   "cell_type": "markdown",
   "metadata": {},
   "source": [
    "## 3.1. Création de la base de données  les variables explicatives principales"
   ]
  },
  {
   "cell_type": "code",
   "execution_count": 49,
   "metadata": {},
   "outputs": [],
   "source": [
    "# On récupère toutes les données de nos variables explicatives :\n",
    "df_esperance_de_vie=bm_select(\"SP.DYN.LE00.FE.IN\", 'Life expectancy of women at birth' )\n",
    "df_anemia=bm_select(\"SH.ANM.NPRG.ZS\", 'Prevalence of anemia among non pregnant women' )\n",
    "df_hiv=bm_select(\"SH.DYN.AIDS.FE.ZS\", 'Women share of population living with HIV' )\n",
    "df_domestique=ocde_select(\"DF_HR_PRACT\",'Domestic time ratio women on men')\n",
    "df_banque=ocde_select(\"RAPFR_SAFS_PRACT\",'Women s share amoung bank account owners')\n",
    "df_descolariation_ado_w=bm_select(\"SE.PRM.UNER.FE.ZS\",'Adolescents s share out of school, female')\n",
    "df_descolariation_child_w=bm_select(\"SE.SEC.UNER.LO.FE.ZS\",'Children s share out of school, female')\n",
    "df_primary_completion_rate_f=bm_select(\"SE.PRM.CMPT.FE.ZS\",'Women who completed primary')\n",
    "df_descolariation_ado_m=bm_select(\"SE.SEC.UNER.LO.MA.ZS\",'Adolescents s share out of school, male')\n",
    "df_descolariation_child_m=bm_select(\"SE.PRM.UNER.MA.ZS\",'Children s share out of school, male')\n",
    "df_primary_completion_rate_m=bm_select(\"SE.PRM.CMPT.MA.ZS\",'Men who completed primary')\n",
    "df_contraception = ocde_select(\"RPI_RA_PRACT\", 'No contraception used without wanting having children')\n",
    "df_violences = ocde_select(\"RPI_VAW_PRACT\", 'Physical and sexual violences on women')\n",
    "df_employment= bm_select(\"SL.EMP.TOTL.SP.FE.NE.ZS\",'Employment to population ratio, 15+, female')\n",
    "df_vulnerableF=bm_select(\"SL.EMP.VULN.FE.ZS\",'Vulnerable job, female')\n",
    "df_vulnerableM=bm_select(\"SL.EMP.VULN.MA.ZS\",'Vulnerable job, male')"
   ]
  },
  {
   "cell_type": "code",
   "execution_count": 50,
   "metadata": {},
   "outputs": [],
   "source": [
    "#Modificication du df sur l'avortement pour permettre la fusion\n",
    "df_avortement=data_abortion2.merge(df_pib_name, on='Country Name', how='inner')\n",
    "df_avortement=df_avortement[[\"Country Name\",\"Country Code\", \"GDP per capita 2019\", \"abortion\"]]"
   ]
  },
  {
   "cell_type": "code",
   "execution_count": 51,
   "metadata": {},
   "outputs": [],
   "source": [
    "df_avortement = df_avortement[['Country Code', 'abortion']]"
   ]
  },
  {
   "cell_type": "code",
   "execution_count": 52,
   "metadata": {},
   "outputs": [],
   "source": [
    "df = df_esperance_de_vie.merge(df_domestique, on='Country Code', how='left')\n",
    "df = df.merge(df_hiv, on='Country Code', how='outer')\n",
    "df = df.merge(df_anemia, on='Country Code', how='outer')\n",
    "df = df.merge(df_banque, on='Country Code', how='outer')\n",
    "df = df.merge(df_descolariation_ado_w, on='Country Code', how='outer')\n",
    "df = df.merge(df_descolariation_child_w, on='Country Code', how='outer')\n",
    "df = df.merge(df_primary_completion_rate_f, on='Country Code', how='outer')\n",
    "df = df.merge(df_descolariation_ado_m, on='Country Code', how='outer')\n",
    "df = df.merge(df_descolariation_child_m, on='Country Code', how='outer')\n",
    "df = df.merge(df_primary_completion_rate_m, on='Country Code', how='outer')\n",
    "df = df.merge(df_contraception, on='Country Code', how='outer')\n",
    "df = df.merge(df_violences, on='Country Code', how='outer')\n",
    "df = df.merge(df_employment, on='Country Code', how='outer')\n",
    "df = df.merge(df_vulnerableF, on='Country Code', how='outer')\n",
    "df = df.merge(df_vulnerableM, on='Country Code', how='outer')\n",
    "df = df.merge(df_avortement, on='Country Code', how='left')\n",
    "df = df.merge(df_rp, on='Country Code', how='outer')\n",
    "df = df.merge(data_fertility2, on='Country Code', how='left')\n",
    "df= df.drop_duplicates()"
   ]
  },
  {
   "cell_type": "code",
   "execution_count": 53,
   "metadata": {},
   "outputs": [],
   "source": [
    "# On supprime les lignes sans code pays\n",
    "supprimer=[\"None\"]\n",
    "df=df[~df['Country Code'].isin(supprimer)]"
   ]
  },
  {
   "cell_type": "code",
   "execution_count": 54,
   "metadata": {},
   "outputs": [],
   "source": [
    "#On réinitialise l'index\n",
    "df = df.reset_index(drop=True)\n"
   ]
  },
  {
   "cell_type": "markdown",
   "metadata": {},
   "source": [
    "## 3.2. Création des variables calculées "
   ]
  },
  {
   "cell_type": "markdown",
   "metadata": {},
   "source": [
    "D'une part, nous souhaitons examiner spécifiquement ce qui fait la particularité de la situation des femmes, et cela nécessite pour un certain nombre de variables d'effectuer un ratio de l'indicateur relatif à la population des femmes sur celui relatif à la population des hommes. Nous souhaitons également faire en sorte que toutes nos variables varient dans le même sens à savoir que plus la variable est élevée, meilleure est la situation des femmes. Nous avons par conséquent effectué des manipulations sur certains des indicateurs pour répondre à ces besoins. "
   ]
  },
  {
   "cell_type": "code",
   "execution_count": 55,
   "metadata": {},
   "outputs": [],
   "source": [
    "df[\"Share of np women living without anemia\"]=100-df[\"Prevalence of anemia among non pregnant women\"]\n",
    "df[\"Share of np women living without HIV\"]=100-df[\"Women share of population living with HIV\"]\n",
    "df[\"Domestic time ratio women on men (quota)\"]=100-df[\"Domestic time ratio women on men\"]\n",
    "df[\"Ratio women on men ado out school\"]= df[\"Adolescents s share out of school, female\"]/df[\"Adolescents s share out of school, male\"]\n",
    "df[\"Ratio women on men children out school\"]= df[\"Children s share out of school, female\"]/df[\"Children s share out of school, male\"]\n",
    "df[\"Ratio women on men completed primary\"]= df[\"Women who completed primary\"]/df[\"Men who completed primary\"]\n",
    "df[\"Contraception used without wanting having children\"]=100-df[\"No contraception used without wanting having children\"]\n",
    "df[\"No physical and sexual violences on women\"]=100-df[\"Physical and sexual violences on women\"]\n",
    "df[\"Ratio women on men vulnerable job\"]= df[\"Vulnerable job, female\"]/df[\"Vulnerable job, male\"]\n",
    "df[\"Ratio women on men vulnerable job Tx\"]=100-df[\"Ratio women on men vulnerable job\"]\n",
    "df[\"Fertility inverse\"]=10-df[\"Fertility\"]"
   ]
  },
  {
   "cell_type": "markdown",
   "metadata": {},
   "source": [
    "## 3.3. Finalisation de la base de données globale"
   ]
  },
  {
   "cell_type": "code",
   "execution_count": 56,
   "metadata": {},
   "outputs": [
    {
     "data": {
      "text/html": [
       "<div>\n",
       "<style scoped>\n",
       "    .dataframe tbody tr th:only-of-type {\n",
       "        vertical-align: middle;\n",
       "    }\n",
       "\n",
       "    .dataframe tbody tr th {\n",
       "        vertical-align: top;\n",
       "    }\n",
       "\n",
       "    .dataframe thead th {\n",
       "        text-align: right;\n",
       "    }\n",
       "</style>\n",
       "<table border=\"1\" class=\"dataframe\">\n",
       "  <thead>\n",
       "    <tr style=\"text-align: right;\">\n",
       "      <th></th>\n",
       "      <th>Country Code</th>\n",
       "      <th>Life expectancy of women at birth</th>\n",
       "      <th>Domestic time ratio women on men</th>\n",
       "      <th>Women share of population living with HIV</th>\n",
       "      <th>Prevalence of anemia among non pregnant women</th>\n",
       "      <th>Women s share amoung bank account owners</th>\n",
       "      <th>Adolescents s share out of school, female</th>\n",
       "      <th>Children s share out of school, female</th>\n",
       "      <th>Women who completed primary</th>\n",
       "      <th>Adolescents s share out of school, male</th>\n",
       "      <th>...</th>\n",
       "      <th>Ratio women on men ado out school</th>\n",
       "      <th>Ratio women on men children out school</th>\n",
       "      <th>Ratio women on men completed primary</th>\n",
       "      <th>Contraception used without wanting having children</th>\n",
       "      <th>No physical and sexual violences on women</th>\n",
       "      <th>Ratio women on men vulnerable job</th>\n",
       "      <th>Ratio women on men vulnerable job Tx</th>\n",
       "      <th>Fertility inverse</th>\n",
       "      <th>Country Name</th>\n",
       "      <th>GDP per capita 2019</th>\n",
       "    </tr>\n",
       "  </thead>\n",
       "  <tbody>\n",
       "    <tr>\n",
       "      <th>0</th>\n",
       "      <td>AFE</td>\n",
       "      <td>66.202116</td>\n",
       "      <td>NaN</td>\n",
       "      <td>60.062444</td>\n",
       "      <td>33.432299</td>\n",
       "      <td>NaN</td>\n",
       "      <td>NaN</td>\n",
       "      <td>NaN</td>\n",
       "      <td>NaN</td>\n",
       "      <td>NaN</td>\n",
       "      <td>...</td>\n",
       "      <td>NaN</td>\n",
       "      <td>NaN</td>\n",
       "      <td>NaN</td>\n",
       "      <td>NaN</td>\n",
       "      <td>NaN</td>\n",
       "      <td>1.203630</td>\n",
       "      <td>98.796370</td>\n",
       "      <td>NaN</td>\n",
       "      <td>Africa Eastern and Southern</td>\n",
       "      <td>1499.256275</td>\n",
       "    </tr>\n",
       "    <tr>\n",
       "      <th>1</th>\n",
       "      <td>AFW</td>\n",
       "      <td>59.231072</td>\n",
       "      <td>NaN</td>\n",
       "      <td>61.990050</td>\n",
       "      <td>50.511312</td>\n",
       "      <td>NaN</td>\n",
       "      <td>NaN</td>\n",
       "      <td>NaN</td>\n",
       "      <td>NaN</td>\n",
       "      <td>NaN</td>\n",
       "      <td>...</td>\n",
       "      <td>NaN</td>\n",
       "      <td>NaN</td>\n",
       "      <td>NaN</td>\n",
       "      <td>NaN</td>\n",
       "      <td>NaN</td>\n",
       "      <td>1.180198</td>\n",
       "      <td>98.819802</td>\n",
       "      <td>NaN</td>\n",
       "      <td>Africa Western and Central</td>\n",
       "      <td>1843.558468</td>\n",
       "    </tr>\n",
       "    <tr>\n",
       "      <th>2</th>\n",
       "      <td>ARB</td>\n",
       "      <td>73.832314</td>\n",
       "      <td>NaN</td>\n",
       "      <td>40.461413</td>\n",
       "      <td>33.212609</td>\n",
       "      <td>NaN</td>\n",
       "      <td>15.58040</td>\n",
       "      <td>18.380989</td>\n",
       "      <td>84.786118</td>\n",
       "      <td>14.44424</td>\n",
       "      <td>...</td>\n",
       "      <td>1.078658</td>\n",
       "      <td>1.467422</td>\n",
       "      <td>0.961422</td>\n",
       "      <td>NaN</td>\n",
       "      <td>NaN</td>\n",
       "      <td>1.260327</td>\n",
       "      <td>98.739673</td>\n",
       "      <td>NaN</td>\n",
       "      <td>Arab World</td>\n",
       "      <td>6206.570758</td>\n",
       "    </tr>\n",
       "    <tr>\n",
       "      <th>3</th>\n",
       "      <td>CSS</td>\n",
       "      <td>76.032605</td>\n",
       "      <td>NaN</td>\n",
       "      <td>49.739577</td>\n",
       "      <td>20.080555</td>\n",
       "      <td>NaN</td>\n",
       "      <td>NaN</td>\n",
       "      <td>11.200680</td>\n",
       "      <td>NaN</td>\n",
       "      <td>13.17920</td>\n",
       "      <td>...</td>\n",
       "      <td>NaN</td>\n",
       "      <td>NaN</td>\n",
       "      <td>NaN</td>\n",
       "      <td>NaN</td>\n",
       "      <td>NaN</td>\n",
       "      <td>0.749501</td>\n",
       "      <td>99.250499</td>\n",
       "      <td>NaN</td>\n",
       "      <td>Caribbean small states</td>\n",
       "      <td>10050.327615</td>\n",
       "    </tr>\n",
       "    <tr>\n",
       "      <th>4</th>\n",
       "      <td>CEB</td>\n",
       "      <td>80.833612</td>\n",
       "      <td>NaN</td>\n",
       "      <td>NaN</td>\n",
       "      <td>NaN</td>\n",
       "      <td>NaN</td>\n",
       "      <td>4.30292</td>\n",
       "      <td>5.755160</td>\n",
       "      <td>93.246231</td>\n",
       "      <td>4.96398</td>\n",
       "      <td>...</td>\n",
       "      <td>0.866829</td>\n",
       "      <td>1.258608</td>\n",
       "      <td>0.995808</td>\n",
       "      <td>NaN</td>\n",
       "      <td>NaN</td>\n",
       "      <td>0.734547</td>\n",
       "      <td>99.265453</td>\n",
       "      <td>NaN</td>\n",
       "      <td>Central Europe and the Baltics</td>\n",
       "      <td>14823.026908</td>\n",
       "    </tr>\n",
       "    <tr>\n",
       "      <th>...</th>\n",
       "      <td>...</td>\n",
       "      <td>...</td>\n",
       "      <td>...</td>\n",
       "      <td>...</td>\n",
       "      <td>...</td>\n",
       "      <td>...</td>\n",
       "      <td>...</td>\n",
       "      <td>...</td>\n",
       "      <td>...</td>\n",
       "      <td>...</td>\n",
       "      <td>...</td>\n",
       "      <td>...</td>\n",
       "      <td>...</td>\n",
       "      <td>...</td>\n",
       "      <td>...</td>\n",
       "      <td>...</td>\n",
       "      <td>...</td>\n",
       "      <td>...</td>\n",
       "      <td>...</td>\n",
       "      <td>...</td>\n",
       "      <td>...</td>\n",
       "    </tr>\n",
       "    <tr>\n",
       "      <th>263</th>\n",
       "      <td>YEM</td>\n",
       "      <td>67.826000</td>\n",
       "      <td>NaN</td>\n",
       "      <td>37.300000</td>\n",
       "      <td>61.800000</td>\n",
       "      <td>12.6</td>\n",
       "      <td>NaN</td>\n",
       "      <td>NaN</td>\n",
       "      <td>NaN</td>\n",
       "      <td>NaN</td>\n",
       "      <td>...</td>\n",
       "      <td>NaN</td>\n",
       "      <td>NaN</td>\n",
       "      <td>NaN</td>\n",
       "      <td>71.3</td>\n",
       "      <td>33.0</td>\n",
       "      <td>1.287139</td>\n",
       "      <td>98.712861</td>\n",
       "      <td>6.300</td>\n",
       "      <td>Yemen, Rep.</td>\n",
       "      <td>NaN</td>\n",
       "    </tr>\n",
       "    <tr>\n",
       "      <th>264</th>\n",
       "      <td>ZMB</td>\n",
       "      <td>66.891000</td>\n",
       "      <td>NaN</td>\n",
       "      <td>61.500000</td>\n",
       "      <td>30.700000</td>\n",
       "      <td>40.1</td>\n",
       "      <td>NaN</td>\n",
       "      <td>NaN</td>\n",
       "      <td>NaN</td>\n",
       "      <td>NaN</td>\n",
       "      <td>...</td>\n",
       "      <td>NaN</td>\n",
       "      <td>NaN</td>\n",
       "      <td>NaN</td>\n",
       "      <td>78.9</td>\n",
       "      <td>57.3</td>\n",
       "      <td>1.256438</td>\n",
       "      <td>98.743562</td>\n",
       "      <td>5.441</td>\n",
       "      <td>Zambia</td>\n",
       "      <td>1348.743220</td>\n",
       "    </tr>\n",
       "    <tr>\n",
       "      <th>265</th>\n",
       "      <td>ZWE</td>\n",
       "      <td>62.899000</td>\n",
       "      <td>1.93</td>\n",
       "      <td>60.200000</td>\n",
       "      <td>28.700000</td>\n",
       "      <td>42.4</td>\n",
       "      <td>13.93845</td>\n",
       "      <td>NaN</td>\n",
       "      <td>89.320374</td>\n",
       "      <td>NaN</td>\n",
       "      <td>...</td>\n",
       "      <td>NaN</td>\n",
       "      <td>NaN</td>\n",
       "      <td>1.018472</td>\n",
       "      <td>89.6</td>\n",
       "      <td>64.6</td>\n",
       "      <td>1.389035</td>\n",
       "      <td>98.610965</td>\n",
       "      <td>6.469</td>\n",
       "      <td>Zimbabwe</td>\n",
       "      <td>1367.676915</td>\n",
       "    </tr>\n",
       "    <tr>\n",
       "      <th>266</th>\n",
       "      <td>TWN</td>\n",
       "      <td>NaN</td>\n",
       "      <td>NaN</td>\n",
       "      <td>NaN</td>\n",
       "      <td>NaN</td>\n",
       "      <td>50.2</td>\n",
       "      <td>NaN</td>\n",
       "      <td>NaN</td>\n",
       "      <td>NaN</td>\n",
       "      <td>NaN</td>\n",
       "      <td>...</td>\n",
       "      <td>NaN</td>\n",
       "      <td>NaN</td>\n",
       "      <td>NaN</td>\n",
       "      <td>NaN</td>\n",
       "      <td>NaN</td>\n",
       "      <td>NaN</td>\n",
       "      <td>NaN</td>\n",
       "      <td>NaN</td>\n",
       "      <td>NaN</td>\n",
       "      <td>NaN</td>\n",
       "    </tr>\n",
       "    <tr>\n",
       "      <th>267</th>\n",
       "      <td>XKO</td>\n",
       "      <td>NaN</td>\n",
       "      <td>NaN</td>\n",
       "      <td>NaN</td>\n",
       "      <td>NaN</td>\n",
       "      <td>40.2</td>\n",
       "      <td>NaN</td>\n",
       "      <td>NaN</td>\n",
       "      <td>NaN</td>\n",
       "      <td>NaN</td>\n",
       "      <td>...</td>\n",
       "      <td>NaN</td>\n",
       "      <td>NaN</td>\n",
       "      <td>NaN</td>\n",
       "      <td>NaN</td>\n",
       "      <td>NaN</td>\n",
       "      <td>NaN</td>\n",
       "      <td>NaN</td>\n",
       "      <td>NaN</td>\n",
       "      <td>NaN</td>\n",
       "      <td>NaN</td>\n",
       "    </tr>\n",
       "  </tbody>\n",
       "</table>\n",
       "<p>268 rows × 36 columns</p>\n",
       "</div>"
      ],
      "text/plain": [
       "    Country Code  Life expectancy of women at birth  \\\n",
       "0            AFE                          66.202116   \n",
       "1            AFW                          59.231072   \n",
       "2            ARB                          73.832314   \n",
       "3            CSS                          76.032605   \n",
       "4            CEB                          80.833612   \n",
       "..           ...                                ...   \n",
       "263          YEM                          67.826000   \n",
       "264          ZMB                          66.891000   \n",
       "265          ZWE                          62.899000   \n",
       "266          TWN                                NaN   \n",
       "267          XKO                                NaN   \n",
       "\n",
       "     Domestic time ratio women on men  \\\n",
       "0                                 NaN   \n",
       "1                                 NaN   \n",
       "2                                 NaN   \n",
       "3                                 NaN   \n",
       "4                                 NaN   \n",
       "..                                ...   \n",
       "263                               NaN   \n",
       "264                               NaN   \n",
       "265                              1.93   \n",
       "266                               NaN   \n",
       "267                               NaN   \n",
       "\n",
       "     Women share of population living with HIV  \\\n",
       "0                                    60.062444   \n",
       "1                                    61.990050   \n",
       "2                                    40.461413   \n",
       "3                                    49.739577   \n",
       "4                                          NaN   \n",
       "..                                         ...   \n",
       "263                                  37.300000   \n",
       "264                                  61.500000   \n",
       "265                                  60.200000   \n",
       "266                                        NaN   \n",
       "267                                        NaN   \n",
       "\n",
       "     Prevalence of anemia among non pregnant women  \\\n",
       "0                                        33.432299   \n",
       "1                                        50.511312   \n",
       "2                                        33.212609   \n",
       "3                                        20.080555   \n",
       "4                                              NaN   \n",
       "..                                             ...   \n",
       "263                                      61.800000   \n",
       "264                                      30.700000   \n",
       "265                                      28.700000   \n",
       "266                                            NaN   \n",
       "267                                            NaN   \n",
       "\n",
       "     Women s share amoung bank account owners  \\\n",
       "0                                         NaN   \n",
       "1                                         NaN   \n",
       "2                                         NaN   \n",
       "3                                         NaN   \n",
       "4                                         NaN   \n",
       "..                                        ...   \n",
       "263                                      12.6   \n",
       "264                                      40.1   \n",
       "265                                      42.4   \n",
       "266                                      50.2   \n",
       "267                                      40.2   \n",
       "\n",
       "     Adolescents s share out of school, female  \\\n",
       "0                                          NaN   \n",
       "1                                          NaN   \n",
       "2                                     15.58040   \n",
       "3                                          NaN   \n",
       "4                                      4.30292   \n",
       "..                                         ...   \n",
       "263                                        NaN   \n",
       "264                                        NaN   \n",
       "265                                   13.93845   \n",
       "266                                        NaN   \n",
       "267                                        NaN   \n",
       "\n",
       "     Children s share out of school, female  Women who completed primary  \\\n",
       "0                                       NaN                          NaN   \n",
       "1                                       NaN                          NaN   \n",
       "2                                 18.380989                    84.786118   \n",
       "3                                 11.200680                          NaN   \n",
       "4                                  5.755160                    93.246231   \n",
       "..                                      ...                          ...   \n",
       "263                                     NaN                          NaN   \n",
       "264                                     NaN                          NaN   \n",
       "265                                     NaN                    89.320374   \n",
       "266                                     NaN                          NaN   \n",
       "267                                     NaN                          NaN   \n",
       "\n",
       "     Adolescents s share out of school, male  ...  \\\n",
       "0                                        NaN  ...   \n",
       "1                                        NaN  ...   \n",
       "2                                   14.44424  ...   \n",
       "3                                   13.17920  ...   \n",
       "4                                    4.96398  ...   \n",
       "..                                       ...  ...   \n",
       "263                                      NaN  ...   \n",
       "264                                      NaN  ...   \n",
       "265                                      NaN  ...   \n",
       "266                                      NaN  ...   \n",
       "267                                      NaN  ...   \n",
       "\n",
       "     Ratio women on men ado out school  \\\n",
       "0                                  NaN   \n",
       "1                                  NaN   \n",
       "2                             1.078658   \n",
       "3                                  NaN   \n",
       "4                             0.866829   \n",
       "..                                 ...   \n",
       "263                                NaN   \n",
       "264                                NaN   \n",
       "265                                NaN   \n",
       "266                                NaN   \n",
       "267                                NaN   \n",
       "\n",
       "     Ratio women on men children out school  \\\n",
       "0                                       NaN   \n",
       "1                                       NaN   \n",
       "2                                  1.467422   \n",
       "3                                       NaN   \n",
       "4                                  1.258608   \n",
       "..                                      ...   \n",
       "263                                     NaN   \n",
       "264                                     NaN   \n",
       "265                                     NaN   \n",
       "266                                     NaN   \n",
       "267                                     NaN   \n",
       "\n",
       "     Ratio women on men completed primary  \\\n",
       "0                                     NaN   \n",
       "1                                     NaN   \n",
       "2                                0.961422   \n",
       "3                                     NaN   \n",
       "4                                0.995808   \n",
       "..                                    ...   \n",
       "263                                   NaN   \n",
       "264                                   NaN   \n",
       "265                              1.018472   \n",
       "266                                   NaN   \n",
       "267                                   NaN   \n",
       "\n",
       "     Contraception used without wanting having children  \\\n",
       "0                                                  NaN    \n",
       "1                                                  NaN    \n",
       "2                                                  NaN    \n",
       "3                                                  NaN    \n",
       "4                                                  NaN    \n",
       "..                                                 ...    \n",
       "263                                               71.3    \n",
       "264                                               78.9    \n",
       "265                                               89.6    \n",
       "266                                                NaN    \n",
       "267                                                NaN    \n",
       "\n",
       "     No physical and sexual violences on women  \\\n",
       "0                                          NaN   \n",
       "1                                          NaN   \n",
       "2                                          NaN   \n",
       "3                                          NaN   \n",
       "4                                          NaN   \n",
       "..                                         ...   \n",
       "263                                       33.0   \n",
       "264                                       57.3   \n",
       "265                                       64.6   \n",
       "266                                        NaN   \n",
       "267                                        NaN   \n",
       "\n",
       "     Ratio women on men vulnerable job  Ratio women on men vulnerable job Tx  \\\n",
       "0                             1.203630                             98.796370   \n",
       "1                             1.180198                             98.819802   \n",
       "2                             1.260327                             98.739673   \n",
       "3                             0.749501                             99.250499   \n",
       "4                             0.734547                             99.265453   \n",
       "..                                 ...                                   ...   \n",
       "263                           1.287139                             98.712861   \n",
       "264                           1.256438                             98.743562   \n",
       "265                           1.389035                             98.610965   \n",
       "266                                NaN                                   NaN   \n",
       "267                                NaN                                   NaN   \n",
       "\n",
       "     Fertility inverse                    Country Name  GDP per capita 2019  \n",
       "0                  NaN     Africa Eastern and Southern          1499.256275  \n",
       "1                  NaN      Africa Western and Central          1843.558468  \n",
       "2                  NaN                      Arab World          6206.570758  \n",
       "3                  NaN          Caribbean small states         10050.327615  \n",
       "4                  NaN  Central Europe and the Baltics         14823.026908  \n",
       "..                 ...                             ...                  ...  \n",
       "263              6.300                     Yemen, Rep.                  NaN  \n",
       "264              5.441                          Zambia          1348.743220  \n",
       "265              6.469                        Zimbabwe          1367.676915  \n",
       "266                NaN                             NaN                  NaN  \n",
       "267                NaN                             NaN                  NaN  \n",
       "\n",
       "[268 rows x 36 columns]"
      ]
     },
     "execution_count": 56,
     "metadata": {},
     "output_type": "execute_result"
    }
   ],
   "source": [
    "# On ajoute les données du PIB\n",
    "df = df.merge(df_pib_name, on='Country Code', how='left')\n",
    "df"
   ]
  },
  {
   "cell_type": "markdown",
   "metadata": {},
   "source": [
    "# 4. Création des indicateurs dimensionnels des inégalités hommes/femmes"
   ]
  },
  {
   "cell_type": "markdown",
   "metadata": {},
   "source": [
    "Le GII, et d'une façon plus générale la littérature s'intéressant aux inégalités hommes/femmes identifie la plupart du temps 8 dimensions d'inégalités de genre liées à : \n",
    "\n",
    "- L'accès à la santé \n",
    "- La position au sein du ménage \n",
    "- L'intégrité physique \n",
    "- L'éducation \n",
    "- Les ressources économiques \n",
    "- La capacité d'action politique\n",
    "- L'activité économique\n",
    "- L'identité de genre (qui décrit des questions culturelles telles que la socialisation des filles et des garçons, la rigidité de la division sexuelle des rôles, etc. garçons, la rigidité de la division sexuelle des rôles)\n",
    "\n",
    "Nous avons regroupé les variables que nous avons selectionnées dans les 7 premières dimensions identifiées. Nous avons fait le choix de laisser de côté la dernière dimension, qui reste très qualitative et qui par conséquent est difficile à étudier dans un tel projet. \n",
    "\n",
    "Pour ce qui est de la pondération respective des variables à l'intérieur des indicateurs, nous avons fait le choix de donner une importance relative plus faible aux variables binaires pour ne pas biaiser les résultats. Nous avons ensuite déterminé certaine pondérations en comparant l'importance relative établie des différentes variables."
   ]
  },
  {
   "cell_type": "markdown",
   "metadata": {},
   "source": [
    "## Fonction de normalisation  "
   ]
  },
  {
   "cell_type": "code",
   "execution_count": 57,
   "metadata": {},
   "outputs": [],
   "source": [
    "def normalize_columns(df: pd.DataFrame, columns: list)-> pd.DataFrame:   \n",
    "    for col in columns:\n",
    "        try:\n",
    "\n",
    "            df.loc[:,col] = (df.loc[:,col]- df.loc[:,col].min())/(df.loc[:,col].max()- df.loc[:,col].min())\n",
    "        except:\n",
    "            print(col + \" n'a pas été normalisé \\n\")\n",
    "    return df\n",
    "            "
   ]
  },
  {
   "cell_type": "markdown",
   "metadata": {},
   "source": [
    "## Indicateur accès à la santé"
   ]
  },
  {
   "cell_type": "markdown",
   "metadata": {},
   "source": [
    "Nous avons retenu pour cet indicateur les variables : \n",
    "- Life expectancy of women at birth\n",
    "- Share of non pregnant (np) women living without anemia\n",
    "- Share of np women living without HIV"
   ]
  },
  {
   "cell_type": "code",
   "execution_count": 58,
   "metadata": {},
   "outputs": [],
   "source": [
    "df[\"Share of np women living without anemia indicator\"]=df[\"Share of np women living without anemia\"]/df[\"Share of np women living without anemia\"].max()\n",
    "df[\"Share of np women living without HIV indicator\"]=df[\"Share of np women living without HIV\"]/df[\"Share of np women living without HIV\"].max()\n",
    "df[\"Life expectancy of women at birth indicator\"]=df[\"Life expectancy of women at birth\"]/df[\"Life expectancy of women at birth\"].max()"
   ]
  },
  {
   "cell_type": "code",
   "execution_count": 59,
   "metadata": {},
   "outputs": [],
   "source": [
    "df[\"Indicateur santé\"]=df[\"Indicateur sante\"]= 3/4 *df[\"Life expectancy of women at birth indicator\"]+ 2/12*df[\"Share of np women living without anemia indicator\"] + 1/12*df[\"Share of np women living without HIV indicator\"]"
   ]
  },
  {
   "cell_type": "code",
   "execution_count": 60,
   "metadata": {},
   "outputs": [
    {
     "data": {
      "text/plain": [
       "0      0.337647\n",
       "1      0.096145\n",
       "2      0.555698\n",
       "3      0.645334\n",
       "4           NaN\n",
       "         ...   \n",
       "263    0.293408\n",
       "264    0.362633\n",
       "265    0.285584\n",
       "266         NaN\n",
       "267         NaN\n",
       "Name: Indicateur santé, Length: 268, dtype: float64"
      ]
     },
     "execution_count": 60,
     "metadata": {},
     "output_type": "execute_result"
    }
   ],
   "source": [
    "df = normalize_columns(df,[\"Indicateur santé\"])\n",
    "df[\"Indicateur santé\"]"
   ]
  },
  {
   "cell_type": "markdown",
   "metadata": {},
   "source": [
    "## Indicateur autonomie au sein du ménage"
   ]
  },
  {
   "cell_type": "markdown",
   "metadata": {},
   "source": [
    "Nous avons retenu pour cet indicateur les variables : \n",
    "- Domestic time ratio women on men (quota)\n",
    "- Fertility inverse\n"
   ]
  },
  {
   "cell_type": "code",
   "execution_count": 61,
   "metadata": {},
   "outputs": [],
   "source": [
    "df[\"Domestic time ratio women on men indicator\"]=df[\"Domestic time ratio women on men (quota)\"]/df[\"Domestic time ratio women on men (quota)\"].max()\n",
    "df[\"Fertility indicator\"]=df[\"Fertility inverse\"]/df[\"Fertility inverse\"].max()"
   ]
  },
  {
   "cell_type": "code",
   "execution_count": 62,
   "metadata": {},
   "outputs": [],
   "source": [
    "df[\"Indicateur ménage\"]=1/2*df[\"Domestic time ratio women on men indicator\"]+1/2*df[\"Fertility indicator\"]\n"
   ]
  },
  {
   "cell_type": "code",
   "execution_count": 63,
   "metadata": {},
   "outputs": [
    {
     "data": {
      "text/plain": [
       "0           NaN\n",
       "1           NaN\n",
       "2           NaN\n",
       "3           NaN\n",
       "4           NaN\n",
       "         ...   \n",
       "263         NaN\n",
       "264         NaN\n",
       "265    0.563071\n",
       "266         NaN\n",
       "267         NaN\n",
       "Name: Indicateur ménage, Length: 268, dtype: float64"
      ]
     },
     "execution_count": 63,
     "metadata": {},
     "output_type": "execute_result"
    }
   ],
   "source": [
    "df = normalize_columns(df,[\"Indicateur ménage\"])\n",
    "df[\"Indicateur ménage\"]"
   ]
  },
  {
   "cell_type": "markdown",
   "metadata": {},
   "source": [
    "## Indicateur intégrité physique  "
   ]
  },
  {
   "cell_type": "markdown",
   "metadata": {},
   "source": [
    "Nous avons retenu pour cet indicateur les variables : \n",
    "- Abortion\n",
    "- Contraception used without wanting having children\n",
    "- No physical and sexual violences on women"
   ]
  },
  {
   "cell_type": "code",
   "execution_count": 64,
   "metadata": {},
   "outputs": [],
   "source": [
    "df[\"Contraception used without wanting having children indicator\"]=df[\"Contraception used without wanting having children\"]/df[\"Contraception used without wanting having children\"].max()\n",
    "df[\"No physical and sexual violences on women indicator\"]=df[\"No physical and sexual violences on women\"]/df[\"No physical and sexual violences on women\"].max()"
   ]
  },
  {
   "cell_type": "code",
   "execution_count": 65,
   "metadata": {},
   "outputs": [],
   "source": [
    "df[\"Indicateur intégrité physique\"]=1/5*df[\"abortion\"]+2/5*df[\"Contraception used without wanting having children\"]+2/5*df[\"No physical and sexual violences on women\"]"
   ]
  },
  {
   "cell_type": "code",
   "execution_count": 66,
   "metadata": {},
   "outputs": [
    {
     "data": {
      "text/plain": [
       "0           NaN\n",
       "1           NaN\n",
       "2           NaN\n",
       "3           NaN\n",
       "4           NaN\n",
       "         ...   \n",
       "263         NaN\n",
       "264    0.441532\n",
       "265    0.622984\n",
       "266         NaN\n",
       "267         NaN\n",
       "Name: Indicateur intégrité physique, Length: 268, dtype: float64"
      ]
     },
     "execution_count": 66,
     "metadata": {},
     "output_type": "execute_result"
    }
   ],
   "source": [
    "df = normalize_columns(df,[\"Indicateur intégrité physique\"])\n",
    "df[\"Indicateur intégrité physique\"]"
   ]
  },
  {
   "cell_type": "markdown",
   "metadata": {},
   "source": [
    "## Indicateur éducation "
   ]
  },
  {
   "cell_type": "markdown",
   "metadata": {},
   "source": [
    "Nous avons retenu pour cet indicateur les variables : \n",
    "- Ratio women on men ado out school\n",
    "- Ratio women on men children out school\n",
    "- Ratio women on men completed primary"
   ]
  },
  {
   "cell_type": "code",
   "execution_count": 67,
   "metadata": {},
   "outputs": [],
   "source": [
    "df[\"Ratio women on men ado out school indicator\"]=df[\"Ratio women on men ado out school\"]/df[\"Ratio women on men ado out school\"].max()\n",
    "df[\"Ratio women on men children out school indicator\"]=df[\"Ratio women on men children out school\"]/df[\"Ratio women on men children out school\"].max()\n",
    "df[\"Ratio women on men completed primary indicator\"]=df[\"Ratio women on men completed primary\"]/df[\"Ratio women on men completed primary\"].max()"
   ]
  },
  {
   "cell_type": "code",
   "execution_count": 68,
   "metadata": {},
   "outputs": [],
   "source": [
    "df[\"Indicateur éducation\"]=1/3*df[\"abortion\"]+1/3*df[\"Contraception used without wanting having children\"]+1/3*df[\"No physical and sexual violences on women\"]"
   ]
  },
  {
   "cell_type": "code",
   "execution_count": 69,
   "metadata": {},
   "outputs": [
    {
     "data": {
      "text/plain": [
       "0           NaN\n",
       "1           NaN\n",
       "2           NaN\n",
       "3           NaN\n",
       "4           NaN\n",
       "         ...   \n",
       "263         NaN\n",
       "264    0.439318\n",
       "265    0.619860\n",
       "266         NaN\n",
       "267         NaN\n",
       "Name: Indicateur éducation, Length: 268, dtype: float64"
      ]
     },
     "execution_count": 69,
     "metadata": {},
     "output_type": "execute_result"
    }
   ],
   "source": [
    "df = normalize_columns(df,[\"Indicateur éducation\"])\n",
    "df[\"Indicateur éducation\"]"
   ]
  },
  {
   "cell_type": "markdown",
   "metadata": {},
   "source": [
    "## Indicateur ressources économiques "
   ]
  },
  {
   "cell_type": "markdown",
   "metadata": {},
   "source": [
    "Nous avons retenu pour cet indicateur les variables : \n",
    "- Women s share amoung bank account owners"
   ]
  },
  {
   "cell_type": "code",
   "execution_count": 70,
   "metadata": {},
   "outputs": [],
   "source": [
    "df[\"Indicateur ressources économiques\"]=df[\"Women s share amoung bank account owners\"]/df[\"Women s share amoung bank account owners\"].max()"
   ]
  },
  {
   "cell_type": "code",
   "execution_count": 71,
   "metadata": {},
   "outputs": [
    {
     "data": {
      "text/plain": [
       "0           NaN\n",
       "1           NaN\n",
       "2           NaN\n",
       "3           NaN\n",
       "4           NaN\n",
       "         ...   \n",
       "263    0.000000\n",
       "264    0.641026\n",
       "265    0.694639\n",
       "266    0.876457\n",
       "267    0.643357\n",
       "Name: Indicateur ressources économiques, Length: 268, dtype: float64"
      ]
     },
     "execution_count": 71,
     "metadata": {},
     "output_type": "execute_result"
    }
   ],
   "source": [
    "df = normalize_columns(df,[\"Indicateur ressources économiques\"])\n",
    "df[\"Indicateur ressources économiques\"]"
   ]
  },
  {
   "cell_type": "markdown",
   "metadata": {},
   "source": [
    "## Indicateur action politique  "
   ]
  },
  {
   "cell_type": "markdown",
   "metadata": {},
   "source": [
    "Nous avons retenu pour cet indicateur les variables : \n",
    "- Quota \t\n",
    "- Specialized body\n",
    "- Women proportion (upper house)"
   ]
  },
  {
   "cell_type": "code",
   "execution_count": 72,
   "metadata": {},
   "outputs": [],
   "source": [
    "df[\"Women proportion (upper house)\"] = df[\"Women proportion (upper house)\"].astype(float, errors = 'raise')\n",
    "df[\"Women proportion (upper house) indicator\"]=df[\"Women proportion (upper house)\"]/df[\"Women proportion (upper house)\"].max()"
   ]
  },
  {
   "cell_type": "code",
   "execution_count": 73,
   "metadata": {},
   "outputs": [],
   "source": [
    "df[\"Indicateur action politique\"]=1/2*df[\"Women proportion (upper house) indicator\"]+1/4*df[\"Specialized body\"]+1/3*df[\"Quota\"]"
   ]
  },
  {
   "cell_type": "code",
   "execution_count": 74,
   "metadata": {},
   "outputs": [
    {
     "data": {
      "text/plain": [
       "0           NaN\n",
       "1           NaN\n",
       "2           NaN\n",
       "3           NaN\n",
       "4           NaN\n",
       "         ...   \n",
       "263         NaN\n",
       "264         NaN\n",
       "265    0.578564\n",
       "266         NaN\n",
       "267         NaN\n",
       "Name: Indicateur action politique, Length: 268, dtype: float64"
      ]
     },
     "execution_count": 74,
     "metadata": {},
     "output_type": "execute_result"
    }
   ],
   "source": [
    "df = normalize_columns(df,[\"Indicateur action politique\"])\n",
    "df[\"Indicateur action politique\"]"
   ]
  },
  {
   "cell_type": "markdown",
   "metadata": {},
   "source": [
    "## Indicateur activité économique  "
   ]
  },
  {
   "cell_type": "markdown",
   "metadata": {},
   "source": [
    "Nous avons retenu pour cet indicateur les variables : \n",
    "- Ratio women on men vulnerable job Tx\n",
    "- Employment to population ratio, 15+, female"
   ]
  },
  {
   "cell_type": "code",
   "execution_count": 75,
   "metadata": {},
   "outputs": [],
   "source": [
    "df[\"Ratio women on men vulnerable job Tx indicator\"]=df[\"Ratio women on men vulnerable job Tx\"]/df[\"Ratio women on men vulnerable job Tx\"].max()\n",
    "df[\"Employment to population ratio, 15+, female indicator\"]=df[\"Employment to population ratio, 15+, female\"]/df[\"Employment to population ratio, 15+, female\"].max()"
   ]
  },
  {
   "cell_type": "code",
   "execution_count": 76,
   "metadata": {},
   "outputs": [],
   "source": [
    "df[\"Indicateur activité économique\"]=1/2*df[\"Employment to population ratio, 15+, female indicator\"]+1/2*df[\"Ratio women on men vulnerable job Tx indicator\"]"
   ]
  },
  {
   "cell_type": "code",
   "execution_count": 77,
   "metadata": {},
   "outputs": [
    {
     "data": {
      "text/plain": [
       "0           NaN\n",
       "1           NaN\n",
       "2           NaN\n",
       "3           NaN\n",
       "4      0.568054\n",
       "         ...   \n",
       "263         NaN\n",
       "264    0.190026\n",
       "265    0.269699\n",
       "266         NaN\n",
       "267         NaN\n",
       "Name: Indicateur activité économique, Length: 268, dtype: float64"
      ]
     },
     "execution_count": 77,
     "metadata": {},
     "output_type": "execute_result"
    }
   ],
   "source": [
    "df = normalize_columns(df,[\"Indicateur activité économique\"])\n",
    "df[\"Indicateur activité économique\"]"
   ]
  },
  {
   "cell_type": "markdown",
   "metadata": {},
   "source": [
    "# 5. Création de l'indicateur global "
   ]
  },
  {
   "cell_type": "markdown",
   "metadata": {},
   "source": [
    "Les scientifiques qui ont construit l'indicateur GII on effectué une MCA (Multiple Correspondence Analysis, méthode qui permet d'évaluer l'importance relative de certaines variables les unes par rapport aux autres dans un dataset) sur les variables explicatives des inégalités hommes/femmes qui leur a permis d'établir des pondérations de chaque sous-indicateur. En utilisant les résultats de cette MCA nous avons pu estimer les pondérations relatives de nos sous-indicateurs: \n",
    "- Accès à la santé : 0.179\n",
    "- Position au sein du ménage : 0.203\n",
    "- L'intégrité physique : 0.140\n",
    "- L'education : 0,131\n",
    "- Les ressources économiques : 0.169\n",
    "- La capacité d'action politique : 0,085\n",
    "- L'activité économique : 0.093"
   ]
  },
  {
   "cell_type": "markdown",
   "metadata": {},
   "source": [
    "Avant calculer l'indicateur global, nous avons choisi d'imputer les valeurs manquantes pour chaque pays par la moyenne des indicateurs obtenus pour un pays. Cette méthode n'est pas parfaite, mais elle permet d'obtenir un indicateur global pour le maximum de pays, même si une valeur pour un ou plusieurs des indicateurs n'existe pas. "
   ]
  },
  {
   "cell_type": "code",
   "execution_count": 78,
   "metadata": {},
   "outputs": [],
   "source": [
    "df_indicateurs=df[[\"Country Code\", \"Indicateur santé\", \"Indicateur ménage\", \"Indicateur intégrité physique\", \"Indicateur éducation\", \"Indicateur ressources économiques\", \"Indicateur action politique\",\"Indicateur activité économique\"]]\n",
    "df_indicateurs = df_indicateurs.set_index(\"Country Code\")\n",
    "#On calcule la moyenne pour chaque pays, on remplace les nan par la valeur moyenne de la colonne\n",
    "df_indicateurs = df_indicateurs.T\n",
    "df_indicateurs = df_indicateurs.fillna(value = df_indicateurs.mean())\n",
    "#On transpose le data frame pour retrouver sa structure initiale\n",
    "df_indicateurs = df_indicateurs.T"
   ]
  },
  {
   "cell_type": "markdown",
   "metadata": {},
   "source": [
    "Nous avons ensuite utilisé les pondérations estimées de nos sous-indicateurs pour créer l'estimateur global. "
   ]
  },
  {
   "cell_type": "code",
   "execution_count": 79,
   "metadata": {},
   "outputs": [
    {
     "data": {
      "text/plain": [
       "Country Code\n",
       "AFE    0.337647\n",
       "AFW    0.096145\n",
       "ARB    0.555698\n",
       "CSS    0.645334\n",
       "CEB    0.568054\n",
       "         ...   \n",
       "YEM    0.148171\n",
       "ZMB    0.429776\n",
       "ZWE    0.525496\n",
       "TWN    0.876457\n",
       "XKO    0.643357\n",
       "Name: Indicateur global, Length: 268, dtype: float64"
      ]
     },
     "execution_count": 79,
     "metadata": {},
     "output_type": "execute_result"
    }
   ],
   "source": [
    "df_indicateurs[\"Indicateur global\"]=(0.179)*df_indicateurs[\"Indicateur santé\"]+(0.203)*df_indicateurs[\"Indicateur ménage\"]+(0.140)*df_indicateurs[\"Indicateur intégrité physique\"]+(0.131)*df_indicateurs[\"Indicateur éducation\"]+(0.169)*df_indicateurs[\"Indicateur ressources économiques\"]+(0.085)*df_indicateurs[\"Indicateur action politique\"]+(0.093)*df_indicateurs[\"Indicateur activité économique\"]\n",
    "df_indicateurs[\"Indicateur global\"]"
   ]
  },
  {
   "cell_type": "markdown",
   "metadata": {},
   "source": [
    "# 6. Statistiques globales sur l'indicateur et évaluation"
   ]
  },
  {
   "cell_type": "markdown",
   "metadata": {},
   "source": [
    "## Evaluation économétrique "
   ]
  },
  {
   "cell_type": "markdown",
   "metadata": {},
   "source": [
    "On cherche à évaluer le lien entre l'indicateur global construit et le PIB par tête en 2019. Pour cela, nous faisons une régression linéaire simple du PIB par tête sur l'indicateur global."
   ]
  },
  {
   "cell_type": "code",
   "execution_count": 80,
   "metadata": {},
   "outputs": [],
   "source": [
    "df_indicateurs=df_indicateurs.merge(df_pib, on =\"Country Code\", how=\"left\")\n",
    "df_indicateurs.dropna(inplace=True)"
   ]
  },
  {
   "cell_type": "code",
   "execution_count": 81,
   "metadata": {},
   "outputs": [
    {
     "name": "stdout",
     "output_type": "stream",
     "text": [
      "                             OLS Regression Results                            \n",
      "===============================================================================\n",
      "Dep. Variable:     GDP per capita 2019   R-squared:                       0.306\n",
      "Model:                             OLS   Adj. R-squared:                  0.303\n",
      "Method:                  Least Squares   F-statistic:                     92.76\n",
      "Date:                 Thu, 06 Jan 2022   Prob (F-statistic):           2.04e-18\n",
      "Time:                         18:03:36   Log-Likelihood:                -2341.6\n",
      "No. Observations:                  212   AIC:                             4687.\n",
      "Df Residuals:                      210   BIC:                             4694.\n",
      "Df Model:                            1                                         \n",
      "Covariance Type:             nonrobust                                         \n",
      "=====================================================================================\n",
      "                        coef    std err          t      P>|t|      [0.025      0.975]\n",
      "-------------------------------------------------------------------------------------\n",
      "const             -1.576e+04   3202.377     -4.921      0.000   -2.21e+04   -9445.738\n",
      "Indicateur global  4.902e+04   5089.752      9.631      0.000     3.9e+04    5.91e+04\n",
      "==============================================================================\n",
      "Omnibus:                       85.201   Durbin-Watson:                   1.906\n",
      "Prob(Omnibus):                  0.000   Jarque-Bera (JB):              270.175\n",
      "Skew:                           1.702   Prob(JB):                     2.15e-59\n",
      "Kurtosis:                       7.358   Cond. No.                         6.64\n",
      "==============================================================================\n",
      "\n",
      "Notes:\n",
      "[1] Standard Errors assume that the covariance matrix of the errors is correctly specified.\n"
     ]
    }
   ],
   "source": [
    "# Régression linéaire \n",
    "X = df_indicateurs[[\"Indicateur global\"]]\n",
    "X = sm.add_constant(X)\n",
    "y = df_indicateurs[\"GDP per capita 2019\"]\n",
    "\n",
    "model = sm.OLS(y, X)\n",
    "results = model.fit()\n",
    "print(results.summary())"
   ]
  },
  {
   "cell_type": "markdown",
   "metadata": {},
   "source": [
    "Il existe une relation linéaire entre le PIB par tête et l'indicateur global, synthétisant la condition des femmes selon cette régression. En effet, toutes choses égales par ailleurs, si l'indicateur augmente de 0.1 points, on prédit une augmentation d'environ 4902 dollars du PIB par tête. Le coefficient est statistiquement significatif. \n",
    "\n",
    "Le $R²$ est quant à lui relativement faible (0.3). Cela peut être expliqué par l'existence d'autres déterminants du PIB qui peuvent être différents de la condition des femmes."
   ]
  },
  {
   "cell_type": "markdown",
   "metadata": {},
   "source": [
    "## Statistiques sur l'indicateur "
   ]
  },
  {
   "cell_type": "markdown",
   "metadata": {},
   "source": [
    "L'indicateur global créé est dispersé entre 0 et 1. La moyenne de l'indicateur est de 0.59. "
   ]
  },
  {
   "cell_type": "code",
   "execution_count": 82,
   "metadata": {},
   "outputs": [
    {
     "data": {
      "text/plain": [
       "count    212.000000\n",
       "mean       0.594681\n",
       "std        0.205970\n",
       "min        0.020840\n",
       "25%        0.447136\n",
       "50%        0.617734\n",
       "75%        0.767133\n",
       "max        0.960993\n",
       "Name: Indicateur global, dtype: float64"
      ]
     },
     "execution_count": 82,
     "metadata": {},
     "output_type": "execute_result"
    }
   ],
   "source": [
    "df_indicateurs[\"Indicateur global\"].describe()"
   ]
  },
  {
   "cell_type": "markdown",
   "metadata": {},
   "source": [
    "On cherche ensuite à étudier la répartition de l'indicateur en fonction des différents continents. Pour cela, on se sert de \"world.csv\" qui associe chaque pays à un continent. On effectue une jointure entre la table world et la table des indicateurs, de manière à associer à chaque pays un continent et un indicateur global. "
   ]
  },
  {
   "cell_type": "code",
   "execution_count": 83,
   "metadata": {},
   "outputs": [],
   "source": [
    "df_indicateurs2=df_indicateurs[[ \"Indicateur global\"]]\n",
    "df_indicateurs2=df_indicateurs.merge(df_world, on='Country Code', how='left')\n",
    "df_indicateurs2=df_indicateurs2[[\"Country Code\", \"Indicateur global\", \"continent\"]]"
   ]
  },
  {
   "cell_type": "markdown",
   "metadata": {},
   "source": [
    "On crée une colonne par continent pour pouvoir faire des boxplots par continent."
   ]
  },
  {
   "cell_type": "code",
   "execution_count": 84,
   "metadata": {},
   "outputs": [
    {
     "name": "stderr",
     "output_type": "stream",
     "text": [
      "C:\\Users\\julie\\anaconda3\\lib\\site-packages\\pandas\\core\\frame.py:4296: SettingWithCopyWarning: \n",
      "A value is trying to be set on a copy of a slice from a DataFrame\n",
      "\n",
      "See the caveats in the documentation: https://pandas.pydata.org/pandas-docs/stable/user_guide/indexing.html#returning-a-view-versus-a-copy\n",
      "  return super().rename(\n"
     ]
    }
   ],
   "source": [
    "Africa=[\"Africa\"]\n",
    "df_indicateurs_af=df_indicateurs2[df_indicateurs2['continent'].isin(Africa)]\n",
    "df_indicateurs_af.rename(columns={'Indicateur global': 'Africa'}, inplace=True)\n",
    "Asia=[\"Asia\"]\n",
    "df_indicateurs_as=df_indicateurs2[df_indicateurs2['continent'].isin(Asia)]\n",
    "df_indicateurs_as.rename(columns={'Indicateur global': 'Asia'}, inplace=True)\n",
    "Eur=[\"Europe\"]\n",
    "df_indicateurs_eur=df_indicateurs2[df_indicateurs2['continent'].isin(Eur)]\n",
    "df_indicateurs_eur.rename(columns={'Indicateur global': 'Europe'}, inplace=True)\n",
    "NA=[\"North America\"]\n",
    "df_indicateurs_na=df_indicateurs2[df_indicateurs2['continent'].isin(NA)]\n",
    "df_indicateurs_na.rename(columns={'Indicateur global': 'North America'}, inplace=True)\n",
    "OC=[\"Oceania\"]\n",
    "df_indicateurs_oc=df_indicateurs2[df_indicateurs2['continent'].isin(OC)]\n",
    "df_indicateurs_oc.rename(columns={'Indicateur global': 'Oceania'}, inplace=True)\n",
    "SA=[\"South America\"]\n",
    "df_indicateurs_sa=df_indicateurs2[df_indicateurs2['continent'].isin(SA)]\n",
    "df_indicateurs_sa.rename(columns={'Indicateur global': 'South America'}, inplace=True)"
   ]
  },
  {
   "cell_type": "code",
   "execution_count": 85,
   "metadata": {},
   "outputs": [],
   "source": [
    "df_indicateurs2=df_indicateurs2[[\"Country Code\"]]\n",
    "df_indicateurs2=df_indicateurs2.merge(df_indicateurs_af, on='Country Code', how='left')\n",
    "df_indicateurs2=df_indicateurs2.merge(df_indicateurs_as, on='Country Code', how='left')\n",
    "df_indicateurs2=df_indicateurs2.merge(df_indicateurs_eur, on='Country Code', how='left')\n",
    "df_indicateurs2=df_indicateurs2.merge(df_indicateurs_na, on='Country Code', how='left')\n",
    "df_indicateurs2=df_indicateurs2.merge(df_indicateurs_oc, on='Country Code', how='left')\n",
    "df_indicateurs2=df_indicateurs2.merge(df_indicateurs_sa, on='Country Code', how='left')\n",
    "df_indicateurs2=df_indicateurs2[[\"Country Code\",\"Africa\", \"Asia\", \"Europe\", \"North America\", \"Oceania\", \"South America\" ]]"
   ]
  },
  {
   "cell_type": "code",
   "execution_count": 87,
   "metadata": {},
   "outputs": [
    {
     "data": {
      "text/plain": [
       "Text(0.5, 1.0, 'Distribution of the global indicator for different continents ')"
      ]
     },
     "execution_count": 87,
     "metadata": {},
     "output_type": "execute_result"
    },
    {
     "data": {
      "image/png": "[encoded data removed]",
      "text/plain": [
       "<Figure size 432x288 with 1 Axes>"
      ]
     },
     "metadata": {
      "needs_background": "light"
     },
     "output_type": "display_data"
    }
   ],
   "source": [
    "df_indicateurs2.boxplot()\n",
    "plt.title(\"Distribution of the global indicator for different continents \")"
   ]
  },
  {
   "cell_type": "markdown",
   "metadata": {},
   "source": [
    "On obtient ici la dispersion de l'indicateur en fonction des différents continents. Ainsi, l'indicateur global semble assez élevé en Europe (centré aux alentours de 0.8) et plus faible en Afrique par exemple (l'indicateur y est centré aux alentours de 0.4). "
   ]
  },
  {
   "cell_type": "markdown",
   "metadata": {},
   "source": [
    "# 7. Visualisation de l'indicateur "
   ]
  },
  {
   "cell_type": "markdown",
   "metadata": {},
   "source": [
    "- carte"
   ]
  },
  {
   "cell_type": "markdown",
   "metadata": {},
   "source": [
    "# Conclusion"
   ]
  },
  {
   "cell_type": "markdown",
   "metadata": {},
   "source": [
    "Nous avons construit un indicateur multimensionnel sur la condition des femmes, en nous appuyant sur plusieurs domaines mis en avant par la littérature économique: la santé, la condition des femmes au sein du ménage, l'intégrité physique, l'éducation, les ressources économiques, l'action politique et l'activité économique. \n",
    "\n",
    "L'analyse économétrique met en évidence une relation linéaire entre la condition des femmes dans un pays et le PIB par tête de ce pays. Plus la condition des femmes dans un pays est élevée, plus le pays est développé (en termes économiques). \n",
    "\n",
    "Notre analyse pourrait être élargie en incorporant en plus d'une réflexion sur la dimension économique du développement des pays, une réflexion sur une dimension plus humaine, au travers d'autres indicateurs comme l'IDH (Indice de développement humain). "
   ]
  }
 ],
 "metadata": {
  "kernelspec": {
   "display_name": "Python 3",
   "language": "python",
   "name": "python3"
  },
  "language_info": {
   "codemirror_mode": {
    "name": "ipython",
    "version": 3
   },
   "file_extension": ".py",
   "mimetype": "text/x-python",
   "name": "python",
   "nbconvert_exporter": "python",
   "pygments_lexer": "ipython3",
   "version": "3.8.5"
  }
 },
 "nbformat": 4,
 "nbformat_minor": 5
}
