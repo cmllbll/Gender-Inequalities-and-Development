{
 "cells": [
  {
   "cell_type": "code",
   "execution_count": 1,
   "metadata": {},
   "outputs": [],
   "source": [
    "#Récupérer les données de l'HDRO sur l'indice d'inégalité de genre"
   ]
  },
  {
   "cell_type": "code",
   "execution_count": 6,
   "metadata": {},
   "outputs": [],
   "source": [
    "import numpy as np\n",
    "from sklearn.linear_model import LinearRegression\n",
    "import pandas as pd\n",
    "import matplotlib.pyplot as plt\n",
    "import urllib\n",
    "import bs4\n",
    "import pandas\n",
    "from urllib import request"
   ]
  },
  {
   "cell_type": "code",
   "execution_count": 67,
   "metadata": {},
   "outputs": [
    {
     "data": {
      "text/html": [
       "<div>\n",
       "<style scoped>\n",
       "    .dataframe tbody tr th:only-of-type {\n",
       "        vertical-align: middle;\n",
       "    }\n",
       "\n",
       "    .dataframe tbody tr th {\n",
       "        vertical-align: top;\n",
       "    }\n",
       "\n",
       "    .dataframe thead th {\n",
       "        text-align: right;\n",
       "    }\n",
       "</style>\n",
       "<table border=\"1\" class=\"dataframe\">\n",
       "  <thead>\n",
       "    <tr style=\"text-align: right;\">\n",
       "      <th></th>\n",
       "      <th>HDI Rank,\"Country\",\"1995\",\"\",\"2000\",\"\",\"2005\",\"\",\"2010\",\"\",\"2011\",\"\",\"2012\",\"\",\"2013\",\"\",\"2014\",\"\",\"2015\",\"\",\"2016\",\"\",\"2017\",\"\",\"2018\",\"\",\"2019\",\"\"</th>\n",
       "    </tr>\n",
       "  </thead>\n",
       "  <tbody>\n",
       "    <tr>\n",
       "      <th>0</th>\n",
       "      <td>169,\" Afghanistan\",\"..\",\"\",\"..\",\"\",\"0.745\",\"\",...</td>\n",
       "    </tr>\n",
       "    <tr>\n",
       "      <th>1</th>\n",
       "      <td>69,\" Albania\",\"..\",\"\",\"0.334\",\"\",\"0.306\",\"\",\"0...</td>\n",
       "    </tr>\n",
       "    <tr>\n",
       "      <th>2</th>\n",
       "      <td>91,\" Algeria\",\"0.682\",\"a\",\"0.624\",\"\",\"0.552\",\"...</td>\n",
       "    </tr>\n",
       "    <tr>\n",
       "      <th>3</th>\n",
       "      <td>148,\" Angola\",\"..\",\"\",\"..\",\"\",\"..\",\"\",\"..\",\"\",...</td>\n",
       "    </tr>\n",
       "    <tr>\n",
       "      <th>4</th>\n",
       "      <td>46,\" Argentina\",\"0.427\",\"a\",\"0.417\",\"\",\"0.372\"...</td>\n",
       "    </tr>\n",
       "  </tbody>\n",
       "</table>\n",
       "</div>"
      ],
      "text/plain": [
       "  HDI Rank,\"Country\",\"1995\",\"\",\"2000\",\"\",\"2005\",\"\",\"2010\",\"\",\"2011\",\"\",\"2012\",\"\",\"2013\",\"\",\"2014\",\"\",\"2015\",\"\",\"2016\",\"\",\"2017\",\"\",\"2018\",\"\",\"2019\",\"\"\n",
       "0  169,\" Afghanistan\",\"..\",\"\",\"..\",\"\",\"0.745\",\"\",...                                                                                                  \n",
       "1  69,\" Albania\",\"..\",\"\",\"0.334\",\"\",\"0.306\",\"\",\"0...                                                                                                  \n",
       "2  91,\" Algeria\",\"0.682\",\"a\",\"0.624\",\"\",\"0.552\",\"...                                                                                                  \n",
       "3  148,\" Angola\",\"..\",\"\",\"..\",\"\",\"..\",\"\",\"..\",\"\",...                                                                                                  \n",
       "4  46,\" Argentina\",\"0.427\",\"a\",\"0.417\",\"\",\"0.372\"...                                                                                                  "
      ]
     },
     "execution_count": 67,
     "metadata": {},
     "output_type": "execute_result"
    }
   ],
   "source": [
    "df3 = pd.read_csv('C:/Users/gadole/Documents/cours/Ensae/2A/python/projet/GII.csv', sep= ',', encoding='latin-1')\n",
    "\n",
    "df3.head(5)\n",
    "\n",
    "#del df3['"
   ]
  },
  {
   "cell_type": "code",
   "execution_count": null,
   "metadata": {},
   "outputs": [],
   "source": []
  }
 ],
 "metadata": {
  "kernelspec": {
   "display_name": "Python 3",
   "language": "python",
   "name": "python3"
  },
  "language_info": {
   "codemirror_mode": {
    "name": "ipython",
    "version": 3
   },
   "file_extension": ".py",
   "mimetype": "text/x-python",
   "name": "python",
   "nbconvert_exporter": "python",
   "pygments_lexer": "ipython3",
   "version": "3.8.3"
  }
 },
 "nbformat": 4,
 "nbformat_minor": 4
}
