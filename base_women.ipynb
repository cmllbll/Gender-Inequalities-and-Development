{
 "cells": [
  {
   "cell_type": "code",
   "execution_count": 1,
   "metadata": {},
   "outputs": [],
   "source": [
    "import numpy as np\n",
    "from sklearn.linear_model import LinearRegression\n",
    "import pandas as pd\n",
    "import matplotlib.pyplot as plt\n",
    "import urllib\n",
    "import bs4\n",
    "import pandas\n",
    "from urllib import request\n",
    "from scipy import stats\n",
    "import seaborn as sns\n",
    "import statsmodels.api as sm\n",
    "from sklearn import linear_model"
   ]
  },
  {
   "cell_type": "markdown",
   "metadata": {},
   "source": [
    "# 1. Importation et travail sur les bdd"
   ]
  },
  {
   "cell_type": "code",
   "execution_count": 2,
   "metadata": {},
   "outputs": [],
   "source": [
    "#df=pd.read_csv('WDIData.csv')\n",
    "df=pd.read_csv('C:/Users/julie/Documents/ENSAE/2A/S1/python/projet/WDIData.csv')"
   ]
  },
  {
   "cell_type": "code",
   "execution_count": 3,
   "metadata": {},
   "outputs": [],
   "source": [
    "df.rename(columns={'Indicator Name': 'Indicator', '2019': 'Value_2019'}, inplace=True)"
   ]
  },
  {
   "cell_type": "code",
   "execution_count": 4,
   "metadata": {},
   "outputs": [],
   "source": [
    "# Base women\n",
    "women=df[df.Indicator.str.contains('women', case=False)]"
   ]
  },
  {
   "cell_type": "code",
   "execution_count": 5,
   "metadata": {},
   "outputs": [],
   "source": [
    "women=women[[\"Country Code\", \"Country Name\", \"Indicator\", \"Indicator Code\", \"Value_2019\"]]\n",
    "women.rename(columns={'Value_2019': 'Value_women_2019'}, inplace=True)"
   ]
  },
  {
   "cell_type": "code",
   "execution_count": 6,
   "metadata": {},
   "outputs": [],
   "source": [
    "# on sélectionne le PIB par tête\n",
    "df_pib=df[df['Indicator']==\"GDP per capita (constant 2015 US$)\"]\n",
    "df_pib=df_pib[[\"Country Code\",\"Value_2019\"]]"
   ]
  },
  {
   "cell_type": "markdown",
   "metadata": {},
   "source": [
    "### Fusion des bdd"
   ]
  },
  {
   "cell_type": "code",
   "execution_count": 7,
   "metadata": {},
   "outputs": [],
   "source": [
    "df_women_gdp=women.merge(df_pib, on='Country Code', how='left')\n",
    "df_women_gdp.rename(columns={'Value_2019': 'Value_gdp_2019'}, inplace=True)"
   ]
  },
  {
   "cell_type": "code",
   "execution_count": 8,
   "metadata": {},
   "outputs": [
    {
     "data": {
      "text/html": [
       "<div>\n",
       "<style scoped>\n",
       "    .dataframe tbody tr th:only-of-type {\n",
       "        vertical-align: middle;\n",
       "    }\n",
       "\n",
       "    .dataframe tbody tr th {\n",
       "        vertical-align: top;\n",
       "    }\n",
       "\n",
       "    .dataframe thead th {\n",
       "        text-align: right;\n",
       "    }\n",
       "</style>\n",
       "<table border=\"1\" class=\"dataframe\">\n",
       "  <thead>\n",
       "    <tr style=\"text-align: right;\">\n",
       "      <th></th>\n",
       "      <th>Country Code</th>\n",
       "      <th>Country Name</th>\n",
       "      <th>Indicator</th>\n",
       "      <th>Indicator Code</th>\n",
       "      <th>Value_women_2019</th>\n",
       "      <th>Value_gdp_2019</th>\n",
       "    </tr>\n",
       "  </thead>\n",
       "  <tbody>\n",
       "    <tr>\n",
       "      <th>0</th>\n",
       "      <td>AFE</td>\n",
       "      <td>Africa Eastern and Southern</td>\n",
       "      <td>Adolescent fertility rate (births per 1,000 wo...</td>\n",
       "      <td>SP.ADO.TFRT</td>\n",
       "      <td>93.231944</td>\n",
       "      <td>1499.256275</td>\n",
       "    </tr>\n",
       "    <tr>\n",
       "      <th>1</th>\n",
       "      <td>AFE</td>\n",
       "      <td>Africa Eastern and Southern</td>\n",
       "      <td>Antiretroviral therapy coverage for PMTCT (% o...</td>\n",
       "      <td>SH.HIV.PMTC.ZS</td>\n",
       "      <td>90.131889</td>\n",
       "      <td>1499.256275</td>\n",
       "    </tr>\n",
       "    <tr>\n",
       "      <th>2</th>\n",
       "      <td>AFE</td>\n",
       "      <td>Africa Eastern and Southern</td>\n",
       "      <td>Contraceptive prevalence, any methods (% of wo...</td>\n",
       "      <td>SP.DYN.CONU.ZS</td>\n",
       "      <td>NaN</td>\n",
       "      <td>1499.256275</td>\n",
       "    </tr>\n",
       "    <tr>\n",
       "      <th>3</th>\n",
       "      <td>AFE</td>\n",
       "      <td>Africa Eastern and Southern</td>\n",
       "      <td>Contraceptive prevalence, modern methods (% of...</td>\n",
       "      <td>SP.DYN.CONM.ZS</td>\n",
       "      <td>NaN</td>\n",
       "      <td>1499.256275</td>\n",
       "    </tr>\n",
       "    <tr>\n",
       "      <th>4</th>\n",
       "      <td>AFE</td>\n",
       "      <td>Africa Eastern and Southern</td>\n",
       "      <td>Demand for family planning satisfied by modern...</td>\n",
       "      <td>SH.FPL.SATM.ZS</td>\n",
       "      <td>NaN</td>\n",
       "      <td>1499.256275</td>\n",
       "    </tr>\n",
       "  </tbody>\n",
       "</table>\n",
       "</div>"
      ],
      "text/plain": [
       "  Country Code                 Country Name  \\\n",
       "0          AFE  Africa Eastern and Southern   \n",
       "1          AFE  Africa Eastern and Southern   \n",
       "2          AFE  Africa Eastern and Southern   \n",
       "3          AFE  Africa Eastern and Southern   \n",
       "4          AFE  Africa Eastern and Southern   \n",
       "\n",
       "                                           Indicator  Indicator Code  \\\n",
       "0  Adolescent fertility rate (births per 1,000 wo...     SP.ADO.TFRT   \n",
       "1  Antiretroviral therapy coverage for PMTCT (% o...  SH.HIV.PMTC.ZS   \n",
       "2  Contraceptive prevalence, any methods (% of wo...  SP.DYN.CONU.ZS   \n",
       "3  Contraceptive prevalence, modern methods (% of...  SP.DYN.CONM.ZS   \n",
       "4  Demand for family planning satisfied by modern...  SH.FPL.SATM.ZS   \n",
       "\n",
       "   Value_women_2019  Value_gdp_2019  \n",
       "0         93.231944     1499.256275  \n",
       "1         90.131889     1499.256275  \n",
       "2               NaN     1499.256275  \n",
       "3               NaN     1499.256275  \n",
       "4               NaN     1499.256275  "
      ]
     },
     "execution_count": 8,
     "metadata": {},
     "output_type": "execute_result"
    }
   ],
   "source": [
    "df_women_gdp.head(5)"
   ]
  },
  {
   "cell_type": "markdown",
   "metadata": {},
   "source": [
    "# 2. Analyse des 25 variables pour étudier leur pertinence"
   ]
  },
  {
   "cell_type": "markdown",
   "metadata": {},
   "source": [
    "J'ai testé toutes les variables. Celles qui ne figurent pas ci-dessous n'ont que très peu de valeurs (quelques points seulement)."
   ]
  },
  {
   "cell_type": "code",
   "execution_count": 9,
   "metadata": {},
   "outputs": [
    {
     "data": {
      "image/png": "[encoded data removed]",
      "text/plain": [
       "<Figure size 432x288 with 1 Axes>"
      ]
     },
     "metadata": {
      "needs_background": "light"
     },
     "output_type": "display_data"
    }
   ],
   "source": [
    "# Adolescent fertility rate (births per 1000 women between 15 and 19)\n",
    "df_1=df_women_gdp[df_women_gdp['Indicator Code']==\"SP.ADO.TFRT\"]\n",
    "x_1 = df_1.Value_women_2019\n",
    "y_1 = df_1.Value_gdp_2019\n",
    "plt.scatter(x_1, y_1)\n",
    "plt.show()"
   ]
  },
  {
   "cell_type": "code",
   "execution_count": 10,
   "metadata": {},
   "outputs": [],
   "source": [
    "# Antiretroviral therapy coverage for PMTCT (% of pregnant women living with HIV)\n",
    "#df_2=df_women_gdp[df_women_gdp['Indicator Code']==\"SH.HIV.PMTC.ZS\"]\n",
    "#x_2 = df_2.Value_women_2019\n",
    "#y_2 = df_2.Value_gdp_2019\n",
    "#plt.scatter(x_2, y_2)\n",
    "#plt.show()"
   ]
  },
  {
   "cell_type": "code",
   "execution_count": 11,
   "metadata": {},
   "outputs": [],
   "source": [
    "# Contraceptive prevalence, any methods (% of women ages 15-49)\n",
    "#df_3=df_women_gdp[df_women_gdp['Indicator Code']==\"SP.DYN.CONU.ZS\"]\n",
    "#x_3 = df_3.Value_women_2019\n",
    "#y_3 = df_3.Value_gdp_2019\n",
    "#plt.scatter(x_3, y_3)\n",
    "#plt.show()"
   ]
  },
  {
   "cell_type": "code",
   "execution_count": 12,
   "metadata": {},
   "outputs": [],
   "source": [
    "# Contraceptive prevalence, modern methods (% of women ages 15-49)\n",
    "#df_4=df_women_gdp[df_women_gdp['Indicator Code']==\"SP.DYN.CONM.ZS\"]\n",
    "#x_4 = df_4.Value_women_2019\n",
    "#y_4 = df_4.Value_gdp_2019\n",
    "#plt.scatter(x_4, y_4)\n",
    "#plt.show()"
   ]
  },
  {
   "cell_type": "code",
   "execution_count": 13,
   "metadata": {},
   "outputs": [],
   "source": [
    "# Demand for planning satisfied\n",
    "# df_4=df_women_gdp[df_women_gdp['Indicator Code']==\"SH.FPL.SATM.ZS\"]\n",
    "#x_4 = df_4.Value_women_2019\n",
    "#y_4 = df_4.Value_gdp_2019\n",
    "#plt.scatter(x_4, y_4)\n",
    "#plt.show()"
   ]
  },
  {
   "cell_type": "code",
   "execution_count": 14,
   "metadata": {},
   "outputs": [],
   "source": [
    "# Pregnant women receiving prenatal care\n",
    "#df_4=df_women_gdp[df_women_gdp['Indicator Code']==\"SH.STA.ANVC.ZS\"]\n",
    "#x_4 = df_4.Value_women_2019\n",
    "#y_4 = df_4.Value_gdp_2019\n",
    "#plt.scatter(x_4, y_4)\n",
    "#plt.show()"
   ]
  },
  {
   "cell_type": "code",
   "execution_count": 15,
   "metadata": {},
   "outputs": [
    {
     "data": {
      "image/png": "[encoded data removed]",
      "text/plain": [
       "<Figure size 432x288 with 1 Axes>"
      ]
     },
     "metadata": {
      "needs_background": "light"
     },
     "output_type": "display_data"
    }
   ],
   "source": [
    "# Prevalence of anemia among non-pregnant women (%) \n",
    "df_4=df_women_gdp[df_women_gdp['Indicator Code']==\"SH.ANM.NPRG.ZS\"]\n",
    "x_4 = df_4.Value_women_2019\n",
    "y_4 = df_4.Value_gdp_2019\n",
    "plt.scatter(x_4, y_4)\n",
    "plt.show()"
   ]
  },
  {
   "cell_type": "code",
   "execution_count": 16,
   "metadata": {},
   "outputs": [
    {
     "data": {
      "image/png": "[encoded data removed]",
      "text/plain": [
       "<Figure size 432x288 with 1 Axes>"
      ]
     },
     "metadata": {
      "needs_background": "light"
     },
     "output_type": "display_data"
    }
   ],
   "source": [
    "# Prevalence of anemia among pregnant women (%) \n",
    "df_5=df_women_gdp[df_women_gdp['Indicator Code']==\"SH.PRG.ANEM\"]\n",
    "x_5 = df_5.Value_women_2019\n",
    "y_5 = df_5.Value_gdp_2019\n",
    "plt.scatter(x_5, y_5)\n",
    "plt.show()"
   ]
  },
  {
   "cell_type": "code",
   "execution_count": 17,
   "metadata": {},
   "outputs": [],
   "source": [
    "# Proportion of seats held by women in national parliaments \n",
    "#df_4=df_women_gdp[df_women_gdp['Indicator Code']==\"SG.GEN.PARL.ZS\"]\n",
    "#x_4 = df_4.Value_women_2019\n",
    "#y_4 = df_4.Value_gdp_2019\n",
    "#plt.scatter(x_4, y_4)\n",
    "#plt.show()"
   ]
  },
  {
   "cell_type": "code",
   "execution_count": 18,
   "metadata": {},
   "outputs": [
    {
     "data": {
      "image/png": "[encoded data removed]",
      "text/plain": [
       "<Figure size 432x288 with 1 Axes>"
      ]
     },
     "metadata": {
      "needs_background": "light"
     },
     "output_type": "display_data"
    }
   ],
   "source": [
    "# Women Business and the Law Index Score (scale 1-100): The index measures how laws and regulations affect women’s economic opportunity.\n",
    "# 100 = best score\n",
    "df_6=df_women_gdp[df_women_gdp['Indicator Code']==\"SG.LAW.INDX\"]\n",
    "x_6 = df_6.Value_women_2019\n",
    "y_6 = df_6.Value_gdp_2019\n",
    "plt.scatter(x_6, y_6)\n",
    "plt.show()"
   ]
  },
  {
   "cell_type": "code",
   "execution_count": 19,
   "metadata": {},
   "outputs": [],
   "source": [
    "# Women's share of population ages 15+ living with HIV (%)\n",
    "#df_4=df_women_gdp[df_women_gdp['Indicator Code']==\"SH.DYN.AIDS.FE.ZS\"]\n",
    "#x_4 = df_4.Value_women_2019\n",
    "#y_4 = df_4.Value_gdp_2019\n",
    "#plt.scatter(x_4, y_4)\n",
    "#plt.show()"
   ]
  },
  {
   "cell_type": "markdown",
   "metadata": {},
   "source": [
    "# Tests grossiers de méthodes statistiques et économétriques"
   ]
  },
  {
   "cell_type": "markdown",
   "metadata": {},
   "source": [
    "On cherche à effectuer une régression linéaire du PIB par tête sur le taux de fertilité adolescente."
   ]
  },
  {
   "cell_type": "code",
   "execution_count": 20,
   "metadata": {
    "scrolled": true
   },
   "outputs": [
    {
     "data": {
      "image/png": "[encoded data removed]",
      "text/plain": [
       "<Figure size 360x360 with 1 Axes>"
      ]
     },
     "metadata": {
      "needs_background": "light"
     },
     "output_type": "display_data"
    }
   ],
   "source": [
    "# Régression à une variable avec seaborn\n",
    "sns.lmplot(x=\"Value_women_2019\", y=\"Value_gdp_2019\", data=df_1);"
   ]
  },
  {
   "cell_type": "code",
   "execution_count": 21,
   "metadata": {
    "scrolled": true
   },
   "outputs": [
    {
     "name": "stdout",
     "output_type": "stream",
     "text": [
      "                            OLS Regression Results                            \n",
      "==============================================================================\n",
      "Dep. Variable:         Value_gdp_2019   R-squared:                       0.295\n",
      "Model:                            OLS   Adj. R-squared:                  0.292\n",
      "Method:                 Least Squares   F-statistic:                     95.90\n",
      "Date:                Wed, 22 Dec 2021   Prob (F-statistic):           3.87e-19\n",
      "Time:                        17:00:51   Log-Likelihood:                -2552.8\n",
      "No. Observations:                 231   AIC:                             5110.\n",
      "Df Residuals:                     229   BIC:                             5116.\n",
      "Df Model:                           1                                         \n",
      "Covariance Type:            nonrobust                                         \n",
      "==============================================================================\n",
      "                 coef    std err          t      P>|t|      [0.025      0.975]\n",
      "------------------------------------------------------------------------------\n",
      "x1          -260.7395     26.625     -9.793      0.000    -313.201    -208.278\n",
      "const       2.567e+04   1603.588     16.009      0.000    2.25e+04    2.88e+04\n",
      "==============================================================================\n",
      "Omnibus:                      102.287   Durbin-Watson:                   1.692\n",
      "Prob(Omnibus):                  0.000   Jarque-Bera (JB):              373.191\n",
      "Skew:                           1.863   Prob(JB):                     9.17e-82\n",
      "Kurtosis:                       7.990   Cond. No.                         95.9\n",
      "==============================================================================\n",
      "\n",
      "Notes:\n",
      "[1] Standard Errors assume that the covariance matrix of the errors is correctly specified.\n"
     ]
    },
    {
     "name": "stderr",
     "output_type": "stream",
     "text": [
      "C:\\Users\\julie\\anaconda3\\lib\\site-packages\\pandas\\core\\frame.py:4163: SettingWithCopyWarning: \n",
      "A value is trying to be set on a copy of a slice from a DataFrame\n",
      "\n",
      "See the caveats in the documentation: https://pandas.pydata.org/pandas-docs/stable/user_guide/indexing.html#returning-a-view-versus-a-copy\n",
      "  return super().drop(\n"
     ]
    }
   ],
   "source": [
    "# Autre méthode (statsmodels):pour pouvoir l'utiliser, il faut supprimer les valeurs Nan \n",
    "\n",
    "index_with_nan = df_1.index[df_1.isnull().any(axis=1)]\n",
    "index_with_nan.shape\n",
    "df_1.drop(index_with_nan,0, inplace=True)\n",
    "\n",
    "X = df_1[\"Value_women_2019\"]\n",
    "X = np.vander(X, 2)\n",
    "y = df_1[\"Value_gdp_2019\"]\n",
    "model = sm.OLS(y, X)\n",
    "results = model.fit()\n",
    "print(results.summary())"
   ]
  },
  {
   "cell_type": "markdown",
   "metadata": {},
   "source": [
    "# Un peu de SQL pour construire une nouvelle base et faire des RLM"
   ]
  },
  {
   "cell_type": "markdown",
   "metadata": {},
   "source": [
    "Je construits ma base en choisissant les indicateurs pertinents:\n",
    "- df_1: fertility adolescent rate\n",
    "- df_4: anemia among non pregnant women\n",
    "- df_5: anemia among pregnant women\n",
    "- df_6: women business"
   ]
  },
  {
   "cell_type": "code",
   "execution_count": 22,
   "metadata": {},
   "outputs": [
    {
     "name": "stderr",
     "output_type": "stream",
     "text": [
      "C:\\Users\\julie\\anaconda3\\lib\\site-packages\\pandas\\core\\frame.py:4296: SettingWithCopyWarning: \n",
      "A value is trying to be set on a copy of a slice from a DataFrame\n",
      "\n",
      "See the caveats in the documentation: https://pandas.pydata.org/pandas-docs/stable/user_guide/indexing.html#returning-a-view-versus-a-copy\n",
      "  return super().rename(\n"
     ]
    }
   ],
   "source": [
    "df_1.rename(columns={'Value_women_2019': 'Adolescent_fertility_rate'}, inplace=True)\n",
    "df_1=df_1[[\"Country Code\", \"Country Name\", \"Adolescent_fertility_rate\", \"Value_gdp_2019\"]]\n",
    "\n",
    "df_4=df_4[[\"Country Code\", \"Value_women_2019\"]]\n",
    "df_4.rename(columns={'Value_women_2019': 'Value_anemia_non_pregnant'}, inplace=True)\n",
    "\n",
    "df_5=df_5[[\"Country Code\", \"Value_women_2019\"]]\n",
    "df_5.rename(columns={'Value_women_2019': 'Value_anemia_pregnant'}, inplace=True)\n",
    "\n",
    "df_6=df_6[[\"Country Code\", \"Value_women_2019\"]]\n",
    "df_6.rename(columns={'Value_women_2019': 'Business'}, inplace=True)"
   ]
  },
  {
   "cell_type": "code",
   "execution_count": 30,
   "metadata": {},
   "outputs": [],
   "source": [
    "df_merge=df_1.merge(df_4, on='Country Code', how='left')\n",
    "df_merge2=df_merge.merge(df_5, on='Country Code', how='left')\n",
    "df_merge3=df_merge2.merge(df_6, on='Country Code', how='left')"
   ]
  },
  {
   "cell_type": "code",
   "execution_count": 29,
   "metadata": {},
   "outputs": [],
   "source": [
    "# on supprime les nans\n",
    "index_with_nan = df_merge3.index[df_merge3.isnull().any(axis=1)]\n",
    "index_with_nan.shape\n",
    "df_merge3.drop(index_with_nan,0, inplace=True)"
   ]
  },
  {
   "cell_type": "code",
   "execution_count": 27,
   "metadata": {},
   "outputs": [],
   "source": [
    "df_matrice_corr=df_merge3[[\"Value_gdp_2019\",\"Adolescent_fertility_rate\", \"Value_anemia_non_pregnant\", \"Value_anemia_pregnant\", \"Business\" ]]"
   ]
  },
  {
   "cell_type": "code",
   "execution_count": 28,
   "metadata": {},
   "outputs": [
    {
     "data": {
      "text/plain": [
       "<AxesSubplot:>"
      ]
     },
     "execution_count": 28,
     "metadata": {},
     "output_type": "execute_result"
    },
    {
     "data": {
      "image/png": "[encoded data removed]",
      "text/plain": [
       "<Figure size 432x288 with 2 Axes>"
      ]
     },
     "metadata": {
      "needs_background": "light"
     },
     "output_type": "display_data"
    }
   ],
   "source": [
    "sns.heatmap(df_matrice_corr.corr(), cmap='coolwarm', annot=True, fmt=\".2f\")"
   ]
  },
  {
   "cell_type": "markdown",
   "metadata": {},
   "source": [
    "Les variables d'anémie semblent extrêmment corrélées entre elles. "
   ]
  },
  {
   "cell_type": "code",
   "execution_count": 31,
   "metadata": {},
   "outputs": [
    {
     "name": "stdout",
     "output_type": "stream",
     "text": [
      "                            OLS Regression Results                            \n",
      "==============================================================================\n",
      "Dep. Variable:         Value_gdp_2019   R-squared:                       0.411\n",
      "Model:                            OLS   Adj. R-squared:                  0.397\n",
      "Method:                 Least Squares   F-statistic:                     29.34\n",
      "Date:                Wed, 22 Dec 2021   Prob (F-statistic):           1.68e-18\n",
      "Time:                        17:08:38   Log-Likelihood:                -1902.3\n",
      "No. Observations:                 173   AIC:                             3815.\n",
      "Df Residuals:                     168   BIC:                             3830.\n",
      "Df Model:                           4                                         \n",
      "Covariance Type:            nonrobust                                         \n",
      "=============================================================================================\n",
      "                                coef    std err          t      P>|t|      [0.025      0.975]\n",
      "---------------------------------------------------------------------------------------------\n",
      "const                      2.155e+04   7824.395      2.755      0.007    6106.227     3.7e+04\n",
      "Adolescent_fertility_rate  -116.9644     37.484     -3.120      0.002    -190.965     -42.964\n",
      "Value_anemia_non_pregnant   121.5590    320.937      0.379      0.705    -512.030     755.148\n",
      "Value_anemia_pregnant      -661.8579    327.581     -2.020      0.045   -1308.564     -15.151\n",
      "Business                    195.9647     78.584      2.494      0.014      40.825     351.104\n",
      "==============================================================================\n",
      "Omnibus:                       80.062   Durbin-Watson:                   1.957\n",
      "Prob(Omnibus):                  0.000   Jarque-Bera (JB):              285.008\n",
      "Skew:                           1.849   Prob(JB):                     1.29e-62\n",
      "Kurtosis:                       8.086   Cond. No.                         715.\n",
      "==============================================================================\n",
      "\n",
      "Notes:\n",
      "[1] Standard Errors assume that the covariance matrix of the errors is correctly specified.\n"
     ]
    }
   ],
   "source": [
    "X = df_matrice_corr[[\"Adolescent_fertility_rate\", \"Value_anemia_non_pregnant\", \"Value_anemia_pregnant\", \"Business\"]]\n",
    "X = sm.add_constant(X) # une autre façon d'ajouter une constante \n",
    "y = df_matrice_corr[\"Value_gdp_2019\"]\n",
    "\n",
    "model = sm.OLS(y, X)\n",
    "results = model.fit()\n",
    "print(results.summary())"
   ]
  },
  {
   "cell_type": "markdown",
   "metadata": {},
   "source": [
    "Ces variables commencent à bien expliquer la variance totale du modèle (R^2=0,4)\n",
    "Tous les coefficients sont statistiquement significatifs au seuil de 5% sauf \"Value_anemia_non_pregnant\". \n",
    "\n",
    "ATTENTION à ne pas mettre trop de variables parasistes et trop fortement corrélées entre elles pour ne pas \"polluer\" le modèle."
   ]
  }
 ],
 "metadata": {
  "kernelspec": {
   "display_name": "Python 3",
   "language": "python",
   "name": "python3"
  },
  "language_info": {
   "codemirror_mode": {
    "name": "ipython",
    "version": 3
   },
   "file_extension": ".py",
   "mimetype": "text/x-python",
   "name": "python",
   "nbconvert_exporter": "python",
   "pygments_lexer": "ipython3",
   "version": "3.8.5"
  }
 },
 "nbformat": 4,
 "nbformat_minor": 4
}
